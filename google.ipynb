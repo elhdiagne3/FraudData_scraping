{
 "cells": [
  {
   "cell_type": "code",
   "execution_count": 13,
   "id": "8ff05136",
   "metadata": {},
   "outputs": [],
   "source": [
    "import plotly.express as px"
   ]
  },
  {
   "cell_type": "code",
   "execution_count": 31,
   "id": "5ff4bf07",
   "metadata": {},
   "outputs": [],
   "source": [
    "import requests\n",
    "from bs4 import BeautifulSoup\n",
    "header={'User-Agent':'Mozilla/5.0 (Windows NT 10.0; Win64; x64) AppleWebKit/537.36 (KHTML, like Gecko) Chrome/74.0.3729.169 Safari/537.36'}"
   ]
  },
  {
   "cell_type": "code",
   "execution_count": 65,
   "id": "a5e64091",
   "metadata": {
    "scrolled": false
   },
   "outputs": [
    {
     "name": "stdout",
     "output_type": "stream",
     "text": [
      "                                                 Title   \n",
      "0              Connexion internet gratuite Orange Mali  \\\n",
      "1    Internet gratuit illimité Orange Mali (Astuces...   \n",
      "2                                  Vpn gratuit au Mali   \n",
      "3       Comment avoir internet gratuit chez orangemali   \n",
      "4              la connection internet gratuite au mali   \n",
      "..                                                 ...   \n",
      "96   Average Fraud Detection Supervisor Salary in B...   \n",
      "97                                ASToN network's Post   \n",
      "98   Move from Fraud Detection to Fraud Prevention ...   \n",
      "99    Be on your guard: The rising risk of Data Frauds   \n",
      "100        Financial Fraud Prevention, Graph Analytics   \n",
      "\n",
      "                                                  Link   \n",
      "0     https://www.facebook.com/groups/373261044156562/  \\\n",
      "1    https://www.gb00tech.com/2020/12/internet-grat...   \n",
      "2    https://forums.commentcamarche.net/forum/affic...   \n",
      "3    https://forums.commentcamarche.net/forum/affic...   \n",
      "4                         http://laban.centerblog.net/   \n",
      "..                                                 ...   \n",
      "96   https://worldsalaries.com/average-fraud-detect...   \n",
      "97   https://ml.linkedin.com/posts/aston-network_ba...   \n",
      "98   http://www.teradata.fr/Solutions/Fraud-Prevention   \n",
      "99   https://www.subex.com/blog/be-on-your-guard-th...   \n",
      "100          https://graphaware.com/solutions/finance/   \n",
      "\n",
      "                  Description Date  \n",
      "0    No description available   []  \n",
      "1    No description available   []  \n",
      "2    No description available   []  \n",
      "3    No description available   []  \n",
      "4    No description available   []  \n",
      "..                        ...  ...  \n",
      "96   No description available   []  \n",
      "97   No description available   []  \n",
      "98   No description available   []  \n",
      "99   No description available   []  \n",
      "100  No description available   []  \n",
      "\n",
      "[101 rows x 4 columns]\n"
     ]
    }
   ],
   "source": [
    "import requests\n",
    "import pandas as pd\n",
    "from bs4 import BeautifulSoup\n",
    "\n",
    "queries = [\n",
    "    'forfait+gratuit+Mali+vpn',\n",
    "    'vpn+mali',\n",
    "    'anonytune_mali',\n",
    "    'yourFreedom+orange',\n",
    "    'internet_free+mali',\n",
    "    'host_orangemali',\n",
    "    'forfait+illimité+mali',\n",
    "    'connexion+gratuit+mali',\n",
    "    'tunnel+orange+Mali',\n",
    "    'pasdeforfaitinternetorange',\n",
    "    'apn+mali',\n",
    "    'fraud+data+mali'\n",
    "]\n",
    "\n",
    "all_results = []\n",
    "\n",
    "for query in queries:\n",
    "    url = f'https://www.google.com/search?q={query}'\n",
    "    headers = {\n",
    "        'User-Agent': 'Mozilla/5.0 (Windows NT 10.0; Win64; x64) AppleWebKit/537.36 (KHTML, like Gecko) Chrome/74.0.3729.169 Safari/537.36'\n",
    "    }\n",
    "    response = requests.get(url, headers=headers)\n",
    "\n",
    "    if response.status_code == 200:\n",
    "        soup = BeautifulSoup(response.content, 'html.parser')\n",
    "        results = []\n",
    "        for i in soup.findAll('time'):\n",
    "            if i.has_attr('datetime'):\n",
    "                print(i['datetime'])\n",
    "        for g in soup.find_all('div', {'class': 'tF2Cxc'}):\n",
    "            anchors = g.find_all('a', limit=100000)\n",
    "            if anchors:\n",
    "                title = anchors[0].find('h3').text\n",
    "                link = anchors[0]['href']\n",
    "                soup2 = BeautifulSoup(title)\n",
    "                dates = []\n",
    "                for i in soup2.findAll(title):\n",
    "                    if i.has_attr('datetime'):\n",
    "                        print(i['datetime'])\n",
    "                        dates.append(i['datetime'])\n",
    "                # Extracting date information if available\n",
    "                date_element = g.find('span', {'class': 'tddYDc'})\n",
    "                date = dates\n",
    "\n",
    "                description_elem = g.find('div', {'class': 'IsZvec'})\n",
    "                description = description_elem.text.strip() if description_elem else \"No description available\"\n",
    "\n",
    "                results.append([title, link, description, date])\n",
    "\n",
    "        all_results.extend(results)\n",
    "\n",
    "# Convert the results to a DataFrame\n",
    "df = pd.DataFrame(all_results, columns=['Title', 'Link', 'Description', 'Date'])\n",
    "\n",
    "# Save the DataFrame to a CSV file\n",
    "df.to_csv('serp.csv', index=False, encoding='utf-8')\n",
    "\n",
    "# Display the DataFrame\n",
    "print(df)\n"
   ]
  },
  {
   "cell_type": "code",
   "execution_count": 61,
   "id": "6f04675e",
   "metadata": {},
   "outputs": [],
   "source": [
    "import requests\n",
    "import pandas as pd\n",
    "from bs4 import BeautifulSoup\n",
    "\n",
    "queries = [\n",
    "    'forfait+gratuit+Mali+vpn',\n",
    "    'vpn+mali',\n",
    "    'anonytune_mali',\n",
    "    'yourFreedom+orange',\n",
    "    'internet_free+mali',\n",
    "    'host_orangemali',\n",
    "    'forfait+illimité+mali',\n",
    "    'connexion+gratuit+mali',\n",
    "    'tunnel+orange+Mali',\n",
    "    'pasdeforfaitinternetorange',\n",
    "    'apn+mali',\n",
    "    'fraud+data+mali'\n",
    "]\n",
    "\n",
    "all_results = []\n",
    "\n",
    "for query in queries:\n",
    "    url = f'https://www.google.com/search?q={query}'\n",
    "    headers = {\n",
    "        'User-Agent': 'Mozilla/5.0 (Windows NT 10.0; Win64; x64) AppleWebKit/537.36 (KHTML, like Gecko) Chrome/74.0.3729.169 Safari/537.36'\n",
    "    }\n",
    "    response = requests.get(url, headers=headers)\n",
    "\n",
    "    if response.status_code == 200:\n",
    "        soup = BeautifulSoup(response.content, 'html.parser')\n",
    "        results = []\n",
    "        for i in soup.findAll('time'):\n",
    "            if i.has_attr('datetime'):\n",
    "                print(i['datetime'])"
   ]
  },
  {
   "cell_type": "code",
   "execution_count": 67,
   "id": "46da3161",
   "metadata": {},
   "outputs": [
    {
     "data": {
      "text/plain": [
       "[]"
      ]
     },
     "execution_count": 67,
     "metadata": {},
     "output_type": "execute_result"
    }
   ],
   "source": [
    "date"
   ]
  },
  {
   "cell_type": "code",
   "execution_count": 34,
   "id": "f803dc7a",
   "metadata": {},
   "outputs": [
    {
     "data": {
      "text/plain": [
       "101"
      ]
     },
     "execution_count": 34,
     "metadata": {},
     "output_type": "execute_result"
    }
   ],
   "source": [
    "len(text)"
   ]
  },
  {
   "cell_type": "code",
   "execution_count": null,
   "id": "d45b4fcd",
   "metadata": {},
   "outputs": [],
   "source": [
    "import requests\n",
    "import pandas as pd\n",
    "from bs4 import BeautifulSoup\n",
    "text = []\n",
    "for query in [\n",
    "    'forfait+gratuit+Mali+vpn',\n",
    "    'vpn+mali',\n",
    "    'anonytune_mali',\n",
    "    'yourFreedom+orange',\n",
    "    'internet_free+mali',\n",
    "    'host_orangemali',\n",
    "    'forfait+illimité+mali',\n",
    "    'connexion+gratuit+mali',\n",
    "    'tunnel+orange+Mali',\n",
    "    'pasdeforfaitinternetorange', 'apn+mali', 'fraud+data+mali'\n",
    "] : \n",
    "    url = f'https://www.google.com/search?q={query}'\n",
    "    header={'User-Agent':'Mozilla/5.0 (Windows NT 10.0; Win64; x64) AppleWebKit/537.36 (KHTML, like Gecko) Chrome/74.0.3729.169 Safari/537.36'}\n",
    "    data = requests.get(url, headers=header)\n",
    "\n",
    "    if data.status_code == 200:\n",
    "        soup = BeautifulSoup(data.content, \"html.parser\")\n",
    "        results = []\n",
    "        for g in soup.find_all('div',  {'class':'g'}):\n",
    "            anchors = g.find_all('a')\n",
    "            if anchors:\n",
    "                #link = anchors[0]['href']\n",
    "                title = g.find('a').text\n",
    "                try:\n",
    "                    description = g.find('div', {'data-sncf':'2'}).text\n",
    "                    text_desc = text_info.find('div', attrs={'class':'card-content t-small bt p20'}).getText(strip=True)\n",
    "                except Exception as e:\n",
    "                    description = \"-\"\n",
    "                    text_desc = '-'\n",
    "            results.append(str(title)+\";\"+str(link)+';'+str(description)+';'+str(text_desc))\n",
    "\n",
    "    with open(\"serp.csv\", \"w\") as f:\n",
    "        f.write(\"Title; Link; Description\\n\")\n",
    "    for result in results:\n",
    "        with open(\"serp.csv\", \"a\", encoding=\"utf-8\") as f:\n",
    "            f.write(str(result)+\"\\n\")\n",
    "        print(result)\n",
    "        text.append(result)"
   ]
  },
  {
   "cell_type": "code",
   "execution_count": 16,
   "id": "243b405c",
   "metadata": {},
   "outputs": [
    {
     "name": "stdout",
     "output_type": "stream",
     "text": [
      "                                                Title   \n",
      "0             Connexion internet gratuite Orange Mali  \\\n",
      "1   Internet gratuit illimité Orange Mali (Astuces...   \n",
      "2                                 Vpn gratuit au Mali   \n",
      "3        Comment configurer internet sur votre mobile   \n",
      "4             la connection internet gratuite au mali   \n",
      "..                                                ...   \n",
      "95  Determinants of Customs Fraud and Corruption: ...   \n",
      "96  Average Fraud Detection Supervisor Salary in B...   \n",
      "97  Move from Fraud Detection to Fraud Prevention ...   \n",
      "98                               ASToN network's Post   \n",
      "99   Be on your guard: The rising risk of Data Frauds   \n",
      "\n",
      "                                                 Link   \n",
      "0    https://www.facebook.com/groups/373261044156562/  \\\n",
      "1   https://www.gb00tech.com/2020/12/internet-grat...   \n",
      "2   https://forums.commentcamarche.net/forum/affic...   \n",
      "3   https://www.orangemali.com/fr/comment-configur...   \n",
      "4                        http://laban.centerblog.net/   \n",
      "..                                                ...   \n",
      "95   https://ideas.repec.org/p/oec/devaaa/138-en.html   \n",
      "96  https://worldsalaries.com/average-fraud-detect...   \n",
      "97  http://www.teradata.fr/Solutions/Fraud-Prevention   \n",
      "98  https://ml.linkedin.com/posts/aston-network_ba...   \n",
      "99  https://www.subex.com/blog/be-on-your-guard-th...   \n",
      "\n",
      "                 Description  \n",
      "0   No description available  \n",
      "1   No description available  \n",
      "2   No description available  \n",
      "3   No description available  \n",
      "4   No description available  \n",
      "..                       ...  \n",
      "95  No description available  \n",
      "96  No description available  \n",
      "97  No description available  \n",
      "98  No description available  \n",
      "99  No description available  \n",
      "\n",
      "[100 rows x 3 columns]\n"
     ]
    }
   ],
   "source": [
    "import requests\n",
    "import pandas as pd\n",
    "from bs4 import BeautifulSoup\n",
    "\n",
    "queries = [\n",
    "    'forfait+gratuit+Mali+vpn',\n",
    "    'vpn+mali',\n",
    "    'anonytune_mali',\n",
    "    'yourFreedom+orange',\n",
    "    'internet_free+mali',\n",
    "    'host_orangemali',\n",
    "    'forfait+illimité+mali',\n",
    "    'connexion+gratuit+mali',\n",
    "    'tunnel+orange+Mali',\n",
    "     'pasdeforfaitinternetorange', 'apn+mali', 'fraud+data+mali'\n",
    "]\n",
    "\n",
    "all_results = []\n",
    "\n",
    "for query in queries:\n",
    "    url = f'https://www.google.com/search?q={query}'\n",
    "    header = {'User-Agent': 'Mozilla/5.0 (Windows NT 10.0; Win64; x64) AppleWebKit/537.36 (KHTML, like Gecko) Chrome/74.0.3729.169 Safari/537.36'}\n",
    "    data = requests.get(url, headers=header)\n",
    "\n",
    "    if data.status_code == 200:\n",
    "        soup = BeautifulSoup(data.content, 'html.parser')\n",
    "        results = []\n",
    "        for g in soup.find_all('div', {'class': 'tF2Cxc'}):\n",
    "            anchors = g.find_all('a')\n",
    "            if anchors:\n",
    "                title = anchors[0].find('h3').text\n",
    "                link = anchors[0]['href']\n",
    "                description_elem = g.find('div', {'class': 'IsZvec'})\n",
    "                description = description_elem.text if description_elem else \"No description available\"\n",
    "                results.append([title, link, description])\n",
    "\n",
    "        all_results.extend(results)\n",
    "\n",
    "# Convert the results to a DataFrame\n",
    "df = pd.DataFrame(all_results, columns=['Title', 'Link', 'Description'])\n",
    "\n",
    "# Save the DataFrame to a CSV file\n",
    "df.Title.to_csv('serp.csv', index=False, encoding='utf-8')\n",
    "\n",
    "# Display the DataFrame\n",
    "print(df)\n"
   ]
  },
  {
   "cell_type": "code",
   "execution_count": 18,
   "id": "b3c3502e",
   "metadata": {},
   "outputs": [
    {
     "name": "stderr",
     "output_type": "stream",
     "text": [
      "[nltk_data] Downloading package stopwords to\n",
      "[nltk_data]     C:\\Users\\diagne080894\\AppData\\Roaming\\nltk_data...\n",
      "[nltk_data]   Package stopwords is already up-to-date!\n",
      "[nltk_data] Downloading package punkt to\n",
      "[nltk_data]     C:\\Users\\diagne080894\\AppData\\Roaming\\nltk_data...\n",
      "[nltk_data]   Package punkt is already up-to-date!\n"
     ]
    }
   ],
   "source": [
    "from itertools import islice\n",
    "from nltk.tokenize import word_tokenize\n",
    "import nltk\n",
    "nltk.download('stopwords')\n",
    "nltk.download('punkt')\n",
    "from nltk.corpus import stopwords\n",
    "import pandas as pd\n",
    "import matplotlib.pyplot as plt\n",
    "\n",
    "def load_text(filename):\n",
    "    my_text = list()\n",
    "    with open(filename, encoding= \"utf-8\") as f:\n",
    "        for line in islice(f, 0, None):\n",
    "            my_text.append(line)\n",
    "    my_text = [word_tokenize(sentence) for sentence in my_text]\n",
    "    flat_list = [item for sublist in my_text for item in sublist]\n",
    "    return flat_list"
   ]
  },
  {
   "cell_type": "code",
   "execution_count": 19,
   "id": "a282a1c6",
   "metadata": {},
   "outputs": [
    {
     "data": {
      "text/plain": [
       "['Title',\n",
       " 'Connexion',\n",
       " 'internet',\n",
       " 'gratuite',\n",
       " 'Orange',\n",
       " 'Mali',\n",
       " 'Internet',\n",
       " 'gratuit',\n",
       " 'illimité',\n",
       " 'Orange',\n",
       " 'Mali',\n",
       " '(',\n",
       " 'Astuces',\n",
       " '2021',\n",
       " ')',\n",
       " 'Vpn',\n",
       " 'gratuit',\n",
       " 'au',\n",
       " 'Mali',\n",
       " 'Comment',\n",
       " 'configurer',\n",
       " 'internet',\n",
       " 'sur',\n",
       " 'votre',\n",
       " 'mobile',\n",
       " 'la',\n",
       " 'connection',\n",
       " 'internet',\n",
       " 'gratuite',\n",
       " 'au',\n",
       " 'mali',\n",
       " 'NOUVEAU',\n",
       " 'CONNECTION',\n",
       " 'GRATUIT',\n",
       " 'PAR',\n",
       " 'ORANGEMALI',\n",
       " 'Orange',\n",
       " 'Mali',\n",
       " 'Sugu',\n",
       " '–',\n",
       " 'Applications',\n",
       " 'sur',\n",
       " '...',\n",
       " 'Orange',\n",
       " 'Mali',\n",
       " '(',\n",
       " '@',\n",
       " 'Orange_Mali',\n",
       " ')',\n",
       " '/',\n",
       " 'X',\n",
       " '``',\n",
       " \"J'ai\",\n",
       " 'besoin',\n",
       " \"d'un\",\n",
       " 'vpn',\n",
       " 'gratuit',\n",
       " 'chez',\n",
       " 'orange',\n",
       " 'mali',\n",
       " ',',\n",
       " 'qui',\n",
       " 'block',\n",
       " '...',\n",
       " \"''\",\n",
       " 'VPN',\n",
       " 'pour',\n",
       " 'le',\n",
       " 'Mali',\n",
       " '-',\n",
       " 'Quel',\n",
       " 'est',\n",
       " 'le',\n",
       " 'Meilleur',\n",
       " '?',\n",
       " 'Meilleur',\n",
       " 'VPN',\n",
       " 'pour',\n",
       " 'le',\n",
       " 'Mali',\n",
       " '-',\n",
       " 'VPNMag',\n",
       " 'Mali',\n",
       " 'VPN',\n",
       " '-',\n",
       " 'Fast',\n",
       " 'Private',\n",
       " 'Proxy',\n",
       " '-',\n",
       " 'Apps',\n",
       " 'on',\n",
       " 'Google',\n",
       " 'Play',\n",
       " 'Mali',\n",
       " 'VPN',\n",
       " '-',\n",
       " 'Get',\n",
       " 'Fast',\n",
       " '&',\n",
       " 'Free',\n",
       " 'Mali',\n",
       " 'IP',\n",
       " 'APK',\n",
       " '-',\n",
       " 'Dernière',\n",
       " 'version',\n",
       " 'Get',\n",
       " 'the',\n",
       " 'Best',\n",
       " 'Mali',\n",
       " 'VPN',\n",
       " '|',\n",
       " 'Swift',\n",
       " 'and',\n",
       " 'Secure',\n",
       " 'Recrutement',\n",
       " 'VPN',\n",
       " '-',\n",
       " 'Mali',\n",
       " '``',\n",
       " 'LE',\n",
       " 'MALI',\n",
       " '-',\n",
       " 'Super',\n",
       " 'VPN',\n",
       " '-',\n",
       " 'Free',\n",
       " ',',\n",
       " 'Fast',\n",
       " ',',\n",
       " 'Secure',\n",
       " '&',\n",
       " 'Unlimited',\n",
       " '...',\n",
       " \"''\",\n",
       " 'CV',\n",
       " 'VPN',\n",
       " '-',\n",
       " 'Mali',\n",
       " 'Vpn',\n",
       " 'gratuit',\n",
       " 'au',\n",
       " 'Mali',\n",
       " 'comment',\n",
       " 'continuer',\n",
       " 'à',\n",
       " 'écouter',\n",
       " 'RFI',\n",
       " 'et',\n",
       " 'à',\n",
       " 'regarder',\n",
       " 'France',\n",
       " '24',\n",
       " '?',\n",
       " 'ACCUEIL',\n",
       " '-',\n",
       " 'Your-Freedom.net',\n",
       " 'COMPTE',\n",
       " '-',\n",
       " 'Your-Freedom.net',\n",
       " 'New',\n",
       " 'configuration',\n",
       " 'youfreedom',\n",
       " 'orange',\n",
       " 'ci',\n",
       " 'Nouveau',\n",
       " 'connection',\n",
       " 'gratuit',\n",
       " 'orange',\n",
       " 'mali',\n",
       " '-',\n",
       " 'your',\n",
       " 'freedom',\n",
       " '...',\n",
       " 'Télécharge',\n",
       " 'Your',\n",
       " 'Freedom',\n",
       " '20221027-01',\n",
       " 'pour',\n",
       " 'Android',\n",
       " 'Configuration',\n",
       " 'YOUR-FREEDOM',\n",
       " '(',\n",
       " 'gratis',\n",
       " ')',\n",
       " '-',\n",
       " 'net',\n",
       " 'gratuit',\n",
       " 'au',\n",
       " 'camer',\n",
       " 'New',\n",
       " 'internet',\n",
       " 'gratuit',\n",
       " 'orange',\n",
       " 'ci',\n",
       " 'et',\n",
       " 'mtn',\n",
       " 'ci',\n",
       " 'avec',\n",
       " 'yourfreedom',\n",
       " 'Yourfreedom',\n",
       " 'et',\n",
       " 'Orange',\n",
       " 'Mali',\n",
       " 'internet',\n",
       " 'gratuit',\n",
       " '-',\n",
       " 'WordPress.com',\n",
       " 'Hackers',\n",
       " \"d'Afrique\",\n",
       " '-',\n",
       " 'Configuration',\n",
       " 'de',\n",
       " 'your',\n",
       " 'freedom',\n",
       " 'Orange',\n",
       " 'CI',\n",
       " '...',\n",
       " 'Mali',\n",
       " '-',\n",
       " 'Page',\n",
       " '5',\n",
       " '``',\n",
       " 'Appeler',\n",
       " 'le',\n",
       " 'Mali',\n",
       " ':',\n",
       " 'indicatif',\n",
       " ',',\n",
       " 'forfaits',\n",
       " 'mobiles',\n",
       " 'et',\n",
       " 'box',\n",
       " 'internet',\n",
       " \"''\",\n",
       " 'Chaîne',\n",
       " 'Cherifla',\n",
       " 'TV',\n",
       " ':',\n",
       " 'numéro',\n",
       " 'pour',\n",
       " 'y',\n",
       " 'accéder',\n",
       " 'sur',\n",
       " 'sa',\n",
       " 'box',\n",
       " '...',\n",
       " 'Offres',\n",
       " 'Internet',\n",
       " '-',\n",
       " 'Free',\n",
       " '|',\n",
       " 'PDF',\n",
       " '|',\n",
       " 'Cyberespace',\n",
       " '|',\n",
       " 'Services',\n",
       " 'en',\n",
       " 'ligne',\n",
       " '``',\n",
       " 'Après',\n",
       " 'Internet',\n",
       " ',',\n",
       " 'Free',\n",
       " \"s'attaque\",\n",
       " 'au',\n",
       " 'mobile',\n",
       " \"''\",\n",
       " 'AT',\n",
       " 'Internet',\n",
       " \"'s\",\n",
       " 'free',\n",
       " 'digital',\n",
       " 'analytics',\n",
       " 'resources',\n",
       " 'Dicty',\n",
       " 'dans',\n",
       " \"l'App\",\n",
       " 'Store',\n",
       " '-',\n",
       " 'Apple',\n",
       " 'Mali-Mali',\n",
       " 'Beach',\n",
       " 'Resort',\n",
       " '|',\n",
       " 'Jetstar',\n",
       " 'Hotels',\n",
       " 'ns7.orangemali.net',\n",
       " '-',\n",
       " '41.73.96.51',\n",
       " '-',\n",
       " 'Nom',\n",
       " \"d'hôte\",\n",
       " '-',\n",
       " 'Host-Tools',\n",
       " 'Site',\n",
       " 'web',\n",
       " 'pour',\n",
       " 'www.orangemali.com',\n",
       " 'est',\n",
       " 'HORS',\n",
       " 'LIGNE',\n",
       " '``',\n",
       " '196.200.88.110',\n",
       " '|',\n",
       " 'ns6.orangemali.net',\n",
       " '-',\n",
       " 'Orange',\n",
       " 'Mali',\n",
       " 'SA',\n",
       " ',',\n",
       " 'Mali',\n",
       " \"''\",\n",
       " 'Orange',\n",
       " 'Mali',\n",
       " 'Sa',\n",
       " 'Hosting',\n",
       " 'IP',\n",
       " 'Abuse',\n",
       " 'Reports',\n",
       " 'for',\n",
       " '197.155.158.21',\n",
       " '-',\n",
       " 'Orange',\n",
       " 'Mali',\n",
       " 'SA',\n",
       " '``',\n",
       " 'Analyse',\n",
       " 'DNS',\n",
       " ',',\n",
       " 'MX',\n",
       " 'et',\n",
       " 'whois',\n",
       " 'du',\n",
       " 'domaine',\n",
       " 'www.orangemali',\n",
       " '.',\n",
       " '...',\n",
       " \"''\",\n",
       " 'Orangemali.com',\n",
       " '-',\n",
       " 'Détails',\n",
       " 'de',\n",
       " \"l'adresse\",\n",
       " 'de',\n",
       " 'domaine',\n",
       " 'Recherche',\n",
       " 'de',\n",
       " 'géolocalisation',\n",
       " '41.73.105.75',\n",
       " 'et',\n",
       " 'questions',\n",
       " '...',\n",
       " 'Accueil',\n",
       " 'Orange',\n",
       " 'Mali',\n",
       " 'Forfaits',\n",
       " 'mois',\n",
       " '|',\n",
       " 'Les',\n",
       " 'offres',\n",
       " 'Internet',\n",
       " 'mobile',\n",
       " 'Les',\n",
       " 'offres',\n",
       " 'Internet',\n",
       " 'mobile',\n",
       " 'Le',\n",
       " 'forfait',\n",
       " 'prépayé',\n",
       " 'Damou',\n",
       " 'de',\n",
       " 'Sotelma',\n",
       " \"L'Internet\",\n",
       " 'très',\n",
       " 'haut',\n",
       " 'débit',\n",
       " 'Mobile',\n",
       " '3G+',\n",
       " 'de',\n",
       " 'Malitel',\n",
       " '-',\n",
       " 'Bamako',\n",
       " 'Le',\n",
       " 'forfait',\n",
       " 'mobile',\n",
       " 'prépayé',\n",
       " 'Douman',\n",
       " 'de',\n",
       " 'Malitel',\n",
       " '``',\n",
       " 'Sotelma',\n",
       " ':',\n",
       " 'forfaits',\n",
       " 'téléphonie',\n",
       " 'mobile',\n",
       " ',',\n",
       " 'fixe',\n",
       " ',',\n",
       " 'adsl',\n",
       " 'wifi',\n",
       " 'et',\n",
       " '4G',\n",
       " 'au',\n",
       " 'Mali',\n",
       " \"''\",\n",
       " 'Internet',\n",
       " 'Orange',\n",
       " 'Mali',\n",
       " ':',\n",
       " 'recharger',\n",
       " 'votre',\n",
       " 'mobile',\n",
       " 'en',\n",
       " '1min',\n",
       " '!',\n",
       " 'Orange',\n",
       " '-',\n",
       " 'Profitez',\n",
       " 'de',\n",
       " 'la',\n",
       " 'promo',\n",
       " 'spéciale',\n",
       " \"So'Box\",\n",
       " 'Mobile',\n",
       " '&',\n",
       " '...',\n",
       " '``',\n",
       " 'Orange',\n",
       " 'France',\n",
       " ':',\n",
       " 'le',\n",
       " 'forfait',\n",
       " 'de',\n",
       " '70Go',\n",
       " 'est-il',\n",
       " 'cédé',\n",
       " 'à',\n",
       " '9,99',\n",
       " '...',\n",
       " '-',\n",
       " 'Le',\n",
       " 'Jalon',\n",
       " \"''\",\n",
       " 'Orange',\n",
       " 'Mali',\n",
       " '(',\n",
       " '@',\n",
       " 'Orange_Mali',\n",
       " ')',\n",
       " '/',\n",
       " 'X',\n",
       " 'Connexion',\n",
       " 'internet',\n",
       " 'gratuite',\n",
       " 'Orange',\n",
       " 'Mali',\n",
       " 'Connexion',\n",
       " 'Internet',\n",
       " 'Gratuit',\n",
       " 'Orange',\n",
       " 'Mali',\n",
       " 'Comment',\n",
       " 'activer',\n",
       " 'une',\n",
       " 'connexion',\n",
       " 'WiFi',\n",
       " 'Comment',\n",
       " 'avoir',\n",
       " 'internet',\n",
       " 'gratuit',\n",
       " 'chez',\n",
       " 'orangemali',\n",
       " 'connexion',\n",
       " 'gratuit',\n",
       " '2023',\n",
       " 'au',\n",
       " 'Mali',\n",
       " 'connexion',\n",
       " 'gratuit',\n",
       " 'orange',\n",
       " 'mali',\n",
       " '2023',\n",
       " 'Orange',\n",
       " 'Mali',\n",
       " 'Sugu',\n",
       " '–',\n",
       " 'Applications',\n",
       " 'sur',\n",
       " '...',\n",
       " 'Comment',\n",
       " 'active',\n",
       " 'webtunnel',\n",
       " 'avec',\n",
       " 'orange',\n",
       " 'mali',\n",
       " 'Comment',\n",
       " 'configurer',\n",
       " 'internet',\n",
       " 'sur',\n",
       " 'votre',\n",
       " 'mobile',\n",
       " 'Comment',\n",
       " 'connecter',\n",
       " 'Web',\n",
       " 'Tunnel',\n",
       " '–',\n",
       " 'ProDogons',\n",
       " 'CONNEXION',\n",
       " 'GRATUITE',\n",
       " 'VIA',\n",
       " 'ORANGE',\n",
       " 'MALI',\n",
       " 'Connexion',\n",
       " 'internet',\n",
       " 'gratuite',\n",
       " 'Orange',\n",
       " 'Mali',\n",
       " 'Mali',\n",
       " ':',\n",
       " 'UNTM-gouvernement',\n",
       " ':',\n",
       " 'Peut-être',\n",
       " 'le',\n",
       " 'bout',\n",
       " 'du',\n",
       " 'tunnel…',\n",
       " 'Mali',\n",
       " ':',\n",
       " 'Le',\n",
       " 'bout',\n",
       " 'du',\n",
       " 'tunnel',\n",
       " \"n'est\",\n",
       " 'pas',\n",
       " 'pour',\n",
       " 'demain',\n",
       " 'STABILISATION',\n",
       " 'DU',\n",
       " 'MALI',\n",
       " 'ET',\n",
       " 'DU',\n",
       " 'SAHEL',\n",
       " 'Sortir',\n",
       " 'de',\n",
       " 'la',\n",
       " '...',\n",
       " 'Offres',\n",
       " 'Internet',\n",
       " '-',\n",
       " 'Souscrire',\n",
       " 'aux',\n",
       " 'forfaits',\n",
       " 'Internet',\n",
       " 'mobiles',\n",
       " \"So'Box\",\n",
       " 'Mobile',\n",
       " '|',\n",
       " 'Les',\n",
       " 'offres',\n",
       " 'Internet',\n",
       " 'à',\n",
       " 'domicile',\n",
       " 'Orange',\n",
       " '-',\n",
       " 'Forfait',\n",
       " 'internet',\n",
       " 'épuisé',\n",
       " '?',\n",
       " 'Pas',\n",
       " 'de',\n",
       " 'panique',\n",
       " 'Pass',\n",
       " 'et',\n",
       " 'options',\n",
       " '+',\n",
       " \"d'internet\",\n",
       " 'pour',\n",
       " 'forfait',\n",
       " 'mobile',\n",
       " 'Pourquoi',\n",
       " 'Internet',\n",
       " 'ne',\n",
       " 'marche',\n",
       " 'pas',\n",
       " 'sur',\n",
       " 'mon',\n",
       " 'mobile',\n",
       " 'ou',\n",
       " 'tablette',\n",
       " 'Orange',\n",
       " '-',\n",
       " '200',\n",
       " '%',\n",
       " 'Pass',\n",
       " 'Internet',\n",
       " 'pour',\n",
       " 'bien',\n",
       " 'démarrer',\n",
       " 'la',\n",
       " '...',\n",
       " 'Internet',\n",
       " 'Orange',\n",
       " 'Mali',\n",
       " ':',\n",
       " 'recharger',\n",
       " 'votre',\n",
       " 'mobile',\n",
       " 'en',\n",
       " '1min',\n",
       " '!',\n",
       " '``',\n",
       " 'Avec',\n",
       " 'Orange',\n",
       " ',',\n",
       " 'composez',\n",
       " 'votre',\n",
       " 'offre',\n",
       " 'internet',\n",
       " 'et',\n",
       " 'mobile',\n",
       " 'à',\n",
       " 'la',\n",
       " '...',\n",
       " \"''\",\n",
       " 'Forfait',\n",
       " 'mobile',\n",
       " 'sans',\n",
       " 'internet',\n",
       " 'orange',\n",
       " 'Quels',\n",
       " 'sont',\n",
       " 'les',\n",
       " 'différents',\n",
       " 'canaux',\n",
       " 'pour',\n",
       " 'consulter',\n",
       " 'son',\n",
       " 'solde',\n",
       " '...',\n",
       " 'Comment',\n",
       " 'configurer',\n",
       " 'internet',\n",
       " 'sur',\n",
       " 'votre',\n",
       " 'mobile',\n",
       " 'Assistance',\n",
       " 'Configurer',\n",
       " 'mon',\n",
       " 'mobile',\n",
       " 'Assistance',\n",
       " 'Configuration',\n",
       " 'Internet',\n",
       " 'Orange',\n",
       " 'Mali',\n",
       " '-',\n",
       " '4G',\n",
       " 'LTE',\n",
       " '5G',\n",
       " 'APN',\n",
       " '-',\n",
       " 'MX',\n",
       " 'Wiki',\n",
       " 'guide',\n",
       " 'de',\n",
       " \"l'assurance\",\n",
       " 'volontaire.pdf',\n",
       " '-',\n",
       " 'eRegulations',\n",
       " 'FAQ',\n",
       " '-',\n",
       " 'Telecel',\n",
       " 'Orange',\n",
       " 'Mali',\n",
       " 'APN',\n",
       " 'Settings',\n",
       " '2023',\n",
       " 'Orange',\n",
       " 'Mali',\n",
       " 'APN',\n",
       " 'settings',\n",
       " 'for',\n",
       " 'Android',\n",
       " 'Moussa',\n",
       " 'Nimaga',\n",
       " '-',\n",
       " '#',\n",
       " 'Mali',\n",
       " ':',\n",
       " 'Le',\n",
       " 'syndicat',\n",
       " 'de',\n",
       " 'police',\n",
       " '#',\n",
       " 'APN',\n",
       " 'se',\n",
       " '...',\n",
       " 'coopi',\n",
       " '–',\n",
       " 'cooperazione',\n",
       " 'internazionale',\n",
       " '-',\n",
       " 'Bamako',\n",
       " 'Offre',\n",
       " \"d'emploi\",\n",
       " 'Mali',\n",
       " ':',\n",
       " 'Head',\n",
       " 'Of',\n",
       " 'Fraud',\n",
       " 'Risk',\n",
       " '-',\n",
       " 'Bamako',\n",
       " 'Fraud',\n",
       " 'Awareness',\n",
       " '-',\n",
       " 'Mali',\n",
       " 'Determinants',\n",
       " 'of',\n",
       " 'customs',\n",
       " 'fraud',\n",
       " 'and',\n",
       " 'corruption',\n",
       " '-',\n",
       " 'Etico',\n",
       " '-',\n",
       " 'UNESCO',\n",
       " 'Determinants',\n",
       " 'of',\n",
       " 'customs',\n",
       " 'fraud',\n",
       " 'and',\n",
       " 'corruption',\n",
       " ':',\n",
       " 'evidence',\n",
       " 'from',\n",
       " '...',\n",
       " '5',\n",
       " 'Steps',\n",
       " 'to',\n",
       " 'Prevent',\n",
       " '&',\n",
       " 'Detect',\n",
       " 'Fraud',\n",
       " 'Using',\n",
       " 'Data',\n",
       " 'Analytics',\n",
       " 'Determinants',\n",
       " 'of',\n",
       " 'Customs',\n",
       " 'Fraud',\n",
       " 'and',\n",
       " 'Corruption',\n",
       " ':',\n",
       " 'Evidence',\n",
       " '...',\n",
       " 'Average',\n",
       " 'Fraud',\n",
       " 'Detection',\n",
       " 'Supervisor',\n",
       " 'Salary',\n",
       " 'in',\n",
       " 'Bamako',\n",
       " '...',\n",
       " 'Move',\n",
       " 'from',\n",
       " 'Fraud',\n",
       " 'Detection',\n",
       " 'to',\n",
       " 'Fraud',\n",
       " 'Prevention',\n",
       " '|',\n",
       " 'Teradata',\n",
       " 'ASToN',\n",
       " 'network',\n",
       " \"'s\",\n",
       " 'Post',\n",
       " 'Be',\n",
       " 'on',\n",
       " 'your',\n",
       " 'guard',\n",
       " ':',\n",
       " 'The',\n",
       " 'rising',\n",
       " 'risk',\n",
       " 'of',\n",
       " 'Data',\n",
       " 'Frauds']"
      ]
     },
     "execution_count": 19,
     "metadata": {},
     "output_type": "execute_result"
    }
   ],
   "source": [
    "goog = load_text('serp.csv')\n",
    "goog"
   ]
  },
  {
   "cell_type": "code",
   "execution_count": 20,
   "id": "8a0628f5",
   "metadata": {},
   "outputs": [],
   "source": [
    "def prepare_text(list_of_words):\n",
    "  #load stopwords:\n",
    "  stops = stopwords.words('english')\n",
    "  #transform all word characters to lower case:\n",
    "  list_of_words = [word.lower() for word in list_of_words]\n",
    "  #remove all words containing up to two characters:\n",
    "  list_of_words = [word for word in list_of_words if len(word)>2]\n",
    "  #remove stopwords:\n",
    "  list_of_words = [word for word in list_of_words if word not in stops]\n",
    "  return list_of_words"
   ]
  },
  {
   "cell_type": "code",
   "execution_count": 21,
   "id": "937f61d5",
   "metadata": {},
   "outputs": [
    {
     "data": {
      "text/plain": [
       "['title',\n",
       " 'connexion',\n",
       " 'internet',\n",
       " 'gratuite',\n",
       " 'orange',\n",
       " 'mali',\n",
       " 'internet',\n",
       " 'gratuit',\n",
       " 'illimité',\n",
       " 'orange',\n",
       " 'mali',\n",
       " 'astuces',\n",
       " '2021',\n",
       " 'vpn',\n",
       " 'gratuit',\n",
       " 'mali',\n",
       " 'comment',\n",
       " 'configurer',\n",
       " 'internet',\n",
       " 'sur',\n",
       " 'votre',\n",
       " 'mobile',\n",
       " 'connection',\n",
       " 'internet',\n",
       " 'gratuite',\n",
       " 'mali',\n",
       " 'nouveau',\n",
       " 'connection',\n",
       " 'gratuit',\n",
       " 'par',\n",
       " 'orangemali',\n",
       " 'orange',\n",
       " 'mali',\n",
       " 'sugu',\n",
       " 'applications',\n",
       " 'sur',\n",
       " '...',\n",
       " 'orange',\n",
       " 'mali',\n",
       " 'orange_mali',\n",
       " \"j'ai\",\n",
       " 'besoin',\n",
       " \"d'un\",\n",
       " 'vpn',\n",
       " 'gratuit',\n",
       " 'chez',\n",
       " 'orange',\n",
       " 'mali',\n",
       " 'qui',\n",
       " 'block',\n",
       " '...',\n",
       " 'vpn',\n",
       " 'pour',\n",
       " 'mali',\n",
       " 'quel',\n",
       " 'est',\n",
       " 'meilleur',\n",
       " 'meilleur',\n",
       " 'vpn',\n",
       " 'pour',\n",
       " 'mali',\n",
       " 'vpnmag',\n",
       " 'mali',\n",
       " 'vpn',\n",
       " 'fast',\n",
       " 'private',\n",
       " 'proxy',\n",
       " 'apps',\n",
       " 'google',\n",
       " 'play',\n",
       " 'mali',\n",
       " 'vpn',\n",
       " 'get',\n",
       " 'fast',\n",
       " 'free',\n",
       " 'mali',\n",
       " 'apk',\n",
       " 'dernière',\n",
       " 'version',\n",
       " 'get',\n",
       " 'best',\n",
       " 'mali',\n",
       " 'vpn',\n",
       " 'swift',\n",
       " 'secure',\n",
       " 'recrutement',\n",
       " 'vpn',\n",
       " 'mali',\n",
       " 'mali',\n",
       " 'super',\n",
       " 'vpn',\n",
       " 'free',\n",
       " 'fast',\n",
       " 'secure',\n",
       " 'unlimited',\n",
       " '...',\n",
       " 'vpn',\n",
       " 'mali',\n",
       " 'vpn',\n",
       " 'gratuit',\n",
       " 'mali',\n",
       " 'comment',\n",
       " 'continuer',\n",
       " 'écouter',\n",
       " 'rfi',\n",
       " 'regarder',\n",
       " 'france',\n",
       " 'accueil',\n",
       " 'your-freedom.net',\n",
       " 'compte',\n",
       " 'your-freedom.net',\n",
       " 'new',\n",
       " 'configuration',\n",
       " 'youfreedom',\n",
       " 'orange',\n",
       " 'nouveau',\n",
       " 'connection',\n",
       " 'gratuit',\n",
       " 'orange',\n",
       " 'mali',\n",
       " 'freedom',\n",
       " '...',\n",
       " 'télécharge',\n",
       " 'freedom',\n",
       " '20221027-01',\n",
       " 'pour',\n",
       " 'android',\n",
       " 'configuration',\n",
       " 'your-freedom',\n",
       " 'gratis',\n",
       " 'net',\n",
       " 'gratuit',\n",
       " 'camer',\n",
       " 'new',\n",
       " 'internet',\n",
       " 'gratuit',\n",
       " 'orange',\n",
       " 'mtn',\n",
       " 'avec',\n",
       " 'yourfreedom',\n",
       " 'yourfreedom',\n",
       " 'orange',\n",
       " 'mali',\n",
       " 'internet',\n",
       " 'gratuit',\n",
       " 'wordpress.com',\n",
       " 'hackers',\n",
       " \"d'afrique\",\n",
       " 'configuration',\n",
       " 'freedom',\n",
       " 'orange',\n",
       " '...',\n",
       " 'mali',\n",
       " 'page',\n",
       " 'appeler',\n",
       " 'mali',\n",
       " 'indicatif',\n",
       " 'forfaits',\n",
       " 'mobiles',\n",
       " 'box',\n",
       " 'internet',\n",
       " 'chaîne',\n",
       " 'cherifla',\n",
       " 'numéro',\n",
       " 'pour',\n",
       " 'accéder',\n",
       " 'sur',\n",
       " 'box',\n",
       " '...',\n",
       " 'offres',\n",
       " 'internet',\n",
       " 'free',\n",
       " 'pdf',\n",
       " 'cyberespace',\n",
       " 'services',\n",
       " 'ligne',\n",
       " 'après',\n",
       " 'internet',\n",
       " 'free',\n",
       " \"s'attaque\",\n",
       " 'mobile',\n",
       " 'internet',\n",
       " 'free',\n",
       " 'digital',\n",
       " 'analytics',\n",
       " 'resources',\n",
       " 'dicty',\n",
       " 'dans',\n",
       " \"l'app\",\n",
       " 'store',\n",
       " 'apple',\n",
       " 'mali-mali',\n",
       " 'beach',\n",
       " 'resort',\n",
       " 'jetstar',\n",
       " 'hotels',\n",
       " 'ns7.orangemali.net',\n",
       " '41.73.96.51',\n",
       " 'nom',\n",
       " \"d'hôte\",\n",
       " 'host-tools',\n",
       " 'site',\n",
       " 'web',\n",
       " 'pour',\n",
       " 'www.orangemali.com',\n",
       " 'est',\n",
       " 'hors',\n",
       " 'ligne',\n",
       " '196.200.88.110',\n",
       " 'ns6.orangemali.net',\n",
       " 'orange',\n",
       " 'mali',\n",
       " 'mali',\n",
       " 'orange',\n",
       " 'mali',\n",
       " 'hosting',\n",
       " 'abuse',\n",
       " 'reports',\n",
       " '197.155.158.21',\n",
       " 'orange',\n",
       " 'mali',\n",
       " 'analyse',\n",
       " 'dns',\n",
       " 'whois',\n",
       " 'domaine',\n",
       " 'www.orangemali',\n",
       " '...',\n",
       " 'orangemali.com',\n",
       " 'détails',\n",
       " \"l'adresse\",\n",
       " 'domaine',\n",
       " 'recherche',\n",
       " 'géolocalisation',\n",
       " '41.73.105.75',\n",
       " 'questions',\n",
       " '...',\n",
       " 'accueil',\n",
       " 'orange',\n",
       " 'mali',\n",
       " 'forfaits',\n",
       " 'mois',\n",
       " 'les',\n",
       " 'offres',\n",
       " 'internet',\n",
       " 'mobile',\n",
       " 'les',\n",
       " 'offres',\n",
       " 'internet',\n",
       " 'mobile',\n",
       " 'forfait',\n",
       " 'prépayé',\n",
       " 'damou',\n",
       " 'sotelma',\n",
       " \"l'internet\",\n",
       " 'très',\n",
       " 'haut',\n",
       " 'débit',\n",
       " 'mobile',\n",
       " '3g+',\n",
       " 'malitel',\n",
       " 'bamako',\n",
       " 'forfait',\n",
       " 'mobile',\n",
       " 'prépayé',\n",
       " 'douman',\n",
       " 'malitel',\n",
       " 'sotelma',\n",
       " 'forfaits',\n",
       " 'téléphonie',\n",
       " 'mobile',\n",
       " 'fixe',\n",
       " 'adsl',\n",
       " 'wifi',\n",
       " 'mali',\n",
       " 'internet',\n",
       " 'orange',\n",
       " 'mali',\n",
       " 'recharger',\n",
       " 'votre',\n",
       " 'mobile',\n",
       " '1min',\n",
       " 'orange',\n",
       " 'profitez',\n",
       " 'promo',\n",
       " 'spéciale',\n",
       " \"so'box\",\n",
       " 'mobile',\n",
       " '...',\n",
       " 'orange',\n",
       " 'france',\n",
       " 'forfait',\n",
       " '70go',\n",
       " 'est-il',\n",
       " 'cédé',\n",
       " '9,99',\n",
       " '...',\n",
       " 'jalon',\n",
       " 'orange',\n",
       " 'mali',\n",
       " 'orange_mali',\n",
       " 'connexion',\n",
       " 'internet',\n",
       " 'gratuite',\n",
       " 'orange',\n",
       " 'mali',\n",
       " 'connexion',\n",
       " 'internet',\n",
       " 'gratuit',\n",
       " 'orange',\n",
       " 'mali',\n",
       " 'comment',\n",
       " 'activer',\n",
       " 'une',\n",
       " 'connexion',\n",
       " 'wifi',\n",
       " 'comment',\n",
       " 'avoir',\n",
       " 'internet',\n",
       " 'gratuit',\n",
       " 'chez',\n",
       " 'orangemali',\n",
       " 'connexion',\n",
       " 'gratuit',\n",
       " '2023',\n",
       " 'mali',\n",
       " 'connexion',\n",
       " 'gratuit',\n",
       " 'orange',\n",
       " 'mali',\n",
       " '2023',\n",
       " 'orange',\n",
       " 'mali',\n",
       " 'sugu',\n",
       " 'applications',\n",
       " 'sur',\n",
       " '...',\n",
       " 'comment',\n",
       " 'active',\n",
       " 'webtunnel',\n",
       " 'avec',\n",
       " 'orange',\n",
       " 'mali',\n",
       " 'comment',\n",
       " 'configurer',\n",
       " 'internet',\n",
       " 'sur',\n",
       " 'votre',\n",
       " 'mobile',\n",
       " 'comment',\n",
       " 'connecter',\n",
       " 'web',\n",
       " 'tunnel',\n",
       " 'prodogons',\n",
       " 'connexion',\n",
       " 'gratuite',\n",
       " 'via',\n",
       " 'orange',\n",
       " 'mali',\n",
       " 'connexion',\n",
       " 'internet',\n",
       " 'gratuite',\n",
       " 'orange',\n",
       " 'mali',\n",
       " 'mali',\n",
       " 'untm-gouvernement',\n",
       " 'peut-être',\n",
       " 'bout',\n",
       " 'tunnel…',\n",
       " 'mali',\n",
       " 'bout',\n",
       " 'tunnel',\n",
       " \"n'est\",\n",
       " 'pas',\n",
       " 'pour',\n",
       " 'demain',\n",
       " 'stabilisation',\n",
       " 'mali',\n",
       " 'sahel',\n",
       " 'sortir',\n",
       " '...',\n",
       " 'offres',\n",
       " 'internet',\n",
       " 'souscrire',\n",
       " 'aux',\n",
       " 'forfaits',\n",
       " 'internet',\n",
       " 'mobiles',\n",
       " \"so'box\",\n",
       " 'mobile',\n",
       " 'les',\n",
       " 'offres',\n",
       " 'internet',\n",
       " 'domicile',\n",
       " 'orange',\n",
       " 'forfait',\n",
       " 'internet',\n",
       " 'épuisé',\n",
       " 'pas',\n",
       " 'panique',\n",
       " 'pass',\n",
       " 'options',\n",
       " \"d'internet\",\n",
       " 'pour',\n",
       " 'forfait',\n",
       " 'mobile',\n",
       " 'pourquoi',\n",
       " 'internet',\n",
       " 'marche',\n",
       " 'pas',\n",
       " 'sur',\n",
       " 'mon',\n",
       " 'mobile',\n",
       " 'tablette',\n",
       " 'orange',\n",
       " '200',\n",
       " 'pass',\n",
       " 'internet',\n",
       " 'pour',\n",
       " 'bien',\n",
       " 'démarrer',\n",
       " '...',\n",
       " 'internet',\n",
       " 'orange',\n",
       " 'mali',\n",
       " 'recharger',\n",
       " 'votre',\n",
       " 'mobile',\n",
       " '1min',\n",
       " 'avec',\n",
       " 'orange',\n",
       " 'composez',\n",
       " 'votre',\n",
       " 'offre',\n",
       " 'internet',\n",
       " 'mobile',\n",
       " '...',\n",
       " 'forfait',\n",
       " 'mobile',\n",
       " 'sans',\n",
       " 'internet',\n",
       " 'orange',\n",
       " 'quels',\n",
       " 'sont',\n",
       " 'les',\n",
       " 'différents',\n",
       " 'canaux',\n",
       " 'pour',\n",
       " 'consulter',\n",
       " 'son',\n",
       " 'solde',\n",
       " '...',\n",
       " 'comment',\n",
       " 'configurer',\n",
       " 'internet',\n",
       " 'sur',\n",
       " 'votre',\n",
       " 'mobile',\n",
       " 'assistance',\n",
       " 'configurer',\n",
       " 'mon',\n",
       " 'mobile',\n",
       " 'assistance',\n",
       " 'configuration',\n",
       " 'internet',\n",
       " 'orange',\n",
       " 'mali',\n",
       " 'lte',\n",
       " 'apn',\n",
       " 'wiki',\n",
       " 'guide',\n",
       " \"l'assurance\",\n",
       " 'volontaire.pdf',\n",
       " 'eregulations',\n",
       " 'faq',\n",
       " 'telecel',\n",
       " 'orange',\n",
       " 'mali',\n",
       " 'apn',\n",
       " 'settings',\n",
       " '2023',\n",
       " 'orange',\n",
       " 'mali',\n",
       " 'apn',\n",
       " 'settings',\n",
       " 'android',\n",
       " 'moussa',\n",
       " 'nimaga',\n",
       " 'mali',\n",
       " 'syndicat',\n",
       " 'police',\n",
       " 'apn',\n",
       " '...',\n",
       " 'coopi',\n",
       " 'cooperazione',\n",
       " 'internazionale',\n",
       " 'bamako',\n",
       " 'offre',\n",
       " \"d'emploi\",\n",
       " 'mali',\n",
       " 'head',\n",
       " 'fraud',\n",
       " 'risk',\n",
       " 'bamako',\n",
       " 'fraud',\n",
       " 'awareness',\n",
       " 'mali',\n",
       " 'determinants',\n",
       " 'customs',\n",
       " 'fraud',\n",
       " 'corruption',\n",
       " 'etico',\n",
       " 'unesco',\n",
       " 'determinants',\n",
       " 'customs',\n",
       " 'fraud',\n",
       " 'corruption',\n",
       " 'evidence',\n",
       " '...',\n",
       " 'steps',\n",
       " 'prevent',\n",
       " 'detect',\n",
       " 'fraud',\n",
       " 'using',\n",
       " 'data',\n",
       " 'analytics',\n",
       " 'determinants',\n",
       " 'customs',\n",
       " 'fraud',\n",
       " 'corruption',\n",
       " 'evidence',\n",
       " '...',\n",
       " 'average',\n",
       " 'fraud',\n",
       " 'detection',\n",
       " 'supervisor',\n",
       " 'salary',\n",
       " 'bamako',\n",
       " '...',\n",
       " 'move',\n",
       " 'fraud',\n",
       " 'detection',\n",
       " 'fraud',\n",
       " 'prevention',\n",
       " 'teradata',\n",
       " 'aston',\n",
       " 'network',\n",
       " 'post',\n",
       " 'guard',\n",
       " 'rising',\n",
       " 'risk',\n",
       " 'data',\n",
       " 'frauds']"
      ]
     },
     "execution_count": 21,
     "metadata": {},
     "output_type": "execute_result"
    }
   ],
   "source": [
    "goog_process = prepare_text(goog)\n",
    "goog_process"
   ]
  },
  {
   "cell_type": "code",
   "execution_count": 22,
   "id": "f43b7900",
   "metadata": {},
   "outputs": [],
   "source": [
    "########Function to count of words\n",
    "unique_words = []\n",
    "counts = []\n",
    "def count_freq(my_list) : \n",
    "    for word in my_list : \n",
    "        if word not in unique_words : \n",
    "            unique_words.append(word) \n",
    "    for i in unique_words : \n",
    "        count = 0\n",
    "        for j in my_list :\n",
    "            if i == j :\n",
    "                count+=1\n",
    "        counts.append(count)\n",
    "    df = pd.DataFrame({\"word\": unique_words, \"count\": counts})\n",
    "    df.sort_values(by=\"count\", inplace = True, ascending = False)\n",
    "    df.reset_index(drop=True, inplace = True)\n",
    "    return df"
   ]
  },
  {
   "cell_type": "code",
   "execution_count": 23,
   "id": "50a5e64f",
   "metadata": {},
   "outputs": [],
   "source": [
    "goog_process = count_freq(goog_process)\n",
    "goog_process = goog_process.iloc[:10]"
   ]
  },
  {
   "cell_type": "code",
   "execution_count": 24,
   "id": "2ca6b1f1",
   "metadata": {},
   "outputs": [
    {
     "ename": "PermissionError",
     "evalue": "[Errno 13] Permission denied: 'goog_process.csv'",
     "output_type": "error",
     "traceback": [
      "\u001b[1;31m---------------------------------------------------------------------------\u001b[0m",
      "\u001b[1;31mPermissionError\u001b[0m                           Traceback (most recent call last)",
      "Cell \u001b[1;32mIn[24], line 1\u001b[0m\n\u001b[1;32m----> 1\u001b[0m \u001b[43mgoog_process\u001b[49m\u001b[38;5;241;43m.\u001b[39;49m\u001b[43mto_csv\u001b[49m\u001b[43m(\u001b[49m\u001b[38;5;124;43m'\u001b[39;49m\u001b[38;5;124;43mgoog_process.csv\u001b[39;49m\u001b[38;5;124;43m'\u001b[39;49m\u001b[43m)\u001b[49m\n",
      "File \u001b[1;32m~\\Documents\\Min\\envs\\pyenv1\\lib\\site-packages\\pandas\\core\\generic.py:3772\u001b[0m, in \u001b[0;36mNDFrame.to_csv\u001b[1;34m(self, path_or_buf, sep, na_rep, float_format, columns, header, index, index_label, mode, encoding, compression, quoting, quotechar, lineterminator, chunksize, date_format, doublequote, escapechar, decimal, errors, storage_options)\u001b[0m\n\u001b[0;32m   3761\u001b[0m df \u001b[38;5;241m=\u001b[39m \u001b[38;5;28mself\u001b[39m \u001b[38;5;28;01mif\u001b[39;00m \u001b[38;5;28misinstance\u001b[39m(\u001b[38;5;28mself\u001b[39m, ABCDataFrame) \u001b[38;5;28;01melse\u001b[39;00m \u001b[38;5;28mself\u001b[39m\u001b[38;5;241m.\u001b[39mto_frame()\n\u001b[0;32m   3763\u001b[0m formatter \u001b[38;5;241m=\u001b[39m DataFrameFormatter(\n\u001b[0;32m   3764\u001b[0m     frame\u001b[38;5;241m=\u001b[39mdf,\n\u001b[0;32m   3765\u001b[0m     header\u001b[38;5;241m=\u001b[39mheader,\n\u001b[1;32m   (...)\u001b[0m\n\u001b[0;32m   3769\u001b[0m     decimal\u001b[38;5;241m=\u001b[39mdecimal,\n\u001b[0;32m   3770\u001b[0m )\n\u001b[1;32m-> 3772\u001b[0m \u001b[38;5;28;01mreturn\u001b[39;00m \u001b[43mDataFrameRenderer\u001b[49m\u001b[43m(\u001b[49m\u001b[43mformatter\u001b[49m\u001b[43m)\u001b[49m\u001b[38;5;241;43m.\u001b[39;49m\u001b[43mto_csv\u001b[49m\u001b[43m(\u001b[49m\n\u001b[0;32m   3773\u001b[0m \u001b[43m    \u001b[49m\u001b[43mpath_or_buf\u001b[49m\u001b[43m,\u001b[49m\n\u001b[0;32m   3774\u001b[0m \u001b[43m    \u001b[49m\u001b[43mlineterminator\u001b[49m\u001b[38;5;241;43m=\u001b[39;49m\u001b[43mlineterminator\u001b[49m\u001b[43m,\u001b[49m\n\u001b[0;32m   3775\u001b[0m \u001b[43m    \u001b[49m\u001b[43msep\u001b[49m\u001b[38;5;241;43m=\u001b[39;49m\u001b[43msep\u001b[49m\u001b[43m,\u001b[49m\n\u001b[0;32m   3776\u001b[0m \u001b[43m    \u001b[49m\u001b[43mencoding\u001b[49m\u001b[38;5;241;43m=\u001b[39;49m\u001b[43mencoding\u001b[49m\u001b[43m,\u001b[49m\n\u001b[0;32m   3777\u001b[0m \u001b[43m    \u001b[49m\u001b[43merrors\u001b[49m\u001b[38;5;241;43m=\u001b[39;49m\u001b[43merrors\u001b[49m\u001b[43m,\u001b[49m\n\u001b[0;32m   3778\u001b[0m \u001b[43m    \u001b[49m\u001b[43mcompression\u001b[49m\u001b[38;5;241;43m=\u001b[39;49m\u001b[43mcompression\u001b[49m\u001b[43m,\u001b[49m\n\u001b[0;32m   3779\u001b[0m \u001b[43m    \u001b[49m\u001b[43mquoting\u001b[49m\u001b[38;5;241;43m=\u001b[39;49m\u001b[43mquoting\u001b[49m\u001b[43m,\u001b[49m\n\u001b[0;32m   3780\u001b[0m \u001b[43m    \u001b[49m\u001b[43mcolumns\u001b[49m\u001b[38;5;241;43m=\u001b[39;49m\u001b[43mcolumns\u001b[49m\u001b[43m,\u001b[49m\n\u001b[0;32m   3781\u001b[0m \u001b[43m    \u001b[49m\u001b[43mindex_label\u001b[49m\u001b[38;5;241;43m=\u001b[39;49m\u001b[43mindex_label\u001b[49m\u001b[43m,\u001b[49m\n\u001b[0;32m   3782\u001b[0m \u001b[43m    \u001b[49m\u001b[43mmode\u001b[49m\u001b[38;5;241;43m=\u001b[39;49m\u001b[43mmode\u001b[49m\u001b[43m,\u001b[49m\n\u001b[0;32m   3783\u001b[0m \u001b[43m    \u001b[49m\u001b[43mchunksize\u001b[49m\u001b[38;5;241;43m=\u001b[39;49m\u001b[43mchunksize\u001b[49m\u001b[43m,\u001b[49m\n\u001b[0;32m   3784\u001b[0m \u001b[43m    \u001b[49m\u001b[43mquotechar\u001b[49m\u001b[38;5;241;43m=\u001b[39;49m\u001b[43mquotechar\u001b[49m\u001b[43m,\u001b[49m\n\u001b[0;32m   3785\u001b[0m \u001b[43m    \u001b[49m\u001b[43mdate_format\u001b[49m\u001b[38;5;241;43m=\u001b[39;49m\u001b[43mdate_format\u001b[49m\u001b[43m,\u001b[49m\n\u001b[0;32m   3786\u001b[0m \u001b[43m    \u001b[49m\u001b[43mdoublequote\u001b[49m\u001b[38;5;241;43m=\u001b[39;49m\u001b[43mdoublequote\u001b[49m\u001b[43m,\u001b[49m\n\u001b[0;32m   3787\u001b[0m \u001b[43m    \u001b[49m\u001b[43mescapechar\u001b[49m\u001b[38;5;241;43m=\u001b[39;49m\u001b[43mescapechar\u001b[49m\u001b[43m,\u001b[49m\n\u001b[0;32m   3788\u001b[0m \u001b[43m    \u001b[49m\u001b[43mstorage_options\u001b[49m\u001b[38;5;241;43m=\u001b[39;49m\u001b[43mstorage_options\u001b[49m\u001b[43m,\u001b[49m\n\u001b[0;32m   3789\u001b[0m \u001b[43m\u001b[49m\u001b[43m)\u001b[49m\n",
      "File \u001b[1;32m~\\Documents\\Min\\envs\\pyenv1\\lib\\site-packages\\pandas\\io\\formats\\format.py:1186\u001b[0m, in \u001b[0;36mDataFrameRenderer.to_csv\u001b[1;34m(self, path_or_buf, encoding, sep, columns, index_label, mode, compression, quoting, quotechar, lineterminator, chunksize, date_format, doublequote, escapechar, errors, storage_options)\u001b[0m\n\u001b[0;32m   1165\u001b[0m     created_buffer \u001b[38;5;241m=\u001b[39m \u001b[38;5;28;01mFalse\u001b[39;00m\n\u001b[0;32m   1167\u001b[0m csv_formatter \u001b[38;5;241m=\u001b[39m CSVFormatter(\n\u001b[0;32m   1168\u001b[0m     path_or_buf\u001b[38;5;241m=\u001b[39mpath_or_buf,\n\u001b[0;32m   1169\u001b[0m     lineterminator\u001b[38;5;241m=\u001b[39mlineterminator,\n\u001b[1;32m   (...)\u001b[0m\n\u001b[0;32m   1184\u001b[0m     formatter\u001b[38;5;241m=\u001b[39m\u001b[38;5;28mself\u001b[39m\u001b[38;5;241m.\u001b[39mfmt,\n\u001b[0;32m   1185\u001b[0m )\n\u001b[1;32m-> 1186\u001b[0m \u001b[43mcsv_formatter\u001b[49m\u001b[38;5;241;43m.\u001b[39;49m\u001b[43msave\u001b[49m\u001b[43m(\u001b[49m\u001b[43m)\u001b[49m\n\u001b[0;32m   1188\u001b[0m \u001b[38;5;28;01mif\u001b[39;00m created_buffer:\n\u001b[0;32m   1189\u001b[0m     \u001b[38;5;28;01massert\u001b[39;00m \u001b[38;5;28misinstance\u001b[39m(path_or_buf, StringIO)\n",
      "File \u001b[1;32m~\\Documents\\Min\\envs\\pyenv1\\lib\\site-packages\\pandas\\io\\formats\\csvs.py:240\u001b[0m, in \u001b[0;36mCSVFormatter.save\u001b[1;34m(self)\u001b[0m\n\u001b[0;32m    236\u001b[0m \u001b[38;5;250m\u001b[39m\u001b[38;5;124;03m\"\"\"\u001b[39;00m\n\u001b[0;32m    237\u001b[0m \u001b[38;5;124;03mCreate the writer & save.\u001b[39;00m\n\u001b[0;32m    238\u001b[0m \u001b[38;5;124;03m\"\"\"\u001b[39;00m\n\u001b[0;32m    239\u001b[0m \u001b[38;5;66;03m# apply compression and byte/text conversion\u001b[39;00m\n\u001b[1;32m--> 240\u001b[0m \u001b[38;5;28;01mwith\u001b[39;00m \u001b[43mget_handle\u001b[49m\u001b[43m(\u001b[49m\n\u001b[0;32m    241\u001b[0m \u001b[43m    \u001b[49m\u001b[38;5;28;43mself\u001b[39;49m\u001b[38;5;241;43m.\u001b[39;49m\u001b[43mfilepath_or_buffer\u001b[49m\u001b[43m,\u001b[49m\n\u001b[0;32m    242\u001b[0m \u001b[43m    \u001b[49m\u001b[38;5;28;43mself\u001b[39;49m\u001b[38;5;241;43m.\u001b[39;49m\u001b[43mmode\u001b[49m\u001b[43m,\u001b[49m\n\u001b[0;32m    243\u001b[0m \u001b[43m    \u001b[49m\u001b[43mencoding\u001b[49m\u001b[38;5;241;43m=\u001b[39;49m\u001b[38;5;28;43mself\u001b[39;49m\u001b[38;5;241;43m.\u001b[39;49m\u001b[43mencoding\u001b[49m\u001b[43m,\u001b[49m\n\u001b[0;32m    244\u001b[0m \u001b[43m    \u001b[49m\u001b[43merrors\u001b[49m\u001b[38;5;241;43m=\u001b[39;49m\u001b[38;5;28;43mself\u001b[39;49m\u001b[38;5;241;43m.\u001b[39;49m\u001b[43merrors\u001b[49m\u001b[43m,\u001b[49m\n\u001b[0;32m    245\u001b[0m \u001b[43m    \u001b[49m\u001b[43mcompression\u001b[49m\u001b[38;5;241;43m=\u001b[39;49m\u001b[38;5;28;43mself\u001b[39;49m\u001b[38;5;241;43m.\u001b[39;49m\u001b[43mcompression\u001b[49m\u001b[43m,\u001b[49m\n\u001b[0;32m    246\u001b[0m \u001b[43m    \u001b[49m\u001b[43mstorage_options\u001b[49m\u001b[38;5;241;43m=\u001b[39;49m\u001b[38;5;28;43mself\u001b[39;49m\u001b[38;5;241;43m.\u001b[39;49m\u001b[43mstorage_options\u001b[49m\u001b[43m,\u001b[49m\n\u001b[0;32m    247\u001b[0m \u001b[43m\u001b[49m\u001b[43m)\u001b[49m \u001b[38;5;28;01mas\u001b[39;00m handles:\n\u001b[0;32m    248\u001b[0m     \u001b[38;5;66;03m# Note: self.encoding is irrelevant here\u001b[39;00m\n\u001b[0;32m    249\u001b[0m     \u001b[38;5;28mself\u001b[39m\u001b[38;5;241m.\u001b[39mwriter \u001b[38;5;241m=\u001b[39m csvlib\u001b[38;5;241m.\u001b[39mwriter(\n\u001b[0;32m    250\u001b[0m         handles\u001b[38;5;241m.\u001b[39mhandle,\n\u001b[0;32m    251\u001b[0m         lineterminator\u001b[38;5;241m=\u001b[39m\u001b[38;5;28mself\u001b[39m\u001b[38;5;241m.\u001b[39mlineterminator,\n\u001b[1;32m   (...)\u001b[0m\n\u001b[0;32m    256\u001b[0m         quotechar\u001b[38;5;241m=\u001b[39m\u001b[38;5;28mself\u001b[39m\u001b[38;5;241m.\u001b[39mquotechar,\n\u001b[0;32m    257\u001b[0m     )\n\u001b[0;32m    259\u001b[0m     \u001b[38;5;28mself\u001b[39m\u001b[38;5;241m.\u001b[39m_save()\n",
      "File \u001b[1;32m~\\Documents\\Min\\envs\\pyenv1\\lib\\site-packages\\pandas\\io\\common.py:859\u001b[0m, in \u001b[0;36mget_handle\u001b[1;34m(path_or_buf, mode, encoding, compression, memory_map, is_text, errors, storage_options)\u001b[0m\n\u001b[0;32m    854\u001b[0m \u001b[38;5;28;01melif\u001b[39;00m \u001b[38;5;28misinstance\u001b[39m(handle, \u001b[38;5;28mstr\u001b[39m):\n\u001b[0;32m    855\u001b[0m     \u001b[38;5;66;03m# Check whether the filename is to be opened in binary mode.\u001b[39;00m\n\u001b[0;32m    856\u001b[0m     \u001b[38;5;66;03m# Binary mode does not support 'encoding' and 'newline'.\u001b[39;00m\n\u001b[0;32m    857\u001b[0m     \u001b[38;5;28;01mif\u001b[39;00m ioargs\u001b[38;5;241m.\u001b[39mencoding \u001b[38;5;129;01mand\u001b[39;00m \u001b[38;5;124m\"\u001b[39m\u001b[38;5;124mb\u001b[39m\u001b[38;5;124m\"\u001b[39m \u001b[38;5;129;01mnot\u001b[39;00m \u001b[38;5;129;01min\u001b[39;00m ioargs\u001b[38;5;241m.\u001b[39mmode:\n\u001b[0;32m    858\u001b[0m         \u001b[38;5;66;03m# Encoding\u001b[39;00m\n\u001b[1;32m--> 859\u001b[0m         handle \u001b[38;5;241m=\u001b[39m \u001b[38;5;28;43mopen\u001b[39;49m\u001b[43m(\u001b[49m\n\u001b[0;32m    860\u001b[0m \u001b[43m            \u001b[49m\u001b[43mhandle\u001b[49m\u001b[43m,\u001b[49m\n\u001b[0;32m    861\u001b[0m \u001b[43m            \u001b[49m\u001b[43mioargs\u001b[49m\u001b[38;5;241;43m.\u001b[39;49m\u001b[43mmode\u001b[49m\u001b[43m,\u001b[49m\n\u001b[0;32m    862\u001b[0m \u001b[43m            \u001b[49m\u001b[43mencoding\u001b[49m\u001b[38;5;241;43m=\u001b[39;49m\u001b[43mioargs\u001b[49m\u001b[38;5;241;43m.\u001b[39;49m\u001b[43mencoding\u001b[49m\u001b[43m,\u001b[49m\n\u001b[0;32m    863\u001b[0m \u001b[43m            \u001b[49m\u001b[43merrors\u001b[49m\u001b[38;5;241;43m=\u001b[39;49m\u001b[43merrors\u001b[49m\u001b[43m,\u001b[49m\n\u001b[0;32m    864\u001b[0m \u001b[43m            \u001b[49m\u001b[43mnewline\u001b[49m\u001b[38;5;241;43m=\u001b[39;49m\u001b[38;5;124;43m\"\u001b[39;49m\u001b[38;5;124;43m\"\u001b[39;49m\u001b[43m,\u001b[49m\n\u001b[0;32m    865\u001b[0m \u001b[43m        \u001b[49m\u001b[43m)\u001b[49m\n\u001b[0;32m    866\u001b[0m     \u001b[38;5;28;01melse\u001b[39;00m:\n\u001b[0;32m    867\u001b[0m         \u001b[38;5;66;03m# Binary mode\u001b[39;00m\n\u001b[0;32m    868\u001b[0m         handle \u001b[38;5;241m=\u001b[39m \u001b[38;5;28mopen\u001b[39m(handle, ioargs\u001b[38;5;241m.\u001b[39mmode)\n",
      "\u001b[1;31mPermissionError\u001b[0m: [Errno 13] Permission denied: 'goog_process.csv'"
     ]
    }
   ],
   "source": [
    "goog_process.to_csv('goog_process.csv')"
   ]
  },
  {
   "cell_type": "code",
   "execution_count": null,
   "id": "98becf24",
   "metadata": {},
   "outputs": [],
   "source": [
    "fig = px.bar(goog_process, x = 'word', y = 'count',\n",
    "                width=1400, height=800)\n",
    "fig.update_layout(\n",
    "xaxis_title='Name groups',\n",
    "yaxis_title='Number of members',\n",
    "plot_bgcolor='white',  # Transparent plot background\n",
    "paper_bgcolor='rgb(255,255,255)',  # White background\n",
    "font=dict(family='Arial', size=12, color='blue'),  # Font style\n",
    "margin=dict(l=50, r=50, t=50, b=50),  # Setting margins\n",
    "xaxis=dict(tickangle=45),  # Rotating x-axis labels\n",
    "yaxis=dict(tickformat=',d'),  # Adding comma to y-axis labels for thousands separator, \n",
    "title = '📊 Graph III : Nb_members : Top 10 group',\n",
    "title_x = 0.4\n",
    ")"
   ]
  },
  {
   "cell_type": "code",
   "execution_count": 25,
   "id": "03e50d49",
   "metadata": {},
   "outputs": [
    {
     "data": {
      "application/vnd.plotly.v1+json": {
       "config": {
        "plotlyServerURL": "https://plot.ly"
       },
       "data": [
        {
         "alignmentgroup": "True",
         "hovertemplate": "word=%{x}<br>count=%{y}<extra></extra>",
         "legendgroup": "",
         "marker": {
          "color": "#636efa",
          "pattern": {
           "shape": ""
          }
         },
         "name": "",
         "offsetgroup": "",
         "orientation": "v",
         "showlegend": false,
         "textposition": "auto",
         "type": "bar",
         "x": [
          "mali",
          "orange",
          "internet",
          "...",
          "mobile",
          "gratuit",
          "vpn",
          "fraud",
          "pour",
          "connexion"
         ],
         "xaxis": "x",
         "y": [
          47,
          33,
          29,
          19,
          18,
          13,
          11,
          9,
          9,
          8
         ],
         "yaxis": "y"
        }
       ],
       "layout": {
        "barmode": "relative",
        "font": {
         "color": "black",
         "family": "Arial",
         "size": 12
        },
        "height": 800,
        "legend": {
         "tracegroupgap": 0
        },
        "margin": {
         "b": 50,
         "l": 50,
         "r": 50,
         "t": 50
        },
        "paper_bgcolor": "rgb(100,200,200)",
        "plot_bgcolor": "white",
        "template": {
         "data": {
          "bar": [
           {
            "error_x": {
             "color": "#2a3f5f"
            },
            "error_y": {
             "color": "#2a3f5f"
            },
            "marker": {
             "line": {
              "color": "#E5ECF6",
              "width": 0.5
             },
             "pattern": {
              "fillmode": "overlay",
              "size": 10,
              "solidity": 0.2
             }
            },
            "type": "bar"
           }
          ],
          "barpolar": [
           {
            "marker": {
             "line": {
              "color": "#E5ECF6",
              "width": 0.5
             },
             "pattern": {
              "fillmode": "overlay",
              "size": 10,
              "solidity": 0.2
             }
            },
            "type": "barpolar"
           }
          ],
          "carpet": [
           {
            "aaxis": {
             "endlinecolor": "#2a3f5f",
             "gridcolor": "white",
             "linecolor": "white",
             "minorgridcolor": "white",
             "startlinecolor": "#2a3f5f"
            },
            "baxis": {
             "endlinecolor": "#2a3f5f",
             "gridcolor": "white",
             "linecolor": "white",
             "minorgridcolor": "white",
             "startlinecolor": "#2a3f5f"
            },
            "type": "carpet"
           }
          ],
          "choropleth": [
           {
            "colorbar": {
             "outlinewidth": 0,
             "ticks": ""
            },
            "type": "choropleth"
           }
          ],
          "contour": [
           {
            "colorbar": {
             "outlinewidth": 0,
             "ticks": ""
            },
            "colorscale": [
             [
              0,
              "#0d0887"
             ],
             [
              0.1111111111111111,
              "#46039f"
             ],
             [
              0.2222222222222222,
              "#7201a8"
             ],
             [
              0.3333333333333333,
              "#9c179e"
             ],
             [
              0.4444444444444444,
              "#bd3786"
             ],
             [
              0.5555555555555556,
              "#d8576b"
             ],
             [
              0.6666666666666666,
              "#ed7953"
             ],
             [
              0.7777777777777778,
              "#fb9f3a"
             ],
             [
              0.8888888888888888,
              "#fdca26"
             ],
             [
              1,
              "#f0f921"
             ]
            ],
            "type": "contour"
           }
          ],
          "contourcarpet": [
           {
            "colorbar": {
             "outlinewidth": 0,
             "ticks": ""
            },
            "type": "contourcarpet"
           }
          ],
          "heatmap": [
           {
            "colorbar": {
             "outlinewidth": 0,
             "ticks": ""
            },
            "colorscale": [
             [
              0,
              "#0d0887"
             ],
             [
              0.1111111111111111,
              "#46039f"
             ],
             [
              0.2222222222222222,
              "#7201a8"
             ],
             [
              0.3333333333333333,
              "#9c179e"
             ],
             [
              0.4444444444444444,
              "#bd3786"
             ],
             [
              0.5555555555555556,
              "#d8576b"
             ],
             [
              0.6666666666666666,
              "#ed7953"
             ],
             [
              0.7777777777777778,
              "#fb9f3a"
             ],
             [
              0.8888888888888888,
              "#fdca26"
             ],
             [
              1,
              "#f0f921"
             ]
            ],
            "type": "heatmap"
           }
          ],
          "heatmapgl": [
           {
            "colorbar": {
             "outlinewidth": 0,
             "ticks": ""
            },
            "colorscale": [
             [
              0,
              "#0d0887"
             ],
             [
              0.1111111111111111,
              "#46039f"
             ],
             [
              0.2222222222222222,
              "#7201a8"
             ],
             [
              0.3333333333333333,
              "#9c179e"
             ],
             [
              0.4444444444444444,
              "#bd3786"
             ],
             [
              0.5555555555555556,
              "#d8576b"
             ],
             [
              0.6666666666666666,
              "#ed7953"
             ],
             [
              0.7777777777777778,
              "#fb9f3a"
             ],
             [
              0.8888888888888888,
              "#fdca26"
             ],
             [
              1,
              "#f0f921"
             ]
            ],
            "type": "heatmapgl"
           }
          ],
          "histogram": [
           {
            "marker": {
             "pattern": {
              "fillmode": "overlay",
              "size": 10,
              "solidity": 0.2
             }
            },
            "type": "histogram"
           }
          ],
          "histogram2d": [
           {
            "colorbar": {
             "outlinewidth": 0,
             "ticks": ""
            },
            "colorscale": [
             [
              0,
              "#0d0887"
             ],
             [
              0.1111111111111111,
              "#46039f"
             ],
             [
              0.2222222222222222,
              "#7201a8"
             ],
             [
              0.3333333333333333,
              "#9c179e"
             ],
             [
              0.4444444444444444,
              "#bd3786"
             ],
             [
              0.5555555555555556,
              "#d8576b"
             ],
             [
              0.6666666666666666,
              "#ed7953"
             ],
             [
              0.7777777777777778,
              "#fb9f3a"
             ],
             [
              0.8888888888888888,
              "#fdca26"
             ],
             [
              1,
              "#f0f921"
             ]
            ],
            "type": "histogram2d"
           }
          ],
          "histogram2dcontour": [
           {
            "colorbar": {
             "outlinewidth": 0,
             "ticks": ""
            },
            "colorscale": [
             [
              0,
              "#0d0887"
             ],
             [
              0.1111111111111111,
              "#46039f"
             ],
             [
              0.2222222222222222,
              "#7201a8"
             ],
             [
              0.3333333333333333,
              "#9c179e"
             ],
             [
              0.4444444444444444,
              "#bd3786"
             ],
             [
              0.5555555555555556,
              "#d8576b"
             ],
             [
              0.6666666666666666,
              "#ed7953"
             ],
             [
              0.7777777777777778,
              "#fb9f3a"
             ],
             [
              0.8888888888888888,
              "#fdca26"
             ],
             [
              1,
              "#f0f921"
             ]
            ],
            "type": "histogram2dcontour"
           }
          ],
          "mesh3d": [
           {
            "colorbar": {
             "outlinewidth": 0,
             "ticks": ""
            },
            "type": "mesh3d"
           }
          ],
          "parcoords": [
           {
            "line": {
             "colorbar": {
              "outlinewidth": 0,
              "ticks": ""
             }
            },
            "type": "parcoords"
           }
          ],
          "pie": [
           {
            "automargin": true,
            "type": "pie"
           }
          ],
          "scatter": [
           {
            "fillpattern": {
             "fillmode": "overlay",
             "size": 10,
             "solidity": 0.2
            },
            "type": "scatter"
           }
          ],
          "scatter3d": [
           {
            "line": {
             "colorbar": {
              "outlinewidth": 0,
              "ticks": ""
             }
            },
            "marker": {
             "colorbar": {
              "outlinewidth": 0,
              "ticks": ""
             }
            },
            "type": "scatter3d"
           }
          ],
          "scattercarpet": [
           {
            "marker": {
             "colorbar": {
              "outlinewidth": 0,
              "ticks": ""
             }
            },
            "type": "scattercarpet"
           }
          ],
          "scattergeo": [
           {
            "marker": {
             "colorbar": {
              "outlinewidth": 0,
              "ticks": ""
             }
            },
            "type": "scattergeo"
           }
          ],
          "scattergl": [
           {
            "marker": {
             "colorbar": {
              "outlinewidth": 0,
              "ticks": ""
             }
            },
            "type": "scattergl"
           }
          ],
          "scattermapbox": [
           {
            "marker": {
             "colorbar": {
              "outlinewidth": 0,
              "ticks": ""
             }
            },
            "type": "scattermapbox"
           }
          ],
          "scatterpolar": [
           {
            "marker": {
             "colorbar": {
              "outlinewidth": 0,
              "ticks": ""
             }
            },
            "type": "scatterpolar"
           }
          ],
          "scatterpolargl": [
           {
            "marker": {
             "colorbar": {
              "outlinewidth": 0,
              "ticks": ""
             }
            },
            "type": "scatterpolargl"
           }
          ],
          "scatterternary": [
           {
            "marker": {
             "colorbar": {
              "outlinewidth": 0,
              "ticks": ""
             }
            },
            "type": "scatterternary"
           }
          ],
          "surface": [
           {
            "colorbar": {
             "outlinewidth": 0,
             "ticks": ""
            },
            "colorscale": [
             [
              0,
              "#0d0887"
             ],
             [
              0.1111111111111111,
              "#46039f"
             ],
             [
              0.2222222222222222,
              "#7201a8"
             ],
             [
              0.3333333333333333,
              "#9c179e"
             ],
             [
              0.4444444444444444,
              "#bd3786"
             ],
             [
              0.5555555555555556,
              "#d8576b"
             ],
             [
              0.6666666666666666,
              "#ed7953"
             ],
             [
              0.7777777777777778,
              "#fb9f3a"
             ],
             [
              0.8888888888888888,
              "#fdca26"
             ],
             [
              1,
              "#f0f921"
             ]
            ],
            "type": "surface"
           }
          ],
          "table": [
           {
            "cells": {
             "fill": {
              "color": "#EBF0F8"
             },
             "line": {
              "color": "white"
             }
            },
            "header": {
             "fill": {
              "color": "#C8D4E3"
             },
             "line": {
              "color": "white"
             }
            },
            "type": "table"
           }
          ]
         },
         "layout": {
          "annotationdefaults": {
           "arrowcolor": "#2a3f5f",
           "arrowhead": 0,
           "arrowwidth": 1
          },
          "autotypenumbers": "strict",
          "coloraxis": {
           "colorbar": {
            "outlinewidth": 0,
            "ticks": ""
           }
          },
          "colorscale": {
           "diverging": [
            [
             0,
             "#8e0152"
            ],
            [
             0.1,
             "#c51b7d"
            ],
            [
             0.2,
             "#de77ae"
            ],
            [
             0.3,
             "#f1b6da"
            ],
            [
             0.4,
             "#fde0ef"
            ],
            [
             0.5,
             "#f7f7f7"
            ],
            [
             0.6,
             "#e6f5d0"
            ],
            [
             0.7,
             "#b8e186"
            ],
            [
             0.8,
             "#7fbc41"
            ],
            [
             0.9,
             "#4d9221"
            ],
            [
             1,
             "#276419"
            ]
           ],
           "sequential": [
            [
             0,
             "#0d0887"
            ],
            [
             0.1111111111111111,
             "#46039f"
            ],
            [
             0.2222222222222222,
             "#7201a8"
            ],
            [
             0.3333333333333333,
             "#9c179e"
            ],
            [
             0.4444444444444444,
             "#bd3786"
            ],
            [
             0.5555555555555556,
             "#d8576b"
            ],
            [
             0.6666666666666666,
             "#ed7953"
            ],
            [
             0.7777777777777778,
             "#fb9f3a"
            ],
            [
             0.8888888888888888,
             "#fdca26"
            ],
            [
             1,
             "#f0f921"
            ]
           ],
           "sequentialminus": [
            [
             0,
             "#0d0887"
            ],
            [
             0.1111111111111111,
             "#46039f"
            ],
            [
             0.2222222222222222,
             "#7201a8"
            ],
            [
             0.3333333333333333,
             "#9c179e"
            ],
            [
             0.4444444444444444,
             "#bd3786"
            ],
            [
             0.5555555555555556,
             "#d8576b"
            ],
            [
             0.6666666666666666,
             "#ed7953"
            ],
            [
             0.7777777777777778,
             "#fb9f3a"
            ],
            [
             0.8888888888888888,
             "#fdca26"
            ],
            [
             1,
             "#f0f921"
            ]
           ]
          },
          "colorway": [
           "#636efa",
           "#EF553B",
           "#00cc96",
           "#ab63fa",
           "#FFA15A",
           "#19d3f3",
           "#FF6692",
           "#B6E880",
           "#FF97FF",
           "#FECB52"
          ],
          "font": {
           "color": "#2a3f5f"
          },
          "geo": {
           "bgcolor": "white",
           "lakecolor": "white",
           "landcolor": "#E5ECF6",
           "showlakes": true,
           "showland": true,
           "subunitcolor": "white"
          },
          "hoverlabel": {
           "align": "left"
          },
          "hovermode": "closest",
          "mapbox": {
           "style": "light"
          },
          "paper_bgcolor": "white",
          "plot_bgcolor": "#E5ECF6",
          "polar": {
           "angularaxis": {
            "gridcolor": "white",
            "linecolor": "white",
            "ticks": ""
           },
           "bgcolor": "#E5ECF6",
           "radialaxis": {
            "gridcolor": "white",
            "linecolor": "white",
            "ticks": ""
           }
          },
          "scene": {
           "xaxis": {
            "backgroundcolor": "#E5ECF6",
            "gridcolor": "white",
            "gridwidth": 2,
            "linecolor": "white",
            "showbackground": true,
            "ticks": "",
            "zerolinecolor": "white"
           },
           "yaxis": {
            "backgroundcolor": "#E5ECF6",
            "gridcolor": "white",
            "gridwidth": 2,
            "linecolor": "white",
            "showbackground": true,
            "ticks": "",
            "zerolinecolor": "white"
           },
           "zaxis": {
            "backgroundcolor": "#E5ECF6",
            "gridcolor": "white",
            "gridwidth": 2,
            "linecolor": "white",
            "showbackground": true,
            "ticks": "",
            "zerolinecolor": "white"
           }
          },
          "shapedefaults": {
           "line": {
            "color": "#2a3f5f"
           }
          },
          "ternary": {
           "aaxis": {
            "gridcolor": "white",
            "linecolor": "white",
            "ticks": ""
           },
           "baxis": {
            "gridcolor": "white",
            "linecolor": "white",
            "ticks": ""
           },
           "bgcolor": "#E5ECF6",
           "caxis": {
            "gridcolor": "white",
            "linecolor": "white",
            "ticks": ""
           }
          },
          "title": {
           "x": 0.05
          },
          "xaxis": {
           "automargin": true,
           "gridcolor": "white",
           "linecolor": "white",
           "ticks": "",
           "title": {
            "standoff": 15
           },
           "zerolinecolor": "white",
           "zerolinewidth": 2
          },
          "yaxis": {
           "automargin": true,
           "gridcolor": "white",
           "linecolor": "white",
           "ticks": "",
           "title": {
            "standoff": 15
           },
           "zerolinecolor": "white",
           "zerolinewidth": 2
          }
         }
        },
        "title": {
         "text": "📊 TOP 15 of words",
         "x": 0.4
        },
        "width": 1400,
        "xaxis": {
         "anchor": "y",
         "domain": [
          0,
          1
         ],
         "tickangle": 45,
         "title": {
          "text": "words"
         }
        },
        "yaxis": {
         "anchor": "x",
         "domain": [
          0,
          1
         ],
         "tickformat": ",d",
         "title": {
          "text": "Frequency of word"
         }
        }
       }
      },
      "text/html": [
       "<div>                            <div id=\"03b727b2-11f9-4dca-b246-b5b94f06df33\" class=\"plotly-graph-div\" style=\"height:800px; width:1400px;\"></div>            <script type=\"text/javascript\">                require([\"plotly\"], function(Plotly) {                    window.PLOTLYENV=window.PLOTLYENV || {};                                    if (document.getElementById(\"03b727b2-11f9-4dca-b246-b5b94f06df33\")) {                    Plotly.newPlot(                        \"03b727b2-11f9-4dca-b246-b5b94f06df33\",                        [{\"alignmentgroup\":\"True\",\"hovertemplate\":\"word=%{x}<br>count=%{y}<extra></extra>\",\"legendgroup\":\"\",\"marker\":{\"color\":\"#636efa\",\"pattern\":{\"shape\":\"\"}},\"name\":\"\",\"offsetgroup\":\"\",\"orientation\":\"v\",\"showlegend\":false,\"textposition\":\"auto\",\"x\":[\"mali\",\"orange\",\"internet\",\"...\",\"mobile\",\"gratuit\",\"vpn\",\"fraud\",\"pour\",\"connexion\"],\"xaxis\":\"x\",\"y\":[47,33,29,19,18,13,11,9,9,8],\"yaxis\":\"y\",\"type\":\"bar\"}],                        {\"template\":{\"data\":{\"histogram2dcontour\":[{\"type\":\"histogram2dcontour\",\"colorbar\":{\"outlinewidth\":0,\"ticks\":\"\"},\"colorscale\":[[0.0,\"#0d0887\"],[0.1111111111111111,\"#46039f\"],[0.2222222222222222,\"#7201a8\"],[0.3333333333333333,\"#9c179e\"],[0.4444444444444444,\"#bd3786\"],[0.5555555555555556,\"#d8576b\"],[0.6666666666666666,\"#ed7953\"],[0.7777777777777778,\"#fb9f3a\"],[0.8888888888888888,\"#fdca26\"],[1.0,\"#f0f921\"]]}],\"choropleth\":[{\"type\":\"choropleth\",\"colorbar\":{\"outlinewidth\":0,\"ticks\":\"\"}}],\"histogram2d\":[{\"type\":\"histogram2d\",\"colorbar\":{\"outlinewidth\":0,\"ticks\":\"\"},\"colorscale\":[[0.0,\"#0d0887\"],[0.1111111111111111,\"#46039f\"],[0.2222222222222222,\"#7201a8\"],[0.3333333333333333,\"#9c179e\"],[0.4444444444444444,\"#bd3786\"],[0.5555555555555556,\"#d8576b\"],[0.6666666666666666,\"#ed7953\"],[0.7777777777777778,\"#fb9f3a\"],[0.8888888888888888,\"#fdca26\"],[1.0,\"#f0f921\"]]}],\"heatmap\":[{\"type\":\"heatmap\",\"colorbar\":{\"outlinewidth\":0,\"ticks\":\"\"},\"colorscale\":[[0.0,\"#0d0887\"],[0.1111111111111111,\"#46039f\"],[0.2222222222222222,\"#7201a8\"],[0.3333333333333333,\"#9c179e\"],[0.4444444444444444,\"#bd3786\"],[0.5555555555555556,\"#d8576b\"],[0.6666666666666666,\"#ed7953\"],[0.7777777777777778,\"#fb9f3a\"],[0.8888888888888888,\"#fdca26\"],[1.0,\"#f0f921\"]]}],\"heatmapgl\":[{\"type\":\"heatmapgl\",\"colorbar\":{\"outlinewidth\":0,\"ticks\":\"\"},\"colorscale\":[[0.0,\"#0d0887\"],[0.1111111111111111,\"#46039f\"],[0.2222222222222222,\"#7201a8\"],[0.3333333333333333,\"#9c179e\"],[0.4444444444444444,\"#bd3786\"],[0.5555555555555556,\"#d8576b\"],[0.6666666666666666,\"#ed7953\"],[0.7777777777777778,\"#fb9f3a\"],[0.8888888888888888,\"#fdca26\"],[1.0,\"#f0f921\"]]}],\"contourcarpet\":[{\"type\":\"contourcarpet\",\"colorbar\":{\"outlinewidth\":0,\"ticks\":\"\"}}],\"contour\":[{\"type\":\"contour\",\"colorbar\":{\"outlinewidth\":0,\"ticks\":\"\"},\"colorscale\":[[0.0,\"#0d0887\"],[0.1111111111111111,\"#46039f\"],[0.2222222222222222,\"#7201a8\"],[0.3333333333333333,\"#9c179e\"],[0.4444444444444444,\"#bd3786\"],[0.5555555555555556,\"#d8576b\"],[0.6666666666666666,\"#ed7953\"],[0.7777777777777778,\"#fb9f3a\"],[0.8888888888888888,\"#fdca26\"],[1.0,\"#f0f921\"]]}],\"surface\":[{\"type\":\"surface\",\"colorbar\":{\"outlinewidth\":0,\"ticks\":\"\"},\"colorscale\":[[0.0,\"#0d0887\"],[0.1111111111111111,\"#46039f\"],[0.2222222222222222,\"#7201a8\"],[0.3333333333333333,\"#9c179e\"],[0.4444444444444444,\"#bd3786\"],[0.5555555555555556,\"#d8576b\"],[0.6666666666666666,\"#ed7953\"],[0.7777777777777778,\"#fb9f3a\"],[0.8888888888888888,\"#fdca26\"],[1.0,\"#f0f921\"]]}],\"mesh3d\":[{\"type\":\"mesh3d\",\"colorbar\":{\"outlinewidth\":0,\"ticks\":\"\"}}],\"scatter\":[{\"fillpattern\":{\"fillmode\":\"overlay\",\"size\":10,\"solidity\":0.2},\"type\":\"scatter\"}],\"parcoords\":[{\"type\":\"parcoords\",\"line\":{\"colorbar\":{\"outlinewidth\":0,\"ticks\":\"\"}}}],\"scatterpolargl\":[{\"type\":\"scatterpolargl\",\"marker\":{\"colorbar\":{\"outlinewidth\":0,\"ticks\":\"\"}}}],\"bar\":[{\"error_x\":{\"color\":\"#2a3f5f\"},\"error_y\":{\"color\":\"#2a3f5f\"},\"marker\":{\"line\":{\"color\":\"#E5ECF6\",\"width\":0.5},\"pattern\":{\"fillmode\":\"overlay\",\"size\":10,\"solidity\":0.2}},\"type\":\"bar\"}],\"scattergeo\":[{\"type\":\"scattergeo\",\"marker\":{\"colorbar\":{\"outlinewidth\":0,\"ticks\":\"\"}}}],\"scatterpolar\":[{\"type\":\"scatterpolar\",\"marker\":{\"colorbar\":{\"outlinewidth\":0,\"ticks\":\"\"}}}],\"histogram\":[{\"marker\":{\"pattern\":{\"fillmode\":\"overlay\",\"size\":10,\"solidity\":0.2}},\"type\":\"histogram\"}],\"scattergl\":[{\"type\":\"scattergl\",\"marker\":{\"colorbar\":{\"outlinewidth\":0,\"ticks\":\"\"}}}],\"scatter3d\":[{\"type\":\"scatter3d\",\"line\":{\"colorbar\":{\"outlinewidth\":0,\"ticks\":\"\"}},\"marker\":{\"colorbar\":{\"outlinewidth\":0,\"ticks\":\"\"}}}],\"scattermapbox\":[{\"type\":\"scattermapbox\",\"marker\":{\"colorbar\":{\"outlinewidth\":0,\"ticks\":\"\"}}}],\"scatterternary\":[{\"type\":\"scatterternary\",\"marker\":{\"colorbar\":{\"outlinewidth\":0,\"ticks\":\"\"}}}],\"scattercarpet\":[{\"type\":\"scattercarpet\",\"marker\":{\"colorbar\":{\"outlinewidth\":0,\"ticks\":\"\"}}}],\"carpet\":[{\"aaxis\":{\"endlinecolor\":\"#2a3f5f\",\"gridcolor\":\"white\",\"linecolor\":\"white\",\"minorgridcolor\":\"white\",\"startlinecolor\":\"#2a3f5f\"},\"baxis\":{\"endlinecolor\":\"#2a3f5f\",\"gridcolor\":\"white\",\"linecolor\":\"white\",\"minorgridcolor\":\"white\",\"startlinecolor\":\"#2a3f5f\"},\"type\":\"carpet\"}],\"table\":[{\"cells\":{\"fill\":{\"color\":\"#EBF0F8\"},\"line\":{\"color\":\"white\"}},\"header\":{\"fill\":{\"color\":\"#C8D4E3\"},\"line\":{\"color\":\"white\"}},\"type\":\"table\"}],\"barpolar\":[{\"marker\":{\"line\":{\"color\":\"#E5ECF6\",\"width\":0.5},\"pattern\":{\"fillmode\":\"overlay\",\"size\":10,\"solidity\":0.2}},\"type\":\"barpolar\"}],\"pie\":[{\"automargin\":true,\"type\":\"pie\"}]},\"layout\":{\"autotypenumbers\":\"strict\",\"colorway\":[\"#636efa\",\"#EF553B\",\"#00cc96\",\"#ab63fa\",\"#FFA15A\",\"#19d3f3\",\"#FF6692\",\"#B6E880\",\"#FF97FF\",\"#FECB52\"],\"font\":{\"color\":\"#2a3f5f\"},\"hovermode\":\"closest\",\"hoverlabel\":{\"align\":\"left\"},\"paper_bgcolor\":\"white\",\"plot_bgcolor\":\"#E5ECF6\",\"polar\":{\"bgcolor\":\"#E5ECF6\",\"angularaxis\":{\"gridcolor\":\"white\",\"linecolor\":\"white\",\"ticks\":\"\"},\"radialaxis\":{\"gridcolor\":\"white\",\"linecolor\":\"white\",\"ticks\":\"\"}},\"ternary\":{\"bgcolor\":\"#E5ECF6\",\"aaxis\":{\"gridcolor\":\"white\",\"linecolor\":\"white\",\"ticks\":\"\"},\"baxis\":{\"gridcolor\":\"white\",\"linecolor\":\"white\",\"ticks\":\"\"},\"caxis\":{\"gridcolor\":\"white\",\"linecolor\":\"white\",\"ticks\":\"\"}},\"coloraxis\":{\"colorbar\":{\"outlinewidth\":0,\"ticks\":\"\"}},\"colorscale\":{\"sequential\":[[0.0,\"#0d0887\"],[0.1111111111111111,\"#46039f\"],[0.2222222222222222,\"#7201a8\"],[0.3333333333333333,\"#9c179e\"],[0.4444444444444444,\"#bd3786\"],[0.5555555555555556,\"#d8576b\"],[0.6666666666666666,\"#ed7953\"],[0.7777777777777778,\"#fb9f3a\"],[0.8888888888888888,\"#fdca26\"],[1.0,\"#f0f921\"]],\"sequentialminus\":[[0.0,\"#0d0887\"],[0.1111111111111111,\"#46039f\"],[0.2222222222222222,\"#7201a8\"],[0.3333333333333333,\"#9c179e\"],[0.4444444444444444,\"#bd3786\"],[0.5555555555555556,\"#d8576b\"],[0.6666666666666666,\"#ed7953\"],[0.7777777777777778,\"#fb9f3a\"],[0.8888888888888888,\"#fdca26\"],[1.0,\"#f0f921\"]],\"diverging\":[[0,\"#8e0152\"],[0.1,\"#c51b7d\"],[0.2,\"#de77ae\"],[0.3,\"#f1b6da\"],[0.4,\"#fde0ef\"],[0.5,\"#f7f7f7\"],[0.6,\"#e6f5d0\"],[0.7,\"#b8e186\"],[0.8,\"#7fbc41\"],[0.9,\"#4d9221\"],[1,\"#276419\"]]},\"xaxis\":{\"gridcolor\":\"white\",\"linecolor\":\"white\",\"ticks\":\"\",\"title\":{\"standoff\":15},\"zerolinecolor\":\"white\",\"automargin\":true,\"zerolinewidth\":2},\"yaxis\":{\"gridcolor\":\"white\",\"linecolor\":\"white\",\"ticks\":\"\",\"title\":{\"standoff\":15},\"zerolinecolor\":\"white\",\"automargin\":true,\"zerolinewidth\":2},\"scene\":{\"xaxis\":{\"backgroundcolor\":\"#E5ECF6\",\"gridcolor\":\"white\",\"linecolor\":\"white\",\"showbackground\":true,\"ticks\":\"\",\"zerolinecolor\":\"white\",\"gridwidth\":2},\"yaxis\":{\"backgroundcolor\":\"#E5ECF6\",\"gridcolor\":\"white\",\"linecolor\":\"white\",\"showbackground\":true,\"ticks\":\"\",\"zerolinecolor\":\"white\",\"gridwidth\":2},\"zaxis\":{\"backgroundcolor\":\"#E5ECF6\",\"gridcolor\":\"white\",\"linecolor\":\"white\",\"showbackground\":true,\"ticks\":\"\",\"zerolinecolor\":\"white\",\"gridwidth\":2}},\"shapedefaults\":{\"line\":{\"color\":\"#2a3f5f\"}},\"annotationdefaults\":{\"arrowcolor\":\"#2a3f5f\",\"arrowhead\":0,\"arrowwidth\":1},\"geo\":{\"bgcolor\":\"white\",\"landcolor\":\"#E5ECF6\",\"subunitcolor\":\"white\",\"showland\":true,\"showlakes\":true,\"lakecolor\":\"white\"},\"title\":{\"x\":0.05},\"mapbox\":{\"style\":\"light\"}}},\"xaxis\":{\"anchor\":\"y\",\"domain\":[0.0,1.0],\"title\":{\"text\":\"words\"},\"tickangle\":45},\"yaxis\":{\"anchor\":\"x\",\"domain\":[0.0,1.0],\"title\":{\"text\":\"Frequency of word\"},\"tickformat\":\",d\"},\"legend\":{\"tracegroupgap\":0},\"margin\":{\"t\":50,\"l\":50,\"r\":50,\"b\":50},\"barmode\":\"relative\",\"height\":800,\"width\":1400,\"font\":{\"family\":\"Arial\",\"size\":12,\"color\":\"black\"},\"title\":{\"text\":\"\\ud83d\\udcca TOP 15 of words\",\"x\":0.4},\"plot_bgcolor\":\"white\",\"paper_bgcolor\":\"rgb(100,200,200)\"},                        {\"responsive\": true}                    ).then(function(){\n",
       "                            \n",
       "var gd = document.getElementById('03b727b2-11f9-4dca-b246-b5b94f06df33');\n",
       "var x = new MutationObserver(function (mutations, observer) {{\n",
       "        var display = window.getComputedStyle(gd).display;\n",
       "        if (!display || display === 'none') {{\n",
       "            console.log([gd, 'removed!']);\n",
       "            Plotly.purge(gd);\n",
       "            observer.disconnect();\n",
       "        }}\n",
       "}});\n",
       "\n",
       "// Listen for the removal of the full notebook cells\n",
       "var notebookContainer = gd.closest('#notebook-container');\n",
       "if (notebookContainer) {{\n",
       "    x.observe(notebookContainer, {childList: true});\n",
       "}}\n",
       "\n",
       "// Listen for the clearing of the current output cell\n",
       "var outputEl = gd.closest('.output');\n",
       "if (outputEl) {{\n",
       "    x.observe(outputEl, {childList: true});\n",
       "}}\n",
       "\n",
       "                        })                };                });            </script>        </div>"
      ]
     },
     "metadata": {},
     "output_type": "display_data"
    }
   ],
   "source": [
    "fig = px.bar(goog_process, x = 'word', y = 'count', \n",
    "width=1400, height=800 )\n",
    "fig.update_layout(\n",
    "xaxis_title='words',\n",
    "yaxis_title='Frequency of word',\n",
    "plot_bgcolor='white',  # Transparent plot background\n",
    "paper_bgcolor='rgb(100,200,200)',  # White background\n",
    "font=dict(family='Arial', size=12, color='black'),  # Font style\n",
    "margin=dict(l=50, r=50, t=50, b=50),  # Setting margins\n",
    "xaxis=dict(tickangle=45),  # Rotating x-axis labels\n",
    "yaxis=dict(tickformat=',d'),  # Adding comma to y-axis labels for thousands separator, \n",
    "title = '📊 TOP 15 of words',\n",
    "title_x = 0.4\n",
    ")"
   ]
  },
  {
   "cell_type": "code",
   "execution_count": 43,
   "id": "ddb5899e",
   "metadata": {},
   "outputs": [
    {
     "name": "stdout",
     "output_type": "stream",
     "text": [
      "2015-04-02 14:30:12\n"
     ]
    }
   ],
   "source": [
    ">>> from bs4 import BeautifulSoup\n",
    ">>> s = '''<time class=\"jlist_date_image\" datetime=\"2015-04-02 14:30:12\">Idag <span class=\"list_date\">14:30</span></time>'''\n",
    ">>> soup = BeautifulSoup(s)\n",
    "\n"
   ]
  },
  {
   "cell_type": "code",
   "execution_count": 42,
   "id": "75b2a041",
   "metadata": {},
   "outputs": [
    {
     "data": {
      "text/html": [
       "<div>\n",
       "<style scoped>\n",
       "    .dataframe tbody tr th:only-of-type {\n",
       "        vertical-align: middle;\n",
       "    }\n",
       "\n",
       "    .dataframe tbody tr th {\n",
       "        vertical-align: top;\n",
       "    }\n",
       "\n",
       "    .dataframe thead th {\n",
       "        text-align: right;\n",
       "    }\n",
       "</style>\n",
       "<table border=\"1\" class=\"dataframe\">\n",
       "  <thead>\n",
       "    <tr style=\"text-align: right;\">\n",
       "      <th></th>\n",
       "      <th>Title</th>\n",
       "      <th>Link</th>\n",
       "      <th>Description</th>\n",
       "      <th>Date</th>\n",
       "      <th>Year</th>\n",
       "    </tr>\n",
       "  </thead>\n",
       "  <tbody>\n",
       "    <tr>\n",
       "      <th>0</th>\n",
       "      <td>Connexion internet gratuite Orange Mali</td>\n",
       "      <td>https://www.facebook.com/groups/373261044156562/</td>\n",
       "      <td>No description available</td>\n",
       "      <td>No date available</td>\n",
       "      <td>No year available</td>\n",
       "    </tr>\n",
       "    <tr>\n",
       "      <th>1</th>\n",
       "      <td>Internet gratuit illimité Orange Mali (Astuces...</td>\n",
       "      <td>https://www.gb00tech.com/2020/12/internet-grat...</td>\n",
       "      <td>No description available</td>\n",
       "      <td>No date available</td>\n",
       "      <td>No year available</td>\n",
       "    </tr>\n",
       "    <tr>\n",
       "      <th>2</th>\n",
       "      <td>Vpn gratuit au Mali</td>\n",
       "      <td>https://forums.commentcamarche.net/forum/affic...</td>\n",
       "      <td>No description available</td>\n",
       "      <td>No date available</td>\n",
       "      <td>No year available</td>\n",
       "    </tr>\n",
       "    <tr>\n",
       "      <th>3</th>\n",
       "      <td>la connection internet gratuite au mali</td>\n",
       "      <td>http://laban.centerblog.net/</td>\n",
       "      <td>No description available</td>\n",
       "      <td>No date available</td>\n",
       "      <td>No year available</td>\n",
       "    </tr>\n",
       "    <tr>\n",
       "      <th>4</th>\n",
       "      <td>Comment avoir internet gratuit chez orangemali</td>\n",
       "      <td>https://forums.commentcamarche.net/forum/affic...</td>\n",
       "      <td>No description available</td>\n",
       "      <td>No date available</td>\n",
       "      <td>No year available</td>\n",
       "    </tr>\n",
       "    <tr>\n",
       "      <th>...</th>\n",
       "      <td>...</td>\n",
       "      <td>...</td>\n",
       "      <td>...</td>\n",
       "      <td>...</td>\n",
       "      <td>...</td>\n",
       "    </tr>\n",
       "    <tr>\n",
       "      <th>95</th>\n",
       "      <td>Average Fraud Detection Supervisor Salary in B...</td>\n",
       "      <td>https://worldsalaries.com/average-fraud-detect...</td>\n",
       "      <td>No description available</td>\n",
       "      <td>No date available</td>\n",
       "      <td>No year available</td>\n",
       "    </tr>\n",
       "    <tr>\n",
       "      <th>96</th>\n",
       "      <td>ASToN network's Post</td>\n",
       "      <td>https://ml.linkedin.com/posts/aston-network_ba...</td>\n",
       "      <td>No description available</td>\n",
       "      <td>No date available</td>\n",
       "      <td>No year available</td>\n",
       "    </tr>\n",
       "    <tr>\n",
       "      <th>97</th>\n",
       "      <td>Move from Fraud Detection to Fraud Prevention ...</td>\n",
       "      <td>http://www.teradata.fr/Solutions/Fraud-Prevention</td>\n",
       "      <td>No description available</td>\n",
       "      <td>No date available</td>\n",
       "      <td>No year available</td>\n",
       "    </tr>\n",
       "    <tr>\n",
       "      <th>98</th>\n",
       "      <td>Be on your guard: The rising risk of Data Frauds</td>\n",
       "      <td>https://www.subex.com/blog/be-on-your-guard-th...</td>\n",
       "      <td>No description available</td>\n",
       "      <td>No date available</td>\n",
       "      <td>No year available</td>\n",
       "    </tr>\n",
       "    <tr>\n",
       "      <th>99</th>\n",
       "      <td>attempts of fraud recruitment in Sierra Leone ...</td>\n",
       "      <td>https://www.actioncontrelafaim.org/en/headline...</td>\n",
       "      <td>No description available</td>\n",
       "      <td>No date available</td>\n",
       "      <td>No year available</td>\n",
       "    </tr>\n",
       "  </tbody>\n",
       "</table>\n",
       "<p>100 rows × 5 columns</p>\n",
       "</div>"
      ],
      "text/plain": [
       "                                                Title   \n",
       "0             Connexion internet gratuite Orange Mali  \\\n",
       "1   Internet gratuit illimité Orange Mali (Astuces...   \n",
       "2                                 Vpn gratuit au Mali   \n",
       "3             la connection internet gratuite au mali   \n",
       "4      Comment avoir internet gratuit chez orangemali   \n",
       "..                                                ...   \n",
       "95  Average Fraud Detection Supervisor Salary in B...   \n",
       "96                               ASToN network's Post   \n",
       "97  Move from Fraud Detection to Fraud Prevention ...   \n",
       "98   Be on your guard: The rising risk of Data Frauds   \n",
       "99  attempts of fraud recruitment in Sierra Leone ...   \n",
       "\n",
       "                                                 Link   \n",
       "0    https://www.facebook.com/groups/373261044156562/  \\\n",
       "1   https://www.gb00tech.com/2020/12/internet-grat...   \n",
       "2   https://forums.commentcamarche.net/forum/affic...   \n",
       "3                        http://laban.centerblog.net/   \n",
       "4   https://forums.commentcamarche.net/forum/affic...   \n",
       "..                                                ...   \n",
       "95  https://worldsalaries.com/average-fraud-detect...   \n",
       "96  https://ml.linkedin.com/posts/aston-network_ba...   \n",
       "97  http://www.teradata.fr/Solutions/Fraud-Prevention   \n",
       "98  https://www.subex.com/blog/be-on-your-guard-th...   \n",
       "99  https://www.actioncontrelafaim.org/en/headline...   \n",
       "\n",
       "                 Description               Date               Year  \n",
       "0   No description available  No date available  No year available  \n",
       "1   No description available  No date available  No year available  \n",
       "2   No description available  No date available  No year available  \n",
       "3   No description available  No date available  No year available  \n",
       "4   No description available  No date available  No year available  \n",
       "..                       ...                ...                ...  \n",
       "95  No description available  No date available  No year available  \n",
       "96  No description available  No date available  No year available  \n",
       "97  No description available  No date available  No year available  \n",
       "98  No description available  No date available  No year available  \n",
       "99  No description available  No date available  No year available  \n",
       "\n",
       "[100 rows x 5 columns]"
      ]
     },
     "execution_count": 42,
     "metadata": {},
     "output_type": "execute_result"
    }
   ],
   "source": [
    "df"
   ]
  }
 ],
 "metadata": {
  "kernelspec": {
   "display_name": "Python 3 (ipykernel)",
   "language": "python",
   "name": "python3"
  },
  "language_info": {
   "codemirror_mode": {
    "name": "ipython",
    "version": 3
   },
   "file_extension": ".py",
   "mimetype": "text/x-python",
   "name": "python",
   "nbconvert_exporter": "python",
   "pygments_lexer": "ipython3",
   "version": "3.10.11"
  }
 },
 "nbformat": 4,
 "nbformat_minor": 5
}
