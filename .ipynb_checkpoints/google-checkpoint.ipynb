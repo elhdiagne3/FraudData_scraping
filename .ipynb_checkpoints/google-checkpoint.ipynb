{
 "cells": [
  {
   "cell_type": "code",
   "execution_count": 1,
   "id": "8ff05136",
   "metadata": {},
   "outputs": [
    {
     "ename": "ModuleNotFoundError",
     "evalue": "No module named 'GoogleTrendsScraper'",
     "output_type": "error",
     "traceback": [
      "\u001b[1;31m---------------------------------------------------------------------------\u001b[0m",
      "\u001b[1;31mModuleNotFoundError\u001b[0m                       Traceback (most recent call last)",
      "Cell \u001b[1;32mIn[1], line 1\u001b[0m\n\u001b[1;32m----> 1\u001b[0m \u001b[38;5;28;01mfrom\u001b[39;00m \u001b[38;5;21;01mGoogleTrendsScraper\u001b[39;00m \u001b[38;5;28;01mimport\u001b[39;00m GoogleTrendsScraper\n",
      "\u001b[1;31mModuleNotFoundError\u001b[0m: No module named 'GoogleTrendsScraper'"
     ]
    }
   ],
   "source": [
    "from GoogleTrendsScraper import GoogleTrendsScraper"
   ]
  },
  {
   "cell_type": "code",
   "execution_count": null,
   "id": "5ff4bf07",
   "metadata": {},
   "outputs": [],
   "source": [
    "import requests\n",
    "from bs4 import BeautifulSoup\n",
    "header={'User-Agent':'Mozilla/5.0 (Windows NT 10.0; Win64; x64) AppleWebKit/537.36 (KHTML, like Gecko) Chrome/74.0.3729.169 Safari/537.36'}"
   ]
  },
  {
   "cell_type": "code",
   "execution_count": null,
   "id": "d45b4fcd",
   "metadata": {},
   "outputs": [],
   "source": [
    "import requests\n",
    "import pandas as pd\n",
    "from bs4 import BeautifulSoup\n",
    "text = []\n",
    "for query in [\n",
    "    'forfait+gratuit+Mali+vpn',\n",
    "    'vpn+mali',\n",
    "    'anonytune_mali',\n",
    "    'yourFreedom+orange',\n",
    "    'internet_free+mali',\n",
    "    'host_orangemali',\n",
    "    'forfait+illimité+mali',\n",
    "    'connexion+gratuit+mali',\n",
    "    'tunnel+orange+Mali',\n",
    "    'pasdeforfaitinternetorange'\n",
    "] : \n",
    "    url = f'https://www.google.com/search?q={query}'\n",
    "    header={'User-Agent':'Mozilla/5.0 (Windows NT 10.0; Win64; x64) AppleWebKit/537.36 (KHTML, like Gecko) Chrome/74.0.3729.169 Safari/537.36'}\n",
    "    data = requests.get(url, headers=header)\n",
    "\n",
    "    if data.status_code == 200:\n",
    "        soup = BeautifulSoup(data.content, \"html.parser\")\n",
    "        results = []\n",
    "        for g in soup.find_all('div',  {'class':'g'}):\n",
    "            anchors = g.find_all('a')\n",
    "            if anchors:\n",
    "                #link = anchors[0]['href']\n",
    "                title = g.find('a').text\n",
    "                try:\n",
    "                    description = g.find('div', {'data-sncf':'2'}).text\n",
    "                    text_desc = text_info.find('div', attrs={'class':'card-content t-small bt p20'}).getText(strip=True)\n",
    "                except Exception as e:\n",
    "                    description = \"-\"\n",
    "                    text_desc = '-'\n",
    "            results.append(str(title)+\";\"+str(link)+';'+str(description)+';'+str(text_desc))\n",
    "\n",
    "    with open(\"serp.csv\", \"w\") as f:\n",
    "        f.write(\"Title; Link; Description\\n\")\n",
    "    for result in results:\n",
    "        with open(\"serp.csv\", \"a\", encoding=\"utf-8\") as f:\n",
    "            f.write(str(result)+\"\\n\")\n",
    "        print(result)\n",
    "        text.append(result)"
   ]
  },
  {
   "cell_type": "code",
   "execution_count": 2,
   "id": "243b405c",
   "metadata": {},
   "outputs": [
    {
     "name": "stdout",
     "output_type": "stream",
     "text": [
      "                                                Title   \n",
      "0             Connexion internet gratuite Orange Mali  \\\n",
      "1   Internet gratuit illimité Orange Mali (Astuces...   \n",
      "2                                 Vpn gratuit au Mali   \n",
      "3        Comment configurer internet sur votre mobile   \n",
      "4             la connection internet gratuite au mali   \n",
      "..                                                ...   \n",
      "76  Orange - 200% Pass Internet pour bien démarrer...   \n",
      "77  Internet Orange Mali : recharger votre mobile ...   \n",
      "78  Avec Orange, composez votre offre internet et ...   \n",
      "79                Forfait mobile sans internet orange   \n",
      "80  Quels sont les différents canaux pour consulte...   \n",
      "\n",
      "                                                 Link   \n",
      "0    https://www.facebook.com/groups/373261044156562/  \\\n",
      "1   https://www.gb00tech.com/2020/12/internet-grat...   \n",
      "2   https://forums.commentcamarche.net/forum/affic...   \n",
      "3   https://www.orangemali.com/fr/comment-configur...   \n",
      "4                        http://laban.centerblog.net/   \n",
      "..                                                ...   \n",
      "76  https://www.facebook.com/orange.mali/posts/200...   \n",
      "77  https://www.monisnap.com/fr/blog/article/inter...   \n",
      "78  https://www.degrouptest.com/actualite/avec-ora...   \n",
      "79  https://jecherche1forfait.com/forfait-mobile/o...   \n",
      "80  https://www.orange.cd/fr/assistance/quels-sont...   \n",
      "\n",
      "                 Description  \n",
      "0   No description available  \n",
      "1   No description available  \n",
      "2   No description available  \n",
      "3   No description available  \n",
      "4   No description available  \n",
      "..                       ...  \n",
      "76  No description available  \n",
      "77  No description available  \n",
      "78  No description available  \n",
      "79  No description available  \n",
      "80  No description available  \n",
      "\n",
      "[81 rows x 3 columns]\n"
     ]
    }
   ],
   "source": [
    "import requests\n",
    "import pandas as pd\n",
    "from bs4 import BeautifulSoup\n",
    "\n",
    "queries = [\n",
    "    'forfait+gratuit+Mali+vpn',\n",
    "    'vpn+mali',\n",
    "    'anonytune_mali',\n",
    "    'yourFreedom+orange',\n",
    "    'internet_free+mali',\n",
    "    'host_orangemali',\n",
    "    'forfait+illimité+mali',\n",
    "    'connexion+gratuit+mali',\n",
    "    'tunnel+orange+Mali',\n",
    "    'pasdeforfaitinternetorange'\n",
    "]\n",
    "\n",
    "all_results = []\n",
    "\n",
    "for query in queries:\n",
    "    url = f'https://www.google.com/search?q={query}'\n",
    "    header = {'User-Agent': 'Mozilla/5.0 (Windows NT 10.0; Win64; x64) AppleWebKit/537.36 (KHTML, like Gecko) Chrome/74.0.3729.169 Safari/537.36'}\n",
    "    data = requests.get(url, headers=header)\n",
    "\n",
    "    if data.status_code == 200:\n",
    "        soup = BeautifulSoup(data.content, 'html.parser')\n",
    "        results = []\n",
    "        for g in soup.find_all('div', {'class': 'tF2Cxc'}):\n",
    "            anchors = g.find_all('a')\n",
    "            if anchors:\n",
    "                title = anchors[0].find('h3').text\n",
    "                link = anchors[0]['href']\n",
    "                description_elem = g.find('div', {'class': 'IsZvec'})\n",
    "                description = description_elem.text if description_elem else \"No description available\"\n",
    "                results.append([title, link, description])\n",
    "\n",
    "        all_results.extend(results)\n",
    "\n",
    "# Convert the results to a DataFrame\n",
    "df = pd.DataFrame(all_results, columns=['Title', 'Link', 'Description'])\n",
    "\n",
    "# Save the DataFrame to a CSV file\n",
    "df.Title.to_csv('serp.csv', index=False, encoding='utf-8')\n",
    "\n",
    "# Display the DataFrame\n",
    "print(df)\n"
   ]
  },
  {
   "cell_type": "code",
   "execution_count": null,
   "id": "b3c3502e",
   "metadata": {},
   "outputs": [],
   "source": [
    "from itertools import islice\n",
    "from nltk.tokenize import word_tokenize\n",
    "import nltk\n",
    "nltk.download('stopwords')\n",
    "nltk.download('punkt')\n",
    "from nltk.corpus import stopwords\n",
    "import pandas as pd\n",
    "import matplotlib.pyplot as plt\n",
    "\n",
    "def load_text(filename):\n",
    "    my_text = list()\n",
    "    with open(filename, encoding= \"utf-8\") as f:\n",
    "        for line in islice(f, 0, None):\n",
    "            my_text.append(line)\n",
    "    my_text = [word_tokenize(sentence) for sentence in my_text]\n",
    "    flat_list = [item for sublist in my_text for item in sublist]\n",
    "    return flat_list"
   ]
  },
  {
   "cell_type": "code",
   "execution_count": null,
   "id": "a282a1c6",
   "metadata": {},
   "outputs": [],
   "source": [
    "goog = load_text('serp.csv')\n",
    "goog"
   ]
  },
  {
   "cell_type": "code",
   "execution_count": null,
   "id": "8a0628f5",
   "metadata": {},
   "outputs": [],
   "source": [
    "def prepare_text(list_of_words):\n",
    "  #load stopwords:\n",
    "  stops = stopwords.words('english')\n",
    "  #transform all word characters to lower case:\n",
    "  list_of_words = [word.lower() for word in list_of_words]\n",
    "  #remove all words containing up to two characters:\n",
    "  list_of_words = [word for word in list_of_words if len(word)>2]\n",
    "  #remove stopwords:\n",
    "  list_of_words = [word for word in list_of_words if word not in stops]\n",
    "  return list_of_words"
   ]
  },
  {
   "cell_type": "code",
   "execution_count": null,
   "id": "937f61d5",
   "metadata": {},
   "outputs": [],
   "source": [
    "goog_process = prepare_text(goog)\n",
    "goog_process"
   ]
  },
  {
   "cell_type": "code",
   "execution_count": null,
   "id": "f43b7900",
   "metadata": {},
   "outputs": [],
   "source": [
    "########Function to count of words\n",
    "unique_words = []\n",
    "counts = []\n",
    "def count_freq(my_list) : \n",
    "    for word in my_list : \n",
    "        if word not in unique_words : \n",
    "            unique_words.append(word) \n",
    "    for i in unique_words : \n",
    "        count = 0\n",
    "        for j in my_list :\n",
    "            if i == j :\n",
    "                count+=1\n",
    "        counts.append(count)\n",
    "    df = pd.DataFrame({\"word\": unique_words, \"count\": counts})\n",
    "    df.sort_values(by=\"count\", inplace = True, ascending = False)\n",
    "    df.reset_index(drop=True, inplace = True)\n",
    "    return df"
   ]
  },
  {
   "cell_type": "code",
   "execution_count": null,
   "id": "50a5e64f",
   "metadata": {},
   "outputs": [],
   "source": [
    "goog_process = count_freq(goog_process)\n",
    "goog_process = goog_process.iloc[:10]"
   ]
  },
  {
   "cell_type": "code",
   "execution_count": null,
   "id": "2ca6b1f1",
   "metadata": {},
   "outputs": [],
   "source": [
    "goog_process.to_csv('goog_process.csv')"
   ]
  },
  {
   "cell_type": "code",
   "execution_count": null,
   "id": "98becf24",
   "metadata": {},
   "outputs": [],
   "source": [
    "fig = px.bar(goog_process, x = 'word', y = 'count',\n",
    "                width=1400, height=800)\n",
    "fig.update_layout(\n",
    "xaxis_title='Name groups',\n",
    "yaxis_title='Number of members',\n",
    "plot_bgcolor='white',  # Transparent plot background\n",
    "paper_bgcolor='rgb(255,255,255)',  # White background\n",
    "font=dict(family='Arial', size=12, color='blue'),  # Font style\n",
    "margin=dict(l=50, r=50, t=50, b=50),  # Setting margins\n",
    "xaxis=dict(tickangle=45),  # Rotating x-axis labels\n",
    "yaxis=dict(tickformat=',d'),  # Adding comma to y-axis labels for thousands separator, \n",
    "title = '📊 Graph III : Nb_members : Top 10 group',\n",
    "title_x = 0.4\n",
    ")"
   ]
  },
  {
   "cell_type": "code",
   "execution_count": 375,
   "id": "03e50d49",
   "metadata": {},
   "outputs": [
    {
     "data": {
      "application/vnd.plotly.v1+json": {
       "config": {
        "plotlyServerURL": "https://plot.ly"
       },
       "data": [
        {
         "alignmentgroup": "True",
         "hovertemplate": "word=%{x}<br>count=%{y}<extra></extra>",
         "legendgroup": "",
         "marker": {
          "color": "#000001",
          "pattern": {
           "shape": ""
          }
         },
         "name": "",
         "offsetgroup": "",
         "orientation": "v",
         "showlegend": false,
         "textposition": "auto",
         "type": "bar",
         "x": [
          "mali",
          "internet",
          "orange",
          "mobile",
          "gratuit",
          "...",
          "vpn",
          "connexion",
          "comment",
          "free"
         ],
         "xaxis": "x",
         "y": [
          42,
          36,
          33,
          15,
          14,
          13,
          12,
          9,
          9,
          7
         ],
         "yaxis": "y"
        }
       ],
       "layout": {
        "barmode": "relative",
        "font": {
         "color": "black",
         "family": "Arial",
         "size": 12
        },
        "height": 800,
        "legend": {
         "tracegroupgap": 0
        },
        "margin": {
         "b": 50,
         "l": 50,
         "r": 50,
         "t": 50
        },
        "paper_bgcolor": "rgb(100,200,200)",
        "plot_bgcolor": "white",
        "template": {
         "data": {
          "candlestick": [
           {
            "decreasing": {
             "line": {
              "color": "#000033"
             }
            },
            "increasing": {
             "line": {
              "color": "#000032"
             }
            },
            "type": "candlestick"
           }
          ],
          "contour": [
           {
            "colorscale": [
             [
              0,
              "#000011"
             ],
             [
              0.1111111111111111,
              "#000012"
             ],
             [
              0.2222222222222222,
              "#000013"
             ],
             [
              0.3333333333333333,
              "#000014"
             ],
             [
              0.4444444444444444,
              "#000015"
             ],
             [
              0.5555555555555556,
              "#000016"
             ],
             [
              0.6666666666666666,
              "#000017"
             ],
             [
              0.7777777777777778,
              "#000018"
             ],
             [
              0.8888888888888888,
              "#000019"
             ],
             [
              1,
              "#000020"
             ]
            ],
            "type": "contour"
           }
          ],
          "contourcarpet": [
           {
            "colorscale": [
             [
              0,
              "#000011"
             ],
             [
              0.1111111111111111,
              "#000012"
             ],
             [
              0.2222222222222222,
              "#000013"
             ],
             [
              0.3333333333333333,
              "#000014"
             ],
             [
              0.4444444444444444,
              "#000015"
             ],
             [
              0.5555555555555556,
              "#000016"
             ],
             [
              0.6666666666666666,
              "#000017"
             ],
             [
              0.7777777777777778,
              "#000018"
             ],
             [
              0.8888888888888888,
              "#000019"
             ],
             [
              1,
              "#000020"
             ]
            ],
            "type": "contourcarpet"
           }
          ],
          "heatmap": [
           {
            "colorscale": [
             [
              0,
              "#000011"
             ],
             [
              0.1111111111111111,
              "#000012"
             ],
             [
              0.2222222222222222,
              "#000013"
             ],
             [
              0.3333333333333333,
              "#000014"
             ],
             [
              0.4444444444444444,
              "#000015"
             ],
             [
              0.5555555555555556,
              "#000016"
             ],
             [
              0.6666666666666666,
              "#000017"
             ],
             [
              0.7777777777777778,
              "#000018"
             ],
             [
              0.8888888888888888,
              "#000019"
             ],
             [
              1,
              "#000020"
             ]
            ],
            "type": "heatmap"
           }
          ],
          "histogram2d": [
           {
            "colorscale": [
             [
              0,
              "#000011"
             ],
             [
              0.1111111111111111,
              "#000012"
             ],
             [
              0.2222222222222222,
              "#000013"
             ],
             [
              0.3333333333333333,
              "#000014"
             ],
             [
              0.4444444444444444,
              "#000015"
             ],
             [
              0.5555555555555556,
              "#000016"
             ],
             [
              0.6666666666666666,
              "#000017"
             ],
             [
              0.7777777777777778,
              "#000018"
             ],
             [
              0.8888888888888888,
              "#000019"
             ],
             [
              1,
              "#000020"
             ]
            ],
            "type": "histogram2d"
           }
          ],
          "icicle": [
           {
            "textfont": {
             "color": "white"
            },
            "type": "icicle"
           }
          ],
          "sankey": [
           {
            "textfont": {
             "color": "#000036"
            },
            "type": "sankey"
           }
          ],
          "scatter": [
           {
            "marker": {
             "line": {
              "width": 0
             }
            },
            "type": "scatter"
           }
          ],
          "table": [
           {
            "cells": {
             "fill": {
              "color": "#000038"
             },
             "font": {
              "color": "#000037"
             },
             "line": {
              "color": "#000039"
             }
            },
            "header": {
             "fill": {
              "color": "#000040"
             },
             "font": {
              "color": "#000036"
             },
             "line": {
              "color": "#000039"
             }
            },
            "type": "table"
           }
          ],
          "waterfall": [
           {
            "connector": {
             "line": {
              "color": "#000036",
              "width": 2
             }
            },
            "decreasing": {
             "marker": {
              "color": "#000033"
             }
            },
            "increasing": {
             "marker": {
              "color": "#000032"
             }
            },
            "totals": {
             "marker": {
              "color": "#000034"
             }
            },
            "type": "waterfall"
           }
          ]
         },
         "layout": {
          "coloraxis": {
           "colorscale": [
            [
             0,
             "#000011"
            ],
            [
             0.1111111111111111,
             "#000012"
            ],
            [
             0.2222222222222222,
             "#000013"
            ],
            [
             0.3333333333333333,
             "#000014"
            ],
            [
             0.4444444444444444,
             "#000015"
            ],
            [
             0.5555555555555556,
             "#000016"
            ],
            [
             0.6666666666666666,
             "#000017"
            ],
            [
             0.7777777777777778,
             "#000018"
            ],
            [
             0.8888888888888888,
             "#000019"
            ],
            [
             1,
             "#000020"
            ]
           ]
          },
          "colorscale": {
           "diverging": [
            [
             0,
             "#000021"
            ],
            [
             0.1,
             "#000022"
            ],
            [
             0.2,
             "#000023"
            ],
            [
             0.3,
             "#000024"
            ],
            [
             0.4,
             "#000025"
            ],
            [
             0.5,
             "#000026"
            ],
            [
             0.6,
             "#000027"
            ],
            [
             0.7,
             "#000028"
            ],
            [
             0.8,
             "#000029"
            ],
            [
             0.9,
             "#000030"
            ],
            [
             1,
             "#000031"
            ]
           ],
           "sequential": [
            [
             0,
             "#000011"
            ],
            [
             0.1111111111111111,
             "#000012"
            ],
            [
             0.2222222222222222,
             "#000013"
            ],
            [
             0.3333333333333333,
             "#000014"
            ],
            [
             0.4444444444444444,
             "#000015"
            ],
            [
             0.5555555555555556,
             "#000016"
            ],
            [
             0.6666666666666666,
             "#000017"
            ],
            [
             0.7777777777777778,
             "#000018"
            ],
            [
             0.8888888888888888,
             "#000019"
            ],
            [
             1,
             "#000020"
            ]
           ],
           "sequentialminus": [
            [
             0,
             "#000011"
            ],
            [
             0.1111111111111111,
             "#000012"
            ],
            [
             0.2222222222222222,
             "#000013"
            ],
            [
             0.3333333333333333,
             "#000014"
            ],
            [
             0.4444444444444444,
             "#000015"
            ],
            [
             0.5555555555555556,
             "#000016"
            ],
            [
             0.6666666666666666,
             "#000017"
            ],
            [
             0.7777777777777778,
             "#000018"
            ],
            [
             0.8888888888888888,
             "#000019"
            ],
            [
             1,
             "#000020"
            ]
           ]
          },
          "colorway": [
           "#000001",
           "#000002",
           "#000003",
           "#000004",
           "#000005",
           "#000006",
           "#000007",
           "#000008",
           "#000009",
           "#000010"
          ]
         }
        },
        "title": {
         "text": "📊 TOP 15 of words",
         "x": 0.4
        },
        "width": 1400,
        "xaxis": {
         "anchor": "y",
         "domain": [
          0,
          1
         ],
         "tickangle": 45,
         "title": {
          "text": "words"
         }
        },
        "yaxis": {
         "anchor": "x",
         "domain": [
          0,
          1
         ],
         "tickformat": ",d",
         "title": {
          "text": "Frequency of word"
         }
        }
       }
      },
      "text/html": [
       "<div>                            <div id=\"4e4591f7-c857-4c1f-8a73-79973994e109\" class=\"plotly-graph-div\" style=\"height:800px; width:1400px;\"></div>            <script type=\"text/javascript\">                require([\"plotly\"], function(Plotly) {                    window.PLOTLYENV=window.PLOTLYENV || {};                                    if (document.getElementById(\"4e4591f7-c857-4c1f-8a73-79973994e109\")) {                    Plotly.newPlot(                        \"4e4591f7-c857-4c1f-8a73-79973994e109\",                        [{\"alignmentgroup\":\"True\",\"hovertemplate\":\"word=%{x}<br>count=%{y}<extra></extra>\",\"legendgroup\":\"\",\"marker\":{\"color\":\"#000001\",\"pattern\":{\"shape\":\"\"}},\"name\":\"\",\"offsetgroup\":\"\",\"orientation\":\"v\",\"showlegend\":false,\"textposition\":\"auto\",\"x\":[\"mali\",\"internet\",\"orange\",\"mobile\",\"gratuit\",\"...\",\"vpn\",\"connexion\",\"comment\",\"free\"],\"xaxis\":\"x\",\"y\":[42,36,33,15,14,13,12,9,9,7],\"yaxis\":\"y\",\"type\":\"bar\"}],                        {\"template\":{\"data\":{\"candlestick\":[{\"decreasing\":{\"line\":{\"color\":\"#000033\"}},\"increasing\":{\"line\":{\"color\":\"#000032\"}},\"type\":\"candlestick\"}],\"contourcarpet\":[{\"colorscale\":[[0.0,\"#000011\"],[0.1111111111111111,\"#000012\"],[0.2222222222222222,\"#000013\"],[0.3333333333333333,\"#000014\"],[0.4444444444444444,\"#000015\"],[0.5555555555555556,\"#000016\"],[0.6666666666666666,\"#000017\"],[0.7777777777777778,\"#000018\"],[0.8888888888888888,\"#000019\"],[1.0,\"#000020\"]],\"type\":\"contourcarpet\"}],\"contour\":[{\"colorscale\":[[0.0,\"#000011\"],[0.1111111111111111,\"#000012\"],[0.2222222222222222,\"#000013\"],[0.3333333333333333,\"#000014\"],[0.4444444444444444,\"#000015\"],[0.5555555555555556,\"#000016\"],[0.6666666666666666,\"#000017\"],[0.7777777777777778,\"#000018\"],[0.8888888888888888,\"#000019\"],[1.0,\"#000020\"]],\"type\":\"contour\"}],\"heatmap\":[{\"colorscale\":[[0.0,\"#000011\"],[0.1111111111111111,\"#000012\"],[0.2222222222222222,\"#000013\"],[0.3333333333333333,\"#000014\"],[0.4444444444444444,\"#000015\"],[0.5555555555555556,\"#000016\"],[0.6666666666666666,\"#000017\"],[0.7777777777777778,\"#000018\"],[0.8888888888888888,\"#000019\"],[1.0,\"#000020\"]],\"type\":\"heatmap\"}],\"histogram2d\":[{\"colorscale\":[[0.0,\"#000011\"],[0.1111111111111111,\"#000012\"],[0.2222222222222222,\"#000013\"],[0.3333333333333333,\"#000014\"],[0.4444444444444444,\"#000015\"],[0.5555555555555556,\"#000016\"],[0.6666666666666666,\"#000017\"],[0.7777777777777778,\"#000018\"],[0.8888888888888888,\"#000019\"],[1.0,\"#000020\"]],\"type\":\"histogram2d\"}],\"icicle\":[{\"textfont\":{\"color\":\"white\"},\"type\":\"icicle\"}],\"sankey\":[{\"textfont\":{\"color\":\"#000036\"},\"type\":\"sankey\"}],\"scatter\":[{\"marker\":{\"line\":{\"width\":0}},\"type\":\"scatter\"}],\"table\":[{\"cells\":{\"fill\":{\"color\":\"#000038\"},\"font\":{\"color\":\"#000037\"},\"line\":{\"color\":\"#000039\"}},\"header\":{\"fill\":{\"color\":\"#000040\"},\"font\":{\"color\":\"#000036\"},\"line\":{\"color\":\"#000039\"}},\"type\":\"table\"}],\"waterfall\":[{\"connector\":{\"line\":{\"color\":\"#000036\",\"width\":2}},\"decreasing\":{\"marker\":{\"color\":\"#000033\"}},\"increasing\":{\"marker\":{\"color\":\"#000032\"}},\"totals\":{\"marker\":{\"color\":\"#000034\"}},\"type\":\"waterfall\"}]},\"layout\":{\"coloraxis\":{\"colorscale\":[[0.0,\"#000011\"],[0.1111111111111111,\"#000012\"],[0.2222222222222222,\"#000013\"],[0.3333333333333333,\"#000014\"],[0.4444444444444444,\"#000015\"],[0.5555555555555556,\"#000016\"],[0.6666666666666666,\"#000017\"],[0.7777777777777778,\"#000018\"],[0.8888888888888888,\"#000019\"],[1.0,\"#000020\"]]},\"colorscale\":{\"diverging\":[[0.0,\"#000021\"],[0.1,\"#000022\"],[0.2,\"#000023\"],[0.3,\"#000024\"],[0.4,\"#000025\"],[0.5,\"#000026\"],[0.6,\"#000027\"],[0.7,\"#000028\"],[0.8,\"#000029\"],[0.9,\"#000030\"],[1.0,\"#000031\"]],\"sequential\":[[0.0,\"#000011\"],[0.1111111111111111,\"#000012\"],[0.2222222222222222,\"#000013\"],[0.3333333333333333,\"#000014\"],[0.4444444444444444,\"#000015\"],[0.5555555555555556,\"#000016\"],[0.6666666666666666,\"#000017\"],[0.7777777777777778,\"#000018\"],[0.8888888888888888,\"#000019\"],[1.0,\"#000020\"]],\"sequentialminus\":[[0.0,\"#000011\"],[0.1111111111111111,\"#000012\"],[0.2222222222222222,\"#000013\"],[0.3333333333333333,\"#000014\"],[0.4444444444444444,\"#000015\"],[0.5555555555555556,\"#000016\"],[0.6666666666666666,\"#000017\"],[0.7777777777777778,\"#000018\"],[0.8888888888888888,\"#000019\"],[1.0,\"#000020\"]]},\"colorway\":[\"#000001\",\"#000002\",\"#000003\",\"#000004\",\"#000005\",\"#000006\",\"#000007\",\"#000008\",\"#000009\",\"#000010\"]}},\"xaxis\":{\"anchor\":\"y\",\"domain\":[0.0,1.0],\"title\":{\"text\":\"words\"},\"tickangle\":45},\"yaxis\":{\"anchor\":\"x\",\"domain\":[0.0,1.0],\"title\":{\"text\":\"Frequency of word\"},\"tickformat\":\",d\"},\"legend\":{\"tracegroupgap\":0},\"margin\":{\"t\":50,\"l\":50,\"r\":50,\"b\":50},\"barmode\":\"relative\",\"height\":800,\"width\":1400,\"font\":{\"family\":\"Arial\",\"size\":12,\"color\":\"black\"},\"title\":{\"text\":\"\\ud83d\\udcca TOP 15 of words\",\"x\":0.4},\"plot_bgcolor\":\"white\",\"paper_bgcolor\":\"rgb(100,200,200)\"},                        {\"responsive\": true}                    ).then(function(){\n",
       "                            \n",
       "var gd = document.getElementById('4e4591f7-c857-4c1f-8a73-79973994e109');\n",
       "var x = new MutationObserver(function (mutations, observer) {{\n",
       "        var display = window.getComputedStyle(gd).display;\n",
       "        if (!display || display === 'none') {{\n",
       "            console.log([gd, 'removed!']);\n",
       "            Plotly.purge(gd);\n",
       "            observer.disconnect();\n",
       "        }}\n",
       "}});\n",
       "\n",
       "// Listen for the removal of the full notebook cells\n",
       "var notebookContainer = gd.closest('#notebook-container');\n",
       "if (notebookContainer) {{\n",
       "    x.observe(notebookContainer, {childList: true});\n",
       "}}\n",
       "\n",
       "// Listen for the clearing of the current output cell\n",
       "var outputEl = gd.closest('.output');\n",
       "if (outputEl) {{\n",
       "    x.observe(outputEl, {childList: true});\n",
       "}}\n",
       "\n",
       "                        })                };                });            </script>        </div>"
      ]
     },
     "metadata": {},
     "output_type": "display_data"
    }
   ],
   "source": [
    "fig = px.bar(goog_process, x = 'word', y = 'count', \n",
    "width=1400, height=800 )\n",
    "fig.update_layout(\n",
    "xaxis_title='words',\n",
    "yaxis_title='Frequency of word',\n",
    "plot_bgcolor='white',  # Transparent plot background\n",
    "paper_bgcolor='rgb(100,200,200)',  # White background\n",
    "font=dict(family='Arial', size=12, color='black'),  # Font style\n",
    "margin=dict(l=50, r=50, t=50, b=50),  # Setting margins\n",
    "xaxis=dict(tickangle=45),  # Rotating x-axis labels\n",
    "yaxis=dict(tickformat=',d'),  # Adding comma to y-axis labels for thousands separator, \n",
    "title = '📊 TOP 15 of words',\n",
    "title_x = 0.4\n",
    ")"
   ]
  },
  {
   "cell_type": "code",
   "execution_count": null,
   "id": "ddb5899e",
   "metadata": {},
   "outputs": [],
   "source": []
  }
 ],
 "metadata": {
  "kernelspec": {
   "display_name": "Python 3 (ipykernel)",
   "language": "python",
   "name": "python3"
  },
  "language_info": {
   "codemirror_mode": {
    "name": "ipython",
    "version": 3
   },
   "file_extension": ".py",
   "mimetype": "text/x-python",
   "name": "python",
   "nbconvert_exporter": "python",
   "pygments_lexer": "ipython3",
   "version": "3.10.11"
  }
 },
 "nbformat": 4,
 "nbformat_minor": 5
}
