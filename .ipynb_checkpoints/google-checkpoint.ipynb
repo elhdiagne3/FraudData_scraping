{
 "cells": [
  {
   "cell_type": "code",
   "execution_count": 13,
   "id": "8ff05136",
   "metadata": {},
   "outputs": [],
   "source": [
    "import plotly.express as px"
   ]
  },
  {
   "cell_type": "code",
   "execution_count": 31,
   "id": "5ff4bf07",
   "metadata": {},
   "outputs": [],
   "source": [
    "import requests\n",
    "from bs4 import BeautifulSoup\n",
    "header={'User-Agent':'Mozilla/5.0 (Windows NT 10.0; Win64; x64) AppleWebKit/537.36 (KHTML, like Gecko) Chrome/74.0.3729.169 Safari/537.36'}"
   ]
  },
  {
   "cell_type": "code",
   "execution_count": 90,
   "id": "9a8eaef0",
   "metadata": {
    "scrolled": false
   },
   "outputs": [
    {
     "ename": "KeyError",
     "evalue": "'name=slice(None, 3, None), domain=None, path=None'",
     "output_type": "error",
     "traceback": [
      "\u001b[1;31m---------------------------------------------------------------------------\u001b[0m",
      "\u001b[1;31mKeyError\u001b[0m                                  Traceback (most recent call last)",
      "Cell \u001b[1;32mIn[90], line 30\u001b[0m\n\u001b[0;32m     27\u001b[0m response \u001b[38;5;241m=\u001b[39m requests\u001b[38;5;241m.\u001b[39mget(url, headers\u001b[38;5;241m=\u001b[39mheaders)\n\u001b[0;32m     29\u001b[0m \u001b[38;5;28;01mif\u001b[39;00m response\u001b[38;5;241m.\u001b[39mstatus_code \u001b[38;5;241m==\u001b[39m \u001b[38;5;241m200\u001b[39m:\n\u001b[1;32m---> 30\u001b[0m     soup \u001b[38;5;241m=\u001b[39m \u001b[43mBeautifulSoup\u001b[49m\u001b[43m(\u001b[49m\u001b[43mresponse\u001b[49m\u001b[38;5;241;43m.\u001b[39;49m\u001b[43mcookies\u001b[49m\u001b[43m,\u001b[49m\u001b[43m \u001b[49m\u001b[38;5;124;43m'\u001b[39;49m\u001b[38;5;124;43mhtml.parser\u001b[39;49m\u001b[38;5;124;43m'\u001b[39;49m\u001b[43m)\u001b[49m\n\u001b[0;32m     31\u001b[0m     results \u001b[38;5;241m=\u001b[39m []\n\u001b[0;32m     32\u001b[0m     \u001b[38;5;28;01mfor\u001b[39;00m i \u001b[38;5;129;01min\u001b[39;00m soup\u001b[38;5;241m.\u001b[39mfindAll(\u001b[38;5;124m'\u001b[39m\u001b[38;5;124mtime\u001b[39m\u001b[38;5;124m'\u001b[39m):\n",
      "File \u001b[1;32m~\\Documents\\Min\\envs\\pyenv1\\lib\\site-packages\\bs4\\__init__.py:319\u001b[0m, in \u001b[0;36mBeautifulSoup.__init__\u001b[1;34m(self, markup, features, builder, parse_only, from_encoding, exclude_encodings, element_classes, **kwargs)\u001b[0m\n\u001b[0;32m    317\u001b[0m rejections \u001b[38;5;241m=\u001b[39m []\n\u001b[0;32m    318\u001b[0m success \u001b[38;5;241m=\u001b[39m \u001b[38;5;28;01mFalse\u001b[39;00m\n\u001b[1;32m--> 319\u001b[0m \u001b[38;5;28;01mfor\u001b[39;00m (\u001b[38;5;28mself\u001b[39m\u001b[38;5;241m.\u001b[39mmarkup, \u001b[38;5;28mself\u001b[39m\u001b[38;5;241m.\u001b[39moriginal_encoding, \u001b[38;5;28mself\u001b[39m\u001b[38;5;241m.\u001b[39mdeclared_html_encoding,\n\u001b[0;32m    320\u001b[0m  \u001b[38;5;28mself\u001b[39m\u001b[38;5;241m.\u001b[39mcontains_replacement_characters) \u001b[38;5;129;01min\u001b[39;00m (\n\u001b[0;32m    321\u001b[0m      \u001b[38;5;28mself\u001b[39m\u001b[38;5;241m.\u001b[39mbuilder\u001b[38;5;241m.\u001b[39mprepare_markup(\n\u001b[0;32m    322\u001b[0m          markup, from_encoding, exclude_encodings\u001b[38;5;241m=\u001b[39mexclude_encodings)):\n\u001b[0;32m    323\u001b[0m     \u001b[38;5;28mself\u001b[39m\u001b[38;5;241m.\u001b[39mreset()\n\u001b[0;32m    324\u001b[0m     \u001b[38;5;28;01mtry\u001b[39;00m:\n",
      "File \u001b[1;32m~\\Documents\\Min\\envs\\pyenv1\\lib\\site-packages\\bs4\\builder\\_htmlparser.py:325\u001b[0m, in \u001b[0;36mHTMLParserTreeBuilder.prepare_markup\u001b[1;34m(self, markup, user_specified_encoding, document_declared_encoding, exclude_encodings)\u001b[0m\n\u001b[0;32m    323\u001b[0m \u001b[38;5;66;03m# Ask UnicodeDammit to sniff the most likely encoding.\u001b[39;00m\n\u001b[0;32m    324\u001b[0m try_encodings \u001b[38;5;241m=\u001b[39m [user_specified_encoding, document_declared_encoding]\n\u001b[1;32m--> 325\u001b[0m dammit \u001b[38;5;241m=\u001b[39m \u001b[43mUnicodeDammit\u001b[49m\u001b[43m(\u001b[49m\u001b[43mmarkup\u001b[49m\u001b[43m,\u001b[49m\u001b[43m \u001b[49m\u001b[43mtry_encodings\u001b[49m\u001b[43m,\u001b[49m\u001b[43m \u001b[49m\u001b[43mis_html\u001b[49m\u001b[38;5;241;43m=\u001b[39;49m\u001b[38;5;28;43;01mTrue\u001b[39;49;00m\u001b[43m,\u001b[49m\n\u001b[0;32m    326\u001b[0m \u001b[43m                       \u001b[49m\u001b[43mexclude_encodings\u001b[49m\u001b[38;5;241;43m=\u001b[39;49m\u001b[43mexclude_encodings\u001b[49m\u001b[43m)\u001b[49m\n\u001b[0;32m    327\u001b[0m \u001b[38;5;28;01myield\u001b[39;00m (dammit\u001b[38;5;241m.\u001b[39mmarkup, dammit\u001b[38;5;241m.\u001b[39moriginal_encoding,\n\u001b[0;32m    328\u001b[0m        dammit\u001b[38;5;241m.\u001b[39mdeclared_html_encoding,\n\u001b[0;32m    329\u001b[0m        dammit\u001b[38;5;241m.\u001b[39mcontains_replacement_characters)\n",
      "File \u001b[1;32m~\\Documents\\Min\\envs\\pyenv1\\lib\\site-packages\\bs4\\dammit.py:430\u001b[0m, in \u001b[0;36mUnicodeDammit.__init__\u001b[1;34m(self, markup, override_encodings, smart_quotes_to, is_html, exclude_encodings)\u001b[0m\n\u001b[0;32m    428\u001b[0m \u001b[38;5;28mself\u001b[39m\u001b[38;5;241m.\u001b[39mis_html \u001b[38;5;241m=\u001b[39m is_html\n\u001b[0;32m    429\u001b[0m \u001b[38;5;28mself\u001b[39m\u001b[38;5;241m.\u001b[39mlog \u001b[38;5;241m=\u001b[39m logging\u001b[38;5;241m.\u001b[39mgetLogger(\u001b[38;5;18m__name__\u001b[39m)\n\u001b[1;32m--> 430\u001b[0m \u001b[38;5;28mself\u001b[39m\u001b[38;5;241m.\u001b[39mdetector \u001b[38;5;241m=\u001b[39m \u001b[43mEncodingDetector\u001b[49m\u001b[43m(\u001b[49m\n\u001b[0;32m    431\u001b[0m \u001b[43m    \u001b[49m\u001b[43mmarkup\u001b[49m\u001b[43m,\u001b[49m\u001b[43m \u001b[49m\u001b[43moverride_encodings\u001b[49m\u001b[43m,\u001b[49m\u001b[43m \u001b[49m\u001b[43mis_html\u001b[49m\u001b[43m,\u001b[49m\u001b[43m \u001b[49m\u001b[43mexclude_encodings\u001b[49m\u001b[43m)\u001b[49m\n\u001b[0;32m    433\u001b[0m \u001b[38;5;66;03m# Short-circuit if the data is in Unicode to begin with.\u001b[39;00m\n\u001b[0;32m    434\u001b[0m \u001b[38;5;28;01mif\u001b[39;00m \u001b[38;5;28misinstance\u001b[39m(markup, \u001b[38;5;28mstr\u001b[39m) \u001b[38;5;129;01mor\u001b[39;00m markup \u001b[38;5;241m==\u001b[39m \u001b[38;5;124m'\u001b[39m\u001b[38;5;124m'\u001b[39m:\n",
      "File \u001b[1;32m~\\Documents\\Min\\envs\\pyenv1\\lib\\site-packages\\bs4\\dammit.py:264\u001b[0m, in \u001b[0;36mEncodingDetector.__init__\u001b[1;34m(self, markup, override_encodings, is_html, exclude_encodings)\u001b[0m\n\u001b[0;32m    261\u001b[0m \u001b[38;5;28mself\u001b[39m\u001b[38;5;241m.\u001b[39mdeclared_encoding \u001b[38;5;241m=\u001b[39m \u001b[38;5;28;01mNone\u001b[39;00m\n\u001b[0;32m    263\u001b[0m \u001b[38;5;66;03m# First order of business: strip a byte-order mark.\u001b[39;00m\n\u001b[1;32m--> 264\u001b[0m \u001b[38;5;28mself\u001b[39m\u001b[38;5;241m.\u001b[39mmarkup, \u001b[38;5;28mself\u001b[39m\u001b[38;5;241m.\u001b[39msniffed_encoding \u001b[38;5;241m=\u001b[39m \u001b[38;5;28;43mself\u001b[39;49m\u001b[38;5;241;43m.\u001b[39;49m\u001b[43mstrip_byte_order_mark\u001b[49m\u001b[43m(\u001b[49m\u001b[43mmarkup\u001b[49m\u001b[43m)\u001b[49m\n",
      "File \u001b[1;32m~\\Documents\\Min\\envs\\pyenv1\\lib\\site-packages\\bs4\\dammit.py:337\u001b[0m, in \u001b[0;36mEncodingDetector.strip_byte_order_mark\u001b[1;34m(cls, data)\u001b[0m\n\u001b[0;32m    335\u001b[0m     encoding \u001b[38;5;241m=\u001b[39m \u001b[38;5;124m'\u001b[39m\u001b[38;5;124mutf-16le\u001b[39m\u001b[38;5;124m'\u001b[39m\n\u001b[0;32m    336\u001b[0m     data \u001b[38;5;241m=\u001b[39m data[\u001b[38;5;241m2\u001b[39m:]\n\u001b[1;32m--> 337\u001b[0m \u001b[38;5;28;01melif\u001b[39;00m \u001b[43mdata\u001b[49m\u001b[43m[\u001b[49m\u001b[43m:\u001b[49m\u001b[38;5;241;43m3\u001b[39;49m\u001b[43m]\u001b[49m \u001b[38;5;241m==\u001b[39m \u001b[38;5;124mb\u001b[39m\u001b[38;5;124m'\u001b[39m\u001b[38;5;130;01m\\xef\u001b[39;00m\u001b[38;5;130;01m\\xbb\u001b[39;00m\u001b[38;5;130;01m\\xbf\u001b[39;00m\u001b[38;5;124m'\u001b[39m:\n\u001b[0;32m    338\u001b[0m     encoding \u001b[38;5;241m=\u001b[39m \u001b[38;5;124m'\u001b[39m\u001b[38;5;124mutf-8\u001b[39m\u001b[38;5;124m'\u001b[39m\n\u001b[0;32m    339\u001b[0m     data \u001b[38;5;241m=\u001b[39m data[\u001b[38;5;241m3\u001b[39m:]\n",
      "File \u001b[1;32m~\\Documents\\Min\\envs\\pyenv1\\lib\\site-packages\\requests\\cookies.py:334\u001b[0m, in \u001b[0;36mRequestsCookieJar.__getitem__\u001b[1;34m(self, name)\u001b[0m\n\u001b[0;32m    327\u001b[0m \u001b[38;5;28;01mdef\u001b[39;00m \u001b[38;5;21m__getitem__\u001b[39m(\u001b[38;5;28mself\u001b[39m, name):\n\u001b[0;32m    328\u001b[0m \u001b[38;5;250m    \u001b[39m\u001b[38;5;124;03m\"\"\"Dict-like __getitem__() for compatibility with client code. Throws\u001b[39;00m\n\u001b[0;32m    329\u001b[0m \u001b[38;5;124;03m    exception if there are more than one cookie with name. In that case,\u001b[39;00m\n\u001b[0;32m    330\u001b[0m \u001b[38;5;124;03m    use the more explicit get() method instead.\u001b[39;00m\n\u001b[0;32m    331\u001b[0m \n\u001b[0;32m    332\u001b[0m \u001b[38;5;124;03m    .. warning:: operation is O(n), not O(1).\u001b[39;00m\n\u001b[0;32m    333\u001b[0m \u001b[38;5;124;03m    \"\"\"\u001b[39;00m\n\u001b[1;32m--> 334\u001b[0m     \u001b[38;5;28;01mreturn\u001b[39;00m \u001b[38;5;28;43mself\u001b[39;49m\u001b[38;5;241;43m.\u001b[39;49m\u001b[43m_find_no_duplicates\u001b[49m\u001b[43m(\u001b[49m\u001b[43mname\u001b[49m\u001b[43m)\u001b[49m\n",
      "File \u001b[1;32m~\\Documents\\Min\\envs\\pyenv1\\lib\\site-packages\\requests\\cookies.py:413\u001b[0m, in \u001b[0;36mRequestsCookieJar._find_no_duplicates\u001b[1;34m(self, name, domain, path)\u001b[0m\n\u001b[0;32m    411\u001b[0m \u001b[38;5;28;01mif\u001b[39;00m toReturn:\n\u001b[0;32m    412\u001b[0m     \u001b[38;5;28;01mreturn\u001b[39;00m toReturn\n\u001b[1;32m--> 413\u001b[0m \u001b[38;5;28;01mraise\u001b[39;00m \u001b[38;5;167;01mKeyError\u001b[39;00m(\u001b[38;5;124mf\u001b[39m\u001b[38;5;124m\"\u001b[39m\u001b[38;5;124mname=\u001b[39m\u001b[38;5;132;01m{\u001b[39;00mname\u001b[38;5;132;01m!r}\u001b[39;00m\u001b[38;5;124m, domain=\u001b[39m\u001b[38;5;132;01m{\u001b[39;00mdomain\u001b[38;5;132;01m!r}\u001b[39;00m\u001b[38;5;124m, path=\u001b[39m\u001b[38;5;132;01m{\u001b[39;00mpath\u001b[38;5;132;01m!r}\u001b[39;00m\u001b[38;5;124m\"\u001b[39m)\n",
      "\u001b[1;31mKeyError\u001b[0m: 'name=slice(None, 3, None), domain=None, path=None'"
     ]
    }
   ],
   "source": [
    "import requests\n",
    "import pandas as pd\n",
    "from bs4 import BeautifulSoup\n",
    "\n",
    "queries = [\n",
    "    'forfait+gratuit+Mali+vpn',\n",
    "    'vpn+mali',\n",
    "    'anonytune_mali',\n",
    "    'yourFreedom+orange',\n",
    "    'internet_free+mali',\n",
    "    'host_orangemali',\n",
    "    'forfait+illimité+mali',\n",
    "    'connexion+gratuit+mali',\n",
    "    'tunnel+orange+Mali',\n",
    "    'pasdeforfaitinternetorange',\n",
    "    'apn+mali',\n",
    "    'fraud+data+mali'\n",
    "]\n",
    "\n",
    "all_results = []\n",
    "\n",
    "for query in queries:\n",
    "    url = f'https://www.google.com/search?q={query}'\n",
    "    headers = {\n",
    "        'User-Agent': 'Mozilla/5.0 (Windows NT 10.0; Win64; x64) AppleWebKit/537.36 (KHTML, like Gecko) Chrome/74.0.3729.169 Safari/537.36'\n",
    "    }\n",
    "    response = requests.get(url, headers=headers)\n",
    "\n",
    "    if response.status_code == 200:\n",
    "        soup = BeautifulSoup(response.content, 'html.parser')\n",
    "        results = []\n",
    "        for i in soup.findAll('time'):\n",
    "            if i.has_attr('datetime'):\n",
    "                print(i['datetime'])\n",
    "        for g in soup.find_all('div', {'class': 'tF2Cxc'}):\n",
    "            anchors = g.find_all('a', limit=100000)\n",
    "            if anchors:\n",
    "                title = anchors[0].find('h3').text\n",
    "                link = anchors[0]['href']\n",
    "                soup2 = BeautifulSoup(title)\n",
    "                dates = []\n",
    "                for i in soup2.findAll(title):\n",
    "                    if i.has_attr('datetime'):\n",
    "                        print(i['datetime'])\n",
    "                        dates.append(i['datetime'])\n",
    "                # Extracting date information if available\n",
    "                date_element = g.find('span', {'class': 'tddYDc'})\n",
    "                date = dates\n",
    "\n",
    "                description_elem = g.find('div', {'class': 'IsZvec'})\n",
    "                description = description_elem.text.strip() if description_elem else \"No description available\"\n",
    "\n",
    "                results.append([title, link, description, date])\n",
    "\n",
    "        all_results.extend(results)\n",
    "\n",
    "# Convert the results to a DataFrame\n",
    "df = pd.DataFrame(all_results, columns=['Title', 'Link', 'Description', 'Date'])\n",
    "\n",
    "# Save the DataFrame to a CSV file\n",
    "df.to_csv('serp.csv', index=False, encoding='utf-8')\n",
    "\n",
    "# Display the DataFrame\n",
    "print(df)\n"
   ]
  },
  {
   "cell_type": "code",
   "execution_count": 89,
   "id": "f9b37452",
   "metadata": {},
   "outputs": [
    {
     "data": {
      "text/plain": [
       "(99, 4)"
      ]
     },
     "execution_count": 89,
     "metadata": {},
     "output_type": "execute_result"
    }
   ],
   "source": [
    "df.shape"
   ]
  },
  {
   "cell_type": "code",
   "execution_count": 69,
   "id": "b3c3502e",
   "metadata": {},
   "outputs": [
    {
     "name": "stderr",
     "output_type": "stream",
     "text": [
      "[nltk_data] Downloading package stopwords to\n",
      "[nltk_data]     C:\\Users\\diagne080894\\AppData\\Roaming\\nltk_data...\n",
      "[nltk_data]   Package stopwords is already up-to-date!\n",
      "[nltk_data] Downloading package punkt to\n",
      "[nltk_data]     C:\\Users\\diagne080894\\AppData\\Roaming\\nltk_data...\n",
      "[nltk_data]   Package punkt is already up-to-date!\n"
     ]
    }
   ],
   "source": [
    "from itertools import islice\n",
    "from nltk.tokenize import word_tokenize\n",
    "import nltk\n",
    "nltk.download('stopwords')\n",
    "nltk.download('punkt')\n",
    "from nltk.corpus import stopwords\n",
    "import pandas as pd\n",
    "import matplotlib.pyplot as plt\n",
    "\n",
    "def load_text(filename):\n",
    "    my_text = list()\n",
    "    with open(filename, encoding= \"utf-8\") as f:\n",
    "        for line in islice(f, 0, None):\n",
    "            my_text.append(line)\n",
    "    my_text = [word_tokenize(sentence) for sentence in my_text]\n",
    "    flat_list = [item for sublist in my_text for item in sublist]\n",
    "    return flat_list"
   ]
  },
  {
   "cell_type": "code",
   "execution_count": 70,
   "id": "a282a1c6",
   "metadata": {},
   "outputs": [
    {
     "data": {
      "text/plain": [
       "['Title',\n",
       " ',',\n",
       " 'Link',\n",
       " ',',\n",
       " 'Description',\n",
       " ',',\n",
       " 'Date',\n",
       " 'Connexion',\n",
       " 'internet',\n",
       " 'gratuite',\n",
       " 'Orange',\n",
       " 'Mali',\n",
       " ',',\n",
       " 'https',\n",
       " ':',\n",
       " '//www.facebook.com/groups/373261044156562/',\n",
       " ',',\n",
       " 'No',\n",
       " 'description',\n",
       " 'available',\n",
       " ',',\n",
       " '[',\n",
       " ']',\n",
       " 'Internet',\n",
       " 'gratuit',\n",
       " 'illimité',\n",
       " 'Orange',\n",
       " 'Mali',\n",
       " '(',\n",
       " 'Astuces',\n",
       " '2021',\n",
       " ')',\n",
       " ',',\n",
       " 'https',\n",
       " ':',\n",
       " '//www.gb00tech.com/2020/12/internet-gratuit-illimite-orange-mali.html',\n",
       " ',',\n",
       " 'No',\n",
       " 'description',\n",
       " 'available',\n",
       " ',',\n",
       " '[',\n",
       " ']',\n",
       " 'Vpn',\n",
       " 'gratuit',\n",
       " 'au',\n",
       " 'Mali',\n",
       " ',',\n",
       " 'https',\n",
       " ':',\n",
       " '//forums.commentcamarche.net/forum/affich-35457936-vpn-gratuit-au-mali',\n",
       " ',',\n",
       " 'No',\n",
       " 'description',\n",
       " 'available',\n",
       " ',',\n",
       " '[',\n",
       " ']',\n",
       " 'Comment',\n",
       " 'avoir',\n",
       " 'internet',\n",
       " 'gratuit',\n",
       " 'chez',\n",
       " 'orangemali',\n",
       " ',',\n",
       " 'https',\n",
       " ':',\n",
       " '//forums.commentcamarche.net/forum/affich-35616520-comment-avoir-internet-gratuit-chez-orangemali',\n",
       " ',',\n",
       " 'No',\n",
       " 'description',\n",
       " 'available',\n",
       " ',',\n",
       " '[',\n",
       " ']',\n",
       " 'la',\n",
       " 'connection',\n",
       " 'internet',\n",
       " 'gratuite',\n",
       " 'au',\n",
       " 'mali',\n",
       " ',',\n",
       " 'http',\n",
       " ':',\n",
       " '//laban.centerblog.net/',\n",
       " ',',\n",
       " 'No',\n",
       " 'description',\n",
       " 'available',\n",
       " ',',\n",
       " '[',\n",
       " ']',\n",
       " 'Comment',\n",
       " 'configurer',\n",
       " 'internet',\n",
       " 'sur',\n",
       " 'votre',\n",
       " 'mobile',\n",
       " ',',\n",
       " 'https',\n",
       " ':',\n",
       " '//www.orangemali.com/fr/comment-configurer-internet-sur-votre-mobile.html',\n",
       " ',',\n",
       " 'No',\n",
       " 'description',\n",
       " 'available',\n",
       " ',',\n",
       " '[',\n",
       " ']',\n",
       " 'NOUVEAU',\n",
       " 'CONNECTION',\n",
       " 'GRATUIT',\n",
       " 'PAR',\n",
       " 'ORANGEMALI',\n",
       " ',',\n",
       " 'http',\n",
       " ':',\n",
       " '//www.centerblog.net/internet/540274-112-nouveau-connection-gratuit-par-orangemali-',\n",
       " ',',\n",
       " 'No',\n",
       " 'description',\n",
       " 'available',\n",
       " ',',\n",
       " '[',\n",
       " ']',\n",
       " 'Les',\n",
       " 'offres',\n",
       " 'Internet',\n",
       " 'à',\n",
       " 'domicile',\n",
       " ',',\n",
       " 'https',\n",
       " ':',\n",
       " '//www.orangemali.com/fr/catalogue/offres-internet-a-domicile.html',\n",
       " ',',\n",
       " 'No',\n",
       " 'description',\n",
       " 'available',\n",
       " ',',\n",
       " '[',\n",
       " ']',\n",
       " 'FinchVPN',\n",
       " 'Inernet',\n",
       " 'Gratuit',\n",
       " 'configuration',\n",
       " 'sur',\n",
       " 'le',\n",
       " 'réseau',\n",
       " '...',\n",
       " ',',\n",
       " 'https',\n",
       " ':',\n",
       " '//dogons.wordpress.com/2018/03/28/finchvpn-inernet-gratuit-configuration-sur-le-reseau-orange-mali/',\n",
       " ',',\n",
       " 'No',\n",
       " 'description',\n",
       " 'available',\n",
       " ',',\n",
       " '[',\n",
       " ']',\n",
       " 'VPN',\n",
       " 'pour',\n",
       " 'le',\n",
       " 'Mali',\n",
       " '-',\n",
       " 'Quel',\n",
       " 'est',\n",
       " 'le',\n",
       " 'Meilleur',\n",
       " '?',\n",
       " ',',\n",
       " 'https',\n",
       " ':',\n",
       " '//logiciel-vpn.fr/pays/131-mali',\n",
       " ',',\n",
       " 'No',\n",
       " 'description',\n",
       " 'available',\n",
       " ',',\n",
       " '[',\n",
       " ']',\n",
       " 'Meilleur',\n",
       " 'VPN',\n",
       " 'pour',\n",
       " 'le',\n",
       " 'Mali',\n",
       " '-',\n",
       " 'VPNMag',\n",
       " ',',\n",
       " 'https',\n",
       " ':',\n",
       " '//www.vpnmag.fr/meilleur-vpn-pour-le-mali/',\n",
       " ',',\n",
       " 'No',\n",
       " 'description',\n",
       " 'available',\n",
       " ',',\n",
       " '[',\n",
       " ']',\n",
       " 'Mali',\n",
       " 'VPN',\n",
       " '-',\n",
       " 'Fast',\n",
       " 'Private',\n",
       " 'Proxy',\n",
       " '-',\n",
       " 'Apps',\n",
       " 'on',\n",
       " 'Google',\n",
       " 'Play',\n",
       " ',',\n",
       " 'https',\n",
       " ':',\n",
       " '//play.google.com/store/apps/details',\n",
       " '?',\n",
       " 'id=com.mali.cvpn',\n",
       " ',',\n",
       " 'No',\n",
       " 'description',\n",
       " 'available',\n",
       " ',',\n",
       " '[',\n",
       " ']',\n",
       " 'Mali',\n",
       " 'VPN',\n",
       " '-',\n",
       " 'Get',\n",
       " 'Fast',\n",
       " '&',\n",
       " 'Free',\n",
       " 'Mali',\n",
       " 'IP',\n",
       " 'APK',\n",
       " '-',\n",
       " 'Dernière',\n",
       " 'version',\n",
       " ',',\n",
       " 'https',\n",
       " ':',\n",
       " '//apkcombo.com/fr/mali-vpn-get-fast-free-mali-ip/com.Mali.lewis/download/apk',\n",
       " ',',\n",
       " 'No',\n",
       " 'description',\n",
       " 'available',\n",
       " ',',\n",
       " '[',\n",
       " ']',\n",
       " 'Get',\n",
       " 'the',\n",
       " 'Best',\n",
       " 'Mali',\n",
       " 'VPN',\n",
       " '|',\n",
       " 'Swift',\n",
       " 'and',\n",
       " 'Secure',\n",
       " ',',\n",
       " 'https',\n",
       " ':',\n",
       " '//www.vpnunlimited.com/help/countries/mali-vpn',\n",
       " ',',\n",
       " 'No',\n",
       " 'description',\n",
       " 'available',\n",
       " ',',\n",
       " '[',\n",
       " ']',\n",
       " 'Recrutement',\n",
       " 'VPN',\n",
       " '-',\n",
       " 'Mali',\n",
       " ',',\n",
       " 'https',\n",
       " ':',\n",
       " '//www.emploimali.com/recrutement-vpn',\n",
       " ',',\n",
       " 'No',\n",
       " 'description',\n",
       " 'available',\n",
       " ',',\n",
       " '[',\n",
       " ']',\n",
       " '``',\n",
       " 'LE',\n",
       " 'MALI',\n",
       " '-',\n",
       " 'Super',\n",
       " 'VPN',\n",
       " '-',\n",
       " 'Free',\n",
       " ',',\n",
       " 'Fast',\n",
       " ',',\n",
       " 'Secure',\n",
       " '&',\n",
       " 'Unlimited',\n",
       " '...',\n",
       " \"''\",\n",
       " ',',\n",
       " 'https',\n",
       " ':',\n",
       " '//www.facebook.com/114702653259236/posts/super-vpn-free-fast-secure-unlimited-proxy-',\n",
       " '%',\n",
       " 'C3',\n",
       " '%',\n",
       " 'A0-t',\n",
       " '%',\n",
       " 'C3',\n",
       " '%',\n",
       " 'A9l',\n",
       " '%',\n",
       " 'C3',\n",
       " '%',\n",
       " 'A9charger-sur-playe-store-pour-st/328005825262250/',\n",
       " ',',\n",
       " 'No',\n",
       " 'description',\n",
       " 'available',\n",
       " ',',\n",
       " '[',\n",
       " ']',\n",
       " 'CV',\n",
       " 'VPN',\n",
       " '-',\n",
       " 'Mali',\n",
       " ',',\n",
       " 'https',\n",
       " ':',\n",
       " '//www.emploimali.com/cv-vpn',\n",
       " ',',\n",
       " 'No',\n",
       " 'description',\n",
       " 'available',\n",
       " ',',\n",
       " '[',\n",
       " ']',\n",
       " 'Vpn',\n",
       " 'gratuit',\n",
       " 'au',\n",
       " 'Mali',\n",
       " ',',\n",
       " 'https',\n",
       " ':',\n",
       " '//forums.commentcamarche.net/forum/affich-35457936-vpn-gratuit-au-mali',\n",
       " ',',\n",
       " 'No',\n",
       " 'description',\n",
       " 'available',\n",
       " ',',\n",
       " '[',\n",
       " ']',\n",
       " 'comment',\n",
       " 'continuer',\n",
       " 'à',\n",
       " 'écouter',\n",
       " 'RFI',\n",
       " 'et',\n",
       " 'à',\n",
       " 'regarder',\n",
       " 'France',\n",
       " '24',\n",
       " '?',\n",
       " ',',\n",
       " 'https',\n",
       " ':',\n",
       " '//www.rfi.fr/fr/afrique/20220318-mali-comment-continuer-',\n",
       " '%',\n",
       " 'C3',\n",
       " '%',\n",
       " 'A0-',\n",
       " '%',\n",
       " 'C3',\n",
       " '%',\n",
       " 'A9couter-rfi-et-',\n",
       " '%',\n",
       " 'C3',\n",
       " '%',\n",
       " 'A0-regarder-france-24',\n",
       " ',',\n",
       " 'No',\n",
       " 'description',\n",
       " 'available',\n",
       " ',',\n",
       " '[',\n",
       " ']',\n",
       " 'COMPTE',\n",
       " ',',\n",
       " 'https',\n",
       " ':',\n",
       " '//www.your-freedom.net/index.php',\n",
       " '?',\n",
       " 'id=114',\n",
       " '&',\n",
       " 'L=3',\n",
       " ',',\n",
       " 'No',\n",
       " 'description',\n",
       " 'available',\n",
       " ',',\n",
       " '[',\n",
       " ']',\n",
       " 'ACCUEIL',\n",
       " ',',\n",
       " 'https',\n",
       " ':',\n",
       " '//www.your-freedom.net/index.php',\n",
       " '?',\n",
       " 'id=6',\n",
       " '&',\n",
       " 'L=3',\n",
       " ',',\n",
       " 'No',\n",
       " 'description',\n",
       " 'available',\n",
       " ',',\n",
       " '[',\n",
       " ']',\n",
       " 'New',\n",
       " 'configuration',\n",
       " 'youfreedom',\n",
       " 'orange',\n",
       " 'ci',\n",
       " ',',\n",
       " 'https',\n",
       " ':',\n",
       " '//internetpro.forumgratuit.org/t1280-new-configuration-youfreedom-orange-ci',\n",
       " ',',\n",
       " 'No',\n",
       " 'description',\n",
       " 'available',\n",
       " ',',\n",
       " '[',\n",
       " ']',\n",
       " 'Nouveau',\n",
       " 'connection',\n",
       " 'gratuit',\n",
       " 'orange',\n",
       " 'mali',\n",
       " '-',\n",
       " 'your',\n",
       " 'freedom',\n",
       " '...',\n",
       " ',',\n",
       " 'http',\n",
       " ':',\n",
       " '//www.centerblog.net/internet/734758-8-nouveau-connection-gratuit-orange-mali-',\n",
       " ',',\n",
       " 'No',\n",
       " 'description',\n",
       " 'available',\n",
       " ',',\n",
       " '[',\n",
       " ']',\n",
       " 'Télécharge',\n",
       " 'Your',\n",
       " 'Freedom',\n",
       " '20221027-01',\n",
       " 'pour',\n",
       " 'Android',\n",
       " ',',\n",
       " 'https',\n",
       " ':',\n",
       " '//your-freedom.fr.uptodown.com/android/telecharger',\n",
       " ',',\n",
       " 'No',\n",
       " 'description',\n",
       " 'available',\n",
       " ',',\n",
       " '[',\n",
       " ']',\n",
       " 'Configuration',\n",
       " 'YOUR-FREEDOM',\n",
       " '(',\n",
       " 'gratis',\n",
       " ')',\n",
       " '-',\n",
       " 'net',\n",
       " 'gratuit',\n",
       " 'au',\n",
       " 'camer',\n",
       " ',',\n",
       " 'http',\n",
       " ':',\n",
       " '//jordanguedia.over-blog.com/pages/Configuration-your-freedom-gratis-4940097.html',\n",
       " ',',\n",
       " 'No',\n",
       " 'description',\n",
       " 'available',\n",
       " ',',\n",
       " '[',\n",
       " ']',\n",
       " 'your',\n",
       " 'freedom',\n",
       " 'configuration',\n",
       " 'orange',\n",
       " 'ci',\n",
       " ',',\n",
       " 'https',\n",
       " ':',\n",
       " '//www.tiktok.com/discover/your-freedom-configuration-orange-ci',\n",
       " ',',\n",
       " 'No',\n",
       " 'description',\n",
       " 'available',\n",
       " ',',\n",
       " '[',\n",
       " ']',\n",
       " 'Hackers',\n",
       " \"d'Afrique\",\n",
       " '-',\n",
       " 'Configuration',\n",
       " 'de',\n",
       " 'your',\n",
       " 'freedom',\n",
       " 'Orange',\n",
       " '...',\n",
       " ',',\n",
       " 'https',\n",
       " ':',\n",
       " '//m.facebook.com/HackersDAfrique/photos/configuration-de-your-freedom-orange/619367951475737/',\n",
       " '?',\n",
       " 'locale=pt_BR',\n",
       " ',',\n",
       " 'No',\n",
       " 'description',\n",
       " 'available',\n",
       " ',',\n",
       " '[',\n",
       " ']',\n",
       " 'VOICI',\n",
       " 'LA',\n",
       " 'CONFIGURATION',\n",
       " 'DE',\n",
       " 'your-freedom',\n",
       " '...',\n",
       " ',',\n",
       " 'https',\n",
       " ':',\n",
       " '//www.facebook.com/1867490516623745/posts/voici-la-configuration-de-your-freedom-change-le-ems32-en-ems04-seulement-et-sur/3063415470364571/',\n",
       " ',',\n",
       " 'No',\n",
       " 'description',\n",
       " 'available',\n",
       " ',',\n",
       " '[',\n",
       " ']',\n",
       " 'Mali',\n",
       " '-',\n",
       " 'Page',\n",
       " '5',\n",
       " ',',\n",
       " 'https',\n",
       " ':',\n",
       " '//www.bfmtv.com/international/afrique/mali/page5/',\n",
       " ',',\n",
       " 'No',\n",
       " 'description',\n",
       " 'available',\n",
       " ',',\n",
       " '[',\n",
       " ']',\n",
       " '``',\n",
       " 'Appeler',\n",
       " 'le',\n",
       " 'Mali',\n",
       " ':',\n",
       " 'indicatif',\n",
       " ',',\n",
       " 'forfaits',\n",
       " 'mobiles',\n",
       " 'et',\n",
       " 'box',\n",
       " 'internet',\n",
       " \"''\",\n",
       " ',',\n",
       " 'https',\n",
       " ':',\n",
       " '//www.touslesforfaits.fr/guides/indicatifs-telephoniques/mali',\n",
       " ',',\n",
       " 'No',\n",
       " 'description',\n",
       " 'available',\n",
       " ',',\n",
       " '[',\n",
       " ']',\n",
       " 'Chaîne',\n",
       " 'Cherifla',\n",
       " 'TV',\n",
       " ':',\n",
       " 'numéro',\n",
       " 'pour',\n",
       " 'y',\n",
       " 'accéder',\n",
       " 'sur',\n",
       " 'sa',\n",
       " 'box',\n",
       " '...',\n",
       " ',',\n",
       " 'https',\n",
       " ':',\n",
       " '//www.monpetitforfait.com/comparateur-box-internet/chaines-tv/cherifla-tv',\n",
       " ',',\n",
       " 'No',\n",
       " 'description',\n",
       " 'available',\n",
       " ',',\n",
       " '[',\n",
       " ']',\n",
       " '``',\n",
       " 'Après',\n",
       " 'Internet',\n",
       " ',',\n",
       " 'Free',\n",
       " \"s'attaque\",\n",
       " 'au',\n",
       " 'mobile',\n",
       " \"''\",\n",
       " ',',\n",
       " 'https',\n",
       " ':',\n",
       " '//www.rfi.fr/fr/contenu/20091029-apres-internet-free-s-attaque-mobile',\n",
       " ',',\n",
       " 'No',\n",
       " 'description',\n",
       " 'available',\n",
       " ',',\n",
       " '[',\n",
       " ']',\n",
       " 'Offres',\n",
       " 'Internet',\n",
       " '-',\n",
       " 'Free',\n",
       " '|',\n",
       " 'PDF',\n",
       " '|',\n",
       " 'Cyberespace',\n",
       " '|',\n",
       " 'Services',\n",
       " 'en',\n",
       " 'ligne',\n",
       " ',',\n",
       " 'https',\n",
       " ':',\n",
       " '//fr.scribd.com/document/505732066/Offres-Internet-Free',\n",
       " ',',\n",
       " 'No',\n",
       " 'description',\n",
       " 'available',\n",
       " ',',\n",
       " '[',\n",
       " ']',\n",
       " 'AT',\n",
       " 'Internet',\n",
       " \"'s\",\n",
       " 'free',\n",
       " 'digital',\n",
       " 'analytics',\n",
       " 'resources',\n",
       " ',',\n",
       " 'https',\n",
       " ':',\n",
       " '//www.atinternet.com/en/resources/',\n",
       " ',',\n",
       " 'No',\n",
       " 'description',\n",
       " 'available',\n",
       " ',',\n",
       " '[',\n",
       " ']',\n",
       " 'Dicty',\n",
       " 'dans',\n",
       " \"l'App\",\n",
       " 'Store',\n",
       " '-',\n",
       " 'Apple',\n",
       " ',',\n",
       " 'https',\n",
       " ':',\n",
       " '//apps.apple.com/ml/app/dicty/id969045273',\n",
       " '?',\n",
       " 'l=fr',\n",
       " ',',\n",
       " 'No',\n",
       " 'description',\n",
       " 'available',\n",
       " ',',\n",
       " '[',\n",
       " ']',\n",
       " '``',\n",
       " 'Mali',\n",
       " 'i',\n",
       " 'Radhimes',\n",
       " 'ที่พักช่วงวันหยุดและบ้าน',\n",
       " '-',\n",
       " 'Vlorë',\n",
       " 'County',\n",
       " ',',\n",
       " 'แอลเบเนีย',\n",
       " \"''\",\n",
       " ',',\n",
       " 'https',\n",
       " ':',\n",
       " '//th.airbnb.com/mali-i-radhimes-albania/stays',\n",
       " ',',\n",
       " 'No',\n",
       " 'description',\n",
       " 'available',\n",
       " ',',\n",
       " '[',\n",
       " ']',\n",
       " 'ns7.orangemali.net',\n",
       " '-',\n",
       " '41.73.96.51',\n",
       " '-',\n",
       " 'Nom',\n",
       " \"d'hôte\",\n",
       " '-',\n",
       " 'Host-Tools',\n",
       " ',',\n",
       " 'https',\n",
       " ':',\n",
       " '//fr.host-tools.com/hostname/41.73.96.51',\n",
       " ',',\n",
       " 'No',\n",
       " 'description',\n",
       " 'available',\n",
       " ',',\n",
       " '[',\n",
       " ']',\n",
       " 'Site',\n",
       " 'web',\n",
       " 'pour',\n",
       " 'www.orangemali.com',\n",
       " 'est',\n",
       " 'HORS',\n",
       " 'LIGNE',\n",
       " ',',\n",
       " 'https',\n",
       " ':',\n",
       " '//fr.host-tools.com/online-check/www.orangemali.com/http',\n",
       " ',',\n",
       " 'No',\n",
       " 'description',\n",
       " 'available',\n",
       " ',',\n",
       " '[',\n",
       " ']',\n",
       " '``',\n",
       " '196.200.88.110',\n",
       " '|',\n",
       " 'ns6.orangemali.net',\n",
       " '-',\n",
       " 'Orange',\n",
       " 'Mali',\n",
       " 'SA',\n",
       " ',',\n",
       " 'Mali',\n",
       " \"''\",\n",
       " ',',\n",
       " 'https',\n",
       " ':',\n",
       " '//dnslytics.com/ip/196.200.88.110',\n",
       " ',',\n",
       " 'No',\n",
       " 'description',\n",
       " 'available',\n",
       " ',',\n",
       " '[',\n",
       " ']',\n",
       " 'Orange',\n",
       " 'Mali',\n",
       " 'Sa',\n",
       " 'Hosting',\n",
       " ',',\n",
       " 'https',\n",
       " ':',\n",
       " '//myip.ms/view/web_hosting/9273/Orange_Mali_Sa.html',\n",
       " ',',\n",
       " 'No',\n",
       " 'description',\n",
       " 'available',\n",
       " ',',\n",
       " '[',\n",
       " ']',\n",
       " 'IP',\n",
       " 'Abuse',\n",
       " 'Reports',\n",
       " 'for',\n",
       " '197.155.158.21',\n",
       " '-',\n",
       " 'Orange',\n",
       " 'Mali',\n",
       " 'SA',\n",
       " ',',\n",
       " 'https',\n",
       " ':',\n",
       " '//www.abuseipdb.com/check/197.155.158.21',\n",
       " ',',\n",
       " 'No',\n",
       " 'description',\n",
       " 'available',\n",
       " ',',\n",
       " '[',\n",
       " ']',\n",
       " 'Orangemali.com',\n",
       " '-',\n",
       " 'Détails',\n",
       " 'de',\n",
       " \"l'adresse\",\n",
       " 'de',\n",
       " 'domaine',\n",
       " ',',\n",
       " 'https',\n",
       " ':',\n",
       " '//www.proxydocker.com/fr/iplookup/orangemali.com',\n",
       " ',',\n",
       " 'No',\n",
       " 'description',\n",
       " 'available',\n",
       " ',',\n",
       " '[',\n",
       " ']',\n",
       " '``',\n",
       " 'Analyse',\n",
       " 'DNS',\n",
       " ',',\n",
       " 'MX',\n",
       " 'et',\n",
       " 'whois',\n",
       " 'du',\n",
       " 'domaine',\n",
       " 'www.orangemali',\n",
       " '.',\n",
       " '...',\n",
       " \"''\",\n",
       " ',',\n",
       " 'https',\n",
       " ':',\n",
       " '//nstools.fr/www.orangemali.com',\n",
       " ',',\n",
       " 'No',\n",
       " 'description',\n",
       " 'available',\n",
       " ',',\n",
       " '[',\n",
       " ']',\n",
       " 'Recherche',\n",
       " 'de',\n",
       " 'géolocalisation',\n",
       " '41.73.105.75',\n",
       " 'et',\n",
       " 'questions',\n",
       " '...',\n",
       " ',',\n",
       " 'https',\n",
       " ':',\n",
       " '//fr.ipshu.com/ipv4/41.73.105.75',\n",
       " ',',\n",
       " 'No',\n",
       " 'description',\n",
       " 'available',\n",
       " ',',\n",
       " '[',\n",
       " ']',\n",
       " 'Accueil',\n",
       " 'Orange',\n",
       " 'Mali',\n",
       " ',',\n",
       " 'https',\n",
       " ':',\n",
       " '//www.orangemali.com/',\n",
       " ',',\n",
       " 'No',\n",
       " 'description',\n",
       " 'available',\n",
       " ',',\n",
       " '[',\n",
       " ']',\n",
       " 'Forfaits',\n",
       " 'mois',\n",
       " '|',\n",
       " 'Les',\n",
       " 'offres',\n",
       " 'Internet',\n",
       " 'mobile',\n",
       " ',',\n",
       " 'https',\n",
       " ':',\n",
       " '//www.orangemali.com/fr/offres-internet-mobile/forfaits-mois-petit-budget-rapide-debit-rapidite-4g.html',\n",
       " ',',\n",
       " 'No',\n",
       " 'description',\n",
       " 'available',\n",
       " ',',\n",
       " '[',\n",
       " ']',\n",
       " 'Les',\n",
       " 'offres',\n",
       " 'Internet',\n",
       " 'mobile',\n",
       " ',',\n",
       " 'https',\n",
       " ':',\n",
       " '//www.orangemali.com/fr/catalogue/offres-internet-mobile.html',\n",
       " ',',\n",
       " 'No',\n",
       " 'description',\n",
       " 'available',\n",
       " ',',\n",
       " '[',\n",
       " ']',\n",
       " 'Le',\n",
       " 'forfait',\n",
       " 'prépayé',\n",
       " 'Damou',\n",
       " 'de',\n",
       " 'Sotelma',\n",
       " ',',\n",
       " 'http',\n",
       " ':',\n",
       " '//www.malitel.ml/particulier/mobile/prepayes/pages/damou.aspx',\n",
       " ',',\n",
       " 'No',\n",
       " 'description',\n",
       " 'available',\n",
       " ',',\n",
       " '[',\n",
       " ']',\n",
       " \"L'Internet\",\n",
       " 'très',\n",
       " 'haut',\n",
       " 'débit',\n",
       " 'Mobile',\n",
       " '3G+',\n",
       " 'de',\n",
       " 'Malitel',\n",
       " '-',\n",
       " 'Bamako',\n",
       " ',',\n",
       " 'http',\n",
       " ':',\n",
       " '//www.malitel.ml/particulier/internet/Pages/forfaits',\n",
       " '%',\n",
       " '20internet',\n",
       " '%',\n",
       " '20mobile.aspx',\n",
       " ',',\n",
       " 'No',\n",
       " 'description',\n",
       " 'available',\n",
       " ',',\n",
       " '[',\n",
       " ']',\n",
       " 'Le',\n",
       " 'forfait',\n",
       " 'mobile',\n",
       " 'prépayé',\n",
       " 'Douman',\n",
       " 'de',\n",
       " 'Malitel',\n",
       " ',',\n",
       " 'https',\n",
       " ':',\n",
       " '//www.moov-africa.ml/particulier/mobile/Prepayes/Pages/Forfaits',\n",
       " '%',\n",
       " '20mensuels',\n",
       " '%',\n",
       " '20pr',\n",
       " '%',\n",
       " 'C3',\n",
       " '%',\n",
       " 'A9pay',\n",
       " '%',\n",
       " 'C3',\n",
       " '%',\n",
       " 'A9s.aspx',\n",
       " ',',\n",
       " 'No',\n",
       " 'description',\n",
       " 'available',\n",
       " ',',\n",
       " '[',\n",
       " ']',\n",
       " 'Internet',\n",
       " 'Orange',\n",
       " 'Mali',\n",
       " ':',\n",
       " 'recharger',\n",
       " 'votre',\n",
       " 'mobile',\n",
       " 'en',\n",
       " '1min',\n",
       " '!',\n",
       " ',',\n",
       " 'https',\n",
       " ':',\n",
       " '//www.monisnap.com/fr/blog/article/internet-orange-mali/',\n",
       " ',',\n",
       " 'No',\n",
       " 'description',\n",
       " ...]"
      ]
     },
     "execution_count": 70,
     "metadata": {},
     "output_type": "execute_result"
    }
   ],
   "source": [
    "goog = load_text('serp.csv')\n",
    "goog"
   ]
  },
  {
   "cell_type": "code",
   "execution_count": 71,
   "id": "8a0628f5",
   "metadata": {},
   "outputs": [],
   "source": [
    "def prepare_text(list_of_words):\n",
    "  #load stopwords:\n",
    "  stops = stopwords.words('english')\n",
    "  #transform all word characters to lower case:\n",
    "  list_of_words = [word.lower() for word in list_of_words]\n",
    "  #remove all words containing up to two characters:\n",
    "  list_of_words = [word for word in list_of_words if len(word)>2]\n",
    "  #remove stopwords:\n",
    "  list_of_words = [word for word in list_of_words if word not in stops]\n",
    "  return list_of_words"
   ]
  },
  {
   "cell_type": "code",
   "execution_count": 79,
   "id": "937f61d5",
   "metadata": {},
   "outputs": [
    {
     "data": {
      "text/plain": [
       "['title',\n",
       " 'link',\n",
       " 'description',\n",
       " 'date',\n",
       " 'connexion',\n",
       " 'internet',\n",
       " 'gratuite',\n",
       " 'orange',\n",
       " 'mali',\n",
       " 'https',\n",
       " '//www.facebook.com/groups/373261044156562/',\n",
       " 'description',\n",
       " 'available',\n",
       " 'internet',\n",
       " 'gratuit',\n",
       " 'illimité',\n",
       " 'orange',\n",
       " 'mali',\n",
       " 'astuces',\n",
       " '2021',\n",
       " 'https',\n",
       " '//www.gb00tech.com/2020/12/internet-gratuit-illimite-orange-mali.html',\n",
       " 'description',\n",
       " 'available',\n",
       " 'vpn',\n",
       " 'gratuit',\n",
       " 'mali',\n",
       " 'https',\n",
       " '//forums.commentcamarche.net/forum/affich-35457936-vpn-gratuit-au-mali',\n",
       " 'description',\n",
       " 'available',\n",
       " 'comment',\n",
       " 'avoir',\n",
       " 'internet',\n",
       " 'gratuit',\n",
       " 'chez',\n",
       " 'orangemali',\n",
       " 'https',\n",
       " '//forums.commentcamarche.net/forum/affich-35616520-comment-avoir-internet-gratuit-chez-orangemali',\n",
       " 'description',\n",
       " 'available',\n",
       " 'connection',\n",
       " 'internet',\n",
       " 'gratuite',\n",
       " 'mali',\n",
       " 'http',\n",
       " '//laban.centerblog.net/',\n",
       " 'description',\n",
       " 'available',\n",
       " 'comment',\n",
       " 'configurer',\n",
       " 'internet',\n",
       " 'sur',\n",
       " 'votre',\n",
       " 'mobile',\n",
       " 'https',\n",
       " '//www.orangemali.com/fr/comment-configurer-internet-sur-votre-mobile.html',\n",
       " 'description',\n",
       " 'available',\n",
       " 'nouveau',\n",
       " 'connection',\n",
       " 'gratuit',\n",
       " 'par',\n",
       " 'orangemali',\n",
       " 'http',\n",
       " '//www.centerblog.net/internet/540274-112-nouveau-connection-gratuit-par-orangemali-',\n",
       " 'description',\n",
       " 'available',\n",
       " 'les',\n",
       " 'offres',\n",
       " 'internet',\n",
       " 'domicile',\n",
       " 'https',\n",
       " '//www.orangemali.com/fr/catalogue/offres-internet-a-domicile.html',\n",
       " 'description',\n",
       " 'available',\n",
       " 'finchvpn',\n",
       " 'inernet',\n",
       " 'gratuit',\n",
       " 'configuration',\n",
       " 'sur',\n",
       " 'réseau',\n",
       " '...',\n",
       " 'https',\n",
       " '//dogons.wordpress.com/2018/03/28/finchvpn-inernet-gratuit-configuration-sur-le-reseau-orange-mali/',\n",
       " 'description',\n",
       " 'available',\n",
       " 'vpn',\n",
       " 'pour',\n",
       " 'mali',\n",
       " 'quel',\n",
       " 'est',\n",
       " 'meilleur',\n",
       " 'https',\n",
       " '//logiciel-vpn.fr/pays/131-mali',\n",
       " 'description',\n",
       " 'available',\n",
       " 'meilleur',\n",
       " 'vpn',\n",
       " 'pour',\n",
       " 'mali',\n",
       " 'vpnmag',\n",
       " 'https',\n",
       " '//www.vpnmag.fr/meilleur-vpn-pour-le-mali/',\n",
       " 'description',\n",
       " 'available',\n",
       " 'mali',\n",
       " 'vpn',\n",
       " 'fast',\n",
       " 'private',\n",
       " 'proxy',\n",
       " 'apps',\n",
       " 'google',\n",
       " 'play',\n",
       " 'https',\n",
       " '//play.google.com/store/apps/details',\n",
       " 'id=com.mali.cvpn',\n",
       " 'description',\n",
       " 'available',\n",
       " 'mali',\n",
       " 'vpn',\n",
       " 'get',\n",
       " 'fast',\n",
       " 'free',\n",
       " 'mali',\n",
       " 'apk',\n",
       " 'dernière',\n",
       " 'version',\n",
       " 'https',\n",
       " '//apkcombo.com/fr/mali-vpn-get-fast-free-mali-ip/com.mali.lewis/download/apk',\n",
       " 'description',\n",
       " 'available',\n",
       " 'get',\n",
       " 'best',\n",
       " 'mali',\n",
       " 'vpn',\n",
       " 'swift',\n",
       " 'secure',\n",
       " 'https',\n",
       " '//www.vpnunlimited.com/help/countries/mali-vpn',\n",
       " 'description',\n",
       " 'available',\n",
       " 'recrutement',\n",
       " 'vpn',\n",
       " 'mali',\n",
       " 'https',\n",
       " '//www.emploimali.com/recrutement-vpn',\n",
       " 'description',\n",
       " 'available',\n",
       " 'mali',\n",
       " 'super',\n",
       " 'vpn',\n",
       " 'free',\n",
       " 'fast',\n",
       " 'secure',\n",
       " 'unlimited',\n",
       " '...',\n",
       " 'https',\n",
       " '//www.facebook.com/114702653259236/posts/super-vpn-free-fast-secure-unlimited-proxy-',\n",
       " 'a0-t',\n",
       " 'a9l',\n",
       " 'a9charger-sur-playe-store-pour-st/328005825262250/',\n",
       " 'description',\n",
       " 'available',\n",
       " 'vpn',\n",
       " 'mali',\n",
       " 'https',\n",
       " '//www.emploimali.com/cv-vpn',\n",
       " 'description',\n",
       " 'available',\n",
       " 'vpn',\n",
       " 'gratuit',\n",
       " 'mali',\n",
       " 'https',\n",
       " '//forums.commentcamarche.net/forum/affich-35457936-vpn-gratuit-au-mali',\n",
       " 'description',\n",
       " 'available',\n",
       " 'comment',\n",
       " 'continuer',\n",
       " 'écouter',\n",
       " 'rfi',\n",
       " 'regarder',\n",
       " 'france',\n",
       " 'https',\n",
       " '//www.rfi.fr/fr/afrique/20220318-mali-comment-continuer-',\n",
       " 'a0-',\n",
       " 'a9couter-rfi-et-',\n",
       " 'a0-regarder-france-24',\n",
       " 'description',\n",
       " 'available',\n",
       " 'compte',\n",
       " 'https',\n",
       " '//www.your-freedom.net/index.php',\n",
       " 'id=114',\n",
       " 'l=3',\n",
       " 'description',\n",
       " 'available',\n",
       " 'accueil',\n",
       " 'https',\n",
       " '//www.your-freedom.net/index.php',\n",
       " 'id=6',\n",
       " 'l=3',\n",
       " 'description',\n",
       " 'available',\n",
       " 'new',\n",
       " 'configuration',\n",
       " 'youfreedom',\n",
       " 'orange',\n",
       " 'https',\n",
       " '//internetpro.forumgratuit.org/t1280-new-configuration-youfreedom-orange-ci',\n",
       " 'description',\n",
       " 'available',\n",
       " 'nouveau',\n",
       " 'connection',\n",
       " 'gratuit',\n",
       " 'orange',\n",
       " 'mali',\n",
       " 'freedom',\n",
       " '...',\n",
       " 'http',\n",
       " '//www.centerblog.net/internet/734758-8-nouveau-connection-gratuit-orange-mali-',\n",
       " 'description',\n",
       " 'available',\n",
       " 'télécharge',\n",
       " 'freedom',\n",
       " '20221027-01',\n",
       " 'pour',\n",
       " 'android',\n",
       " 'https',\n",
       " '//your-freedom.fr.uptodown.com/android/telecharger',\n",
       " 'description',\n",
       " 'available',\n",
       " 'configuration',\n",
       " 'your-freedom',\n",
       " 'gratis',\n",
       " 'net',\n",
       " 'gratuit',\n",
       " 'camer',\n",
       " 'http',\n",
       " '//jordanguedia.over-blog.com/pages/configuration-your-freedom-gratis-4940097.html',\n",
       " 'description',\n",
       " 'available',\n",
       " 'freedom',\n",
       " 'configuration',\n",
       " 'orange',\n",
       " 'https',\n",
       " '//www.tiktok.com/discover/your-freedom-configuration-orange-ci',\n",
       " 'description',\n",
       " 'available',\n",
       " 'hackers',\n",
       " \"d'afrique\",\n",
       " 'configuration',\n",
       " 'freedom',\n",
       " 'orange',\n",
       " '...',\n",
       " 'https',\n",
       " '//m.facebook.com/hackersdafrique/photos/configuration-de-your-freedom-orange/619367951475737/',\n",
       " 'locale=pt_br',\n",
       " 'description',\n",
       " 'available',\n",
       " 'voici',\n",
       " 'configuration',\n",
       " 'your-freedom',\n",
       " '...',\n",
       " 'https',\n",
       " '//www.facebook.com/1867490516623745/posts/voici-la-configuration-de-your-freedom-change-le-ems32-en-ems04-seulement-et-sur/3063415470364571/',\n",
       " 'description',\n",
       " 'available',\n",
       " 'mali',\n",
       " 'page',\n",
       " 'https',\n",
       " '//www.bfmtv.com/international/afrique/mali/page5/',\n",
       " 'description',\n",
       " 'available',\n",
       " 'appeler',\n",
       " 'mali',\n",
       " 'indicatif',\n",
       " 'forfaits',\n",
       " 'mobiles',\n",
       " 'box',\n",
       " 'internet',\n",
       " 'https',\n",
       " '//www.touslesforfaits.fr/guides/indicatifs-telephoniques/mali',\n",
       " 'description',\n",
       " 'available',\n",
       " 'chaîne',\n",
       " 'cherifla',\n",
       " 'numéro',\n",
       " 'pour',\n",
       " 'accéder',\n",
       " 'sur',\n",
       " 'box',\n",
       " '...',\n",
       " 'https',\n",
       " '//www.monpetitforfait.com/comparateur-box-internet/chaines-tv/cherifla-tv',\n",
       " 'description',\n",
       " 'available',\n",
       " 'après',\n",
       " 'internet',\n",
       " 'free',\n",
       " \"s'attaque\",\n",
       " 'mobile',\n",
       " 'https',\n",
       " '//www.rfi.fr/fr/contenu/20091029-apres-internet-free-s-attaque-mobile',\n",
       " 'description',\n",
       " 'available',\n",
       " 'offres',\n",
       " 'internet',\n",
       " 'free',\n",
       " 'pdf',\n",
       " 'cyberespace',\n",
       " 'services',\n",
       " 'ligne',\n",
       " 'https',\n",
       " '//fr.scribd.com/document/505732066/offres-internet-free',\n",
       " 'description',\n",
       " 'available',\n",
       " 'internet',\n",
       " 'free',\n",
       " 'digital',\n",
       " 'analytics',\n",
       " 'resources',\n",
       " 'https',\n",
       " '//www.atinternet.com/en/resources/',\n",
       " 'description',\n",
       " 'available',\n",
       " 'dicty',\n",
       " 'dans',\n",
       " \"l'app\",\n",
       " 'store',\n",
       " 'apple',\n",
       " 'https',\n",
       " '//apps.apple.com/ml/app/dicty/id969045273',\n",
       " 'l=fr',\n",
       " 'description',\n",
       " 'available',\n",
       " 'mali',\n",
       " 'radhimes',\n",
       " 'ที่พักช่วงวันหยุดและบ้าน',\n",
       " 'vlorë',\n",
       " 'county',\n",
       " 'แอลเบเนีย',\n",
       " 'https',\n",
       " '//th.airbnb.com/mali-i-radhimes-albania/stays',\n",
       " 'description',\n",
       " 'available',\n",
       " 'ns7.orangemali.net',\n",
       " '41.73.96.51',\n",
       " 'nom',\n",
       " \"d'hôte\",\n",
       " 'host-tools',\n",
       " 'https',\n",
       " '//fr.host-tools.com/hostname/41.73.96.51',\n",
       " 'description',\n",
       " 'available',\n",
       " 'site',\n",
       " 'web',\n",
       " 'pour',\n",
       " 'www.orangemali.com',\n",
       " 'est',\n",
       " 'hors',\n",
       " 'ligne',\n",
       " 'https',\n",
       " '//fr.host-tools.com/online-check/www.orangemali.com/http',\n",
       " 'description',\n",
       " 'available',\n",
       " '196.200.88.110',\n",
       " 'ns6.orangemali.net',\n",
       " 'orange',\n",
       " 'mali',\n",
       " 'mali',\n",
       " 'https',\n",
       " '//dnslytics.com/ip/196.200.88.110',\n",
       " 'description',\n",
       " 'available',\n",
       " 'orange',\n",
       " 'mali',\n",
       " 'hosting',\n",
       " 'https',\n",
       " '//myip.ms/view/web_hosting/9273/orange_mali_sa.html',\n",
       " 'description',\n",
       " 'available',\n",
       " 'abuse',\n",
       " 'reports',\n",
       " '197.155.158.21',\n",
       " 'orange',\n",
       " 'mali',\n",
       " 'https',\n",
       " '//www.abuseipdb.com/check/197.155.158.21',\n",
       " 'description',\n",
       " 'available',\n",
       " 'orangemali.com',\n",
       " 'détails',\n",
       " \"l'adresse\",\n",
       " 'domaine',\n",
       " 'https',\n",
       " '//www.proxydocker.com/fr/iplookup/orangemali.com',\n",
       " 'description',\n",
       " 'available',\n",
       " 'analyse',\n",
       " 'dns',\n",
       " 'whois',\n",
       " 'domaine',\n",
       " 'www.orangemali',\n",
       " '...',\n",
       " 'https',\n",
       " '//nstools.fr/www.orangemali.com',\n",
       " 'description',\n",
       " 'available',\n",
       " 'recherche',\n",
       " 'géolocalisation',\n",
       " '41.73.105.75',\n",
       " 'questions',\n",
       " '...',\n",
       " 'https',\n",
       " '//fr.ipshu.com/ipv4/41.73.105.75',\n",
       " 'description',\n",
       " 'available',\n",
       " 'accueil',\n",
       " 'orange',\n",
       " 'mali',\n",
       " 'https',\n",
       " '//www.orangemali.com/',\n",
       " 'description',\n",
       " 'available',\n",
       " 'forfaits',\n",
       " 'mois',\n",
       " 'les',\n",
       " 'offres',\n",
       " 'internet',\n",
       " 'mobile',\n",
       " 'https',\n",
       " '//www.orangemali.com/fr/offres-internet-mobile/forfaits-mois-petit-budget-rapide-debit-rapidite-4g.html',\n",
       " 'description',\n",
       " 'available',\n",
       " 'les',\n",
       " 'offres',\n",
       " 'internet',\n",
       " 'mobile',\n",
       " 'https',\n",
       " '//www.orangemali.com/fr/catalogue/offres-internet-mobile.html',\n",
       " 'description',\n",
       " 'available',\n",
       " 'forfait',\n",
       " 'prépayé',\n",
       " 'damou',\n",
       " 'sotelma',\n",
       " 'http',\n",
       " '//www.malitel.ml/particulier/mobile/prepayes/pages/damou.aspx',\n",
       " 'description',\n",
       " 'available',\n",
       " \"l'internet\",\n",
       " 'très',\n",
       " 'haut',\n",
       " 'débit',\n",
       " 'mobile',\n",
       " '3g+',\n",
       " 'malitel',\n",
       " 'bamako',\n",
       " 'http',\n",
       " '//www.malitel.ml/particulier/internet/pages/forfaits',\n",
       " '20internet',\n",
       " '20mobile.aspx',\n",
       " 'description',\n",
       " 'available',\n",
       " 'forfait',\n",
       " 'mobile',\n",
       " 'prépayé',\n",
       " 'douman',\n",
       " 'malitel',\n",
       " 'https',\n",
       " '//www.moov-africa.ml/particulier/mobile/prepayes/pages/forfaits',\n",
       " '20mensuels',\n",
       " '20pr',\n",
       " 'a9pay',\n",
       " 'a9s.aspx',\n",
       " 'description',\n",
       " 'available',\n",
       " 'internet',\n",
       " 'orange',\n",
       " 'mali',\n",
       " 'recharger',\n",
       " 'votre',\n",
       " 'mobile',\n",
       " '1min',\n",
       " 'https',\n",
       " '//www.monisnap.com/fr/blog/article/internet-orange-mali/',\n",
       " 'description',\n",
       " 'available',\n",
       " 'orange',\n",
       " 'france',\n",
       " 'forfait',\n",
       " '70go',\n",
       " 'est-il',\n",
       " 'cédé',\n",
       " '9,99',\n",
       " '...',\n",
       " 'jalon',\n",
       " 'https',\n",
       " '//lejalon.com/2023/04/30/orange-france-le-forfait-de-70go-est-il-cede-a-999-euros-avec-des-appels-illimites/',\n",
       " 'description',\n",
       " 'available',\n",
       " 'recharge',\n",
       " 'orange',\n",
       " 'mali',\n",
       " 'ligne',\n",
       " 'appel',\n",
       " 'internet',\n",
       " 'https',\n",
       " '//allo.monisnap.com/fr/pays/ml/operateurs/orange',\n",
       " 'description',\n",
       " 'available',\n",
       " 'orange',\n",
       " 'faire',\n",
       " 'plein',\n",
       " 'bonus',\n",
       " 'vers',\n",
       " 'tous',\n",
       " 'les',\n",
       " 'réseaux',\n",
       " '...',\n",
       " 'https',\n",
       " '//www.facebook.com/orange.mali/photos/a.2268345363235238/3573795046023590/',\n",
       " 'type=3',\n",
       " 'description',\n",
       " 'available',\n",
       " 'mali',\n",
       " '2020',\n",
       " 'quel',\n",
       " 'forfait',\n",
       " 'mobile',\n",
       " 'choisir',\n",
       " 'mamadou',\n",
       " 'diagne',\n",
       " 'https',\n",
       " '//dofbi.medium.com/mali-2020-quel-forfait-mobile-choisir-52d6416e77a4',\n",
       " 'description',\n",
       " 'available',\n",
       " 'connexion',\n",
       " 'internet',\n",
       " 'gratuite',\n",
       " 'orange',\n",
       " 'mali',\n",
       " 'https',\n",
       " '//www.facebook.com/groups/373261044156562/',\n",
       " 'description',\n",
       " 'available',\n",
       " 'connexion',\n",
       " 'internet',\n",
       " 'gratuit',\n",
       " 'orange',\n",
       " 'mali',\n",
       " 'https',\n",
       " '//econnexion.net/internet-gratuit-orange-mali/',\n",
       " 'description',\n",
       " 'available',\n",
       " 'comment',\n",
       " 'activer',\n",
       " 'une',\n",
       " 'connexion',\n",
       " 'wifi',\n",
       " 'https',\n",
       " '//www.orangemali.com/fr/comment-activer-une-connexion-wifi.html',\n",
       " 'description',\n",
       " 'available',\n",
       " 'comment',\n",
       " 'avoir',\n",
       " 'internet',\n",
       " 'gratuit',\n",
       " 'chez',\n",
       " 'orangemali',\n",
       " 'https',\n",
       " '//forums.commentcamarche.net/forum/affich-35616520-comment-avoir-internet-gratuit-chez-orangemali',\n",
       " 'description',\n",
       " 'available',\n",
       " 'connexion',\n",
       " 'gratuit',\n",
       " '2023',\n",
       " 'mali',\n",
       " 'https',\n",
       " '//www.tiktok.com/discover/connexion-gratuit-2023-au-mali',\n",
       " 'description',\n",
       " 'available',\n",
       " 'connexion',\n",
       " 'gratuit',\n",
       " 'orange',\n",
       " 'mali',\n",
       " '2023',\n",
       " 'https',\n",
       " '//www.tiktok.com/discover/connexion-gratuit-orange-mali-2023',\n",
       " 'description',\n",
       " 'available',\n",
       " 'nouveau',\n",
       " 'connection',\n",
       " 'gratuit',\n",
       " 'par',\n",
       " 'orangemali',\n",
       " 'http',\n",
       " '//www.centerblog.net/internet/540274-112-nouveau-connection-gratuit-par-orangemali-',\n",
       " 'description',\n",
       " 'available',\n",
       " 'internet',\n",
       " 'gratuit',\n",
       " 'illimité',\n",
       " 'orange',\n",
       " 'mali',\n",
       " 'astuces',\n",
       " '2021',\n",
       " 'https',\n",
       " '//www.gb00tech.com/2020/12/internet-gratuit-illimite-orange-mali.html',\n",
       " 'description',\n",
       " 'available',\n",
       " 'comment',\n",
       " 'active',\n",
       " 'webtunnel',\n",
       " 'avec',\n",
       " 'orange',\n",
       " 'mali',\n",
       " 'https',\n",
       " '//forums.commentcamarche.net/forum/affich-35318357-comment-active-webtunnel-avec-orange-mali',\n",
       " 'description',\n",
       " 'available',\n",
       " 'comment',\n",
       " 'configurer',\n",
       " 'internet',\n",
       " 'sur',\n",
       " 'votre',\n",
       " 'mobile',\n",
       " 'https',\n",
       " '//www.orangemali.com/fr/comment-configurer-internet-sur-votre-mobile.html',\n",
       " 'description',\n",
       " 'available',\n",
       " 'comment',\n",
       " 'connecter',\n",
       " 'web',\n",
       " 'tunnel',\n",
       " 'prodogons',\n",
       " 'https',\n",
       " '//dogons.wordpress.com/2018/01/25/comment-connecter-web-tunnel/',\n",
       " 'description',\n",
       " 'available',\n",
       " 'connexion',\n",
       " 'gratuite',\n",
       " 'via',\n",
       " 'orange',\n",
       " 'mali',\n",
       " 'https',\n",
       " '//www.facebook.com/groups/1379859858940010/',\n",
       " 'description',\n",
       " 'available',\n",
       " 'connexion',\n",
       " 'gratuite',\n",
       " 'via',\n",
       " 'orange',\n",
       " 'mali',\n",
       " 'https',\n",
       " '//www.facebook.com/groups/1379859858940010/posts/3301043693488274/',\n",
       " 'description',\n",
       " 'available',\n",
       " 'mali',\n",
       " 'untm-gouvernement',\n",
       " 'peut-être',\n",
       " 'bout',\n",
       " 'tunnel…',\n",
       " 'https',\n",
       " '//maliactu.net/mali-untm-gouvernement-peut-etre-le-bout-du-tunnel/',\n",
       " 'description',\n",
       " 'available',\n",
       " 'mali',\n",
       " 'bout',\n",
       " 'tunnel',\n",
       " \"n'est\",\n",
       " 'pas',\n",
       " 'pour',\n",
       " 'demain',\n",
       " 'https',\n",
       " '//www.maliweb.net/nation/mali-le-bout-du-tunnel-nest-pas-pour-demain-2826683.html',\n",
       " 'description',\n",
       " 'available',\n",
       " 'stabilisation',\n",
       " 'mali',\n",
       " 'sahel',\n",
       " 'sortir',\n",
       " '...',\n",
       " 'http',\n",
       " '//bamada.net/stabilisation-du-mali-et-du-sahel-sortir-de-la-logique-guerriere-de-la-france-pour-voir-le-bout-du-tunnel',\n",
       " 'description',\n",
       " 'available',\n",
       " 'transformation',\n",
       " 'digitale',\n",
       " 'mali',\n",
       " 'orange',\n",
       " 'mali',\n",
       " 'fait',\n",
       " 'pas',\n",
       " '...',\n",
       " 'https',\n",
       " '//www.afribone.com/transformation-digitale-au-mali-orange-mali-fait-un-pas-de-geant/',\n",
       " 'description',\n",
       " 'available',\n",
       " 'offres',\n",
       " 'internet',\n",
       " 'souscrire',\n",
       " 'aux',\n",
       " 'forfaits',\n",
       " 'internet',\n",
       " 'mobiles',\n",
       " 'https',\n",
       " '//www.orangemali.com/fr/souscrire-aux-forfaits-internet-mobiles.html',\n",
       " 'description',\n",
       " 'available',\n",
       " \"so'box\",\n",
       " 'mobile',\n",
       " 'les',\n",
       " 'offres',\n",
       " 'internet',\n",
       " 'domicile',\n",
       " 'https',\n",
       " '//www.orangemali.com/fr/offres-internet-a-domicile/sobox-mobile-intenet-connexion-mali-pas-cher.html',\n",
       " 'description',\n",
       " 'available',\n",
       " 'orange',\n",
       " 'forfait',\n",
       " 'internet',\n",
       " 'épuisé',\n",
       " 'pas',\n",
       " 'panique',\n",
       " 'https',\n",
       " '//www.facebook.com/orangecameroun/posts/forfait-internet-',\n",
       " 'a9puis',\n",
       " 'a9-pas-de-panique-composez-le-1453-pour-emprunter-de-la-dat/2866479110111653/',\n",
       " 'description',\n",
       " 'available',\n",
       " 'pass',\n",
       " 'options',\n",
       " \"d'internet\",\n",
       " 'pour',\n",
       " 'forfait',\n",
       " 'mobile',\n",
       " 'https',\n",
       " '//boutique.orange.fr/options/internet-fu',\n",
       " 'description',\n",
       " 'available',\n",
       " 'pourquoi',\n",
       " 'internet',\n",
       " 'marche',\n",
       " 'pas',\n",
       " 'sur',\n",
       " 'mon',\n",
       " 'mobile',\n",
       " 'tablette',\n",
       " 'https',\n",
       " '//www.orange.ma/assistance/equipement-internet/acces-a-internet-sur-mobile-ou-tablette',\n",
       " 'description',\n",
       " 'available',\n",
       " 'forfait',\n",
       " 'mobile',\n",
       " 'sans',\n",
       " 'internet',\n",
       " 'orange',\n",
       " 'https',\n",
       " '//jecherche1forfait.com/forfait-mobile/offres-forfait-mobile/forfait-sms-uniquement/forfait-mobile-sans-internet-orange/',\n",
       " 'description',\n",
       " 'available',\n",
       " 'avec',\n",
       " 'orange',\n",
       " 'composez',\n",
       " 'votre',\n",
       " 'offre',\n",
       " 'internet',\n",
       " 'mobile',\n",
       " '...',\n",
       " 'https',\n",
       " '//www.degrouptest.com/actualite/avec-orange-composez-votre-offre-internet-et-mobile-a-la-carte-et-faites-de-jolies-economies',\n",
       " 'description',\n",
       " 'available',\n",
       " 'internet',\n",
       " 'orange',\n",
       " 'mali',\n",
       " 'recharger',\n",
       " 'votre',\n",
       " 'mobile',\n",
       " '1min',\n",
       " 'https',\n",
       " '//www.monisnap.com/fr/blog/article/internet-orange-mali/',\n",
       " 'description',\n",
       " 'available',\n",
       " 'quels',\n",
       " 'sont',\n",
       " 'les',\n",
       " 'différents',\n",
       " 'canaux',\n",
       " 'pour',\n",
       " 'consulter',\n",
       " 'son',\n",
       " 'solde',\n",
       " '...',\n",
       " 'https',\n",
       " '//www.orange.cd/fr/assistance/quels-sont-les-differents-canaux-pour-consulter-son-solde-forfait-internet.html',\n",
       " 'description',\n",
       " 'available',\n",
       " 'comment',\n",
       " 'acheter',\n",
       " 'pass',\n",
       " 'internet',\n",
       " 'avec',\n",
       " 'orange',\n",
       " 'moi',\n",
       " 'https',\n",
       " '//www.orange-guinee.com/fr/assistance/comment-acheter-un-pass-internet-avec-orange-et-moi.html',\n",
       " 'description',\n",
       " 'available',\n",
       " 'comment',\n",
       " 'configurer',\n",
       " 'internet',\n",
       " 'sur',\n",
       " 'votre',\n",
       " 'mobile',\n",
       " 'https',\n",
       " '//www.orangemali.com/fr/comment-configurer-internet-sur-votre-mobile.html',\n",
       " 'description',\n",
       " 'available',\n",
       " 'assistance',\n",
       " 'configurer',\n",
       " 'mon',\n",
       " 'mobile',\n",
       " 'https',\n",
       " '//www.orangemali.com/fr/assistance-configurer-mon-mobile.html',\n",
       " 'description',\n",
       " 'available',\n",
       " 'assistance',\n",
       " 'https',\n",
       " '//www.moov-africa.ml/assistance/pages/assistance.aspx',\n",
       " 'description',\n",
       " 'available',\n",
       " 'configuration',\n",
       " 'internet',\n",
       " 'orange',\n",
       " 'mali',\n",
       " 'lte',\n",
       " 'apn',\n",
       " 'wiki',\n",
       " 'https',\n",
       " '//www.mxwiki.com/ml/orange-ml',\n",
       " 'description',\n",
       " 'available',\n",
       " 'guide',\n",
       " \"l'assurance\",\n",
       " 'volontaire.pdf',\n",
       " 'eregulations',\n",
       " 'https',\n",
       " '//mali.eregulations.org/media/guide',\n",
       " '20de',\n",
       " \"20l'assurance\",\n",
       " '20volontaire.pdf',\n",
       " 'description',\n",
       " 'available',\n",
       " 'faq',\n",
       " 'telecel',\n",
       " 'http',\n",
       " '//www.telecelmali.com/faqs.aspx',\n",
       " 'description',\n",
       " 'available',\n",
       " 'orange',\n",
       " 'mali',\n",
       " 'apn',\n",
       " 'settings',\n",
       " '2023',\n",
       " 'https',\n",
       " '//www.apnsettings.org/mali/orange-ml/',\n",
       " 'description',\n",
       " 'available',\n",
       " 'telecel',\n",
       " 'mali',\n",
       " 'astucestelecel',\n",
       " 'pour',\n",
       " 'configurer',\n",
       " '...',\n",
       " 'https',\n",
       " '//www.facebook.com/telecel.officiel/posts/astucestelecelpour-configurer-internet-sur-votre-t',\n",
       " 'a9l',\n",
       " 'a9phone-envoyer-par-sms-adc-a/468166310575691/',\n",
       " 'description',\n",
       " 'available',\n",
       " 'mali',\n",
       " 'alliance',\n",
       " 'pour',\n",
       " 'police',\n",
       " 'nationale',\n",
       " 'apn',\n",
       " 'https',\n",
       " '//maliactu.net/mali-alliance-pour-la-police-nationale-apn-sergent-chef-sidi-tamboura-le-nouveau-secretaire-general/',\n",
       " 'description',\n",
       " 'available',\n",
       " 'orange',\n",
       " 'mali',\n",
       " 'apn',\n",
       " 'settings',\n",
       " 'android',\n",
       " 'https',\n",
       " '//apn.how/ml/orange-mali/android',\n",
       " 'description',\n",
       " 'available',\n",
       " 'offre',\n",
       " \"d'emploi\",\n",
       " 'mali',\n",
       " 'head',\n",
       " 'fraud',\n",
       " 'risk',\n",
       " 'bamako',\n",
       " 'https',\n",
       " '//www.emploimali.com/offre-emploi-mali/head-of-fraud-risk-143825',\n",
       " 'description',\n",
       " 'available',\n",
       " 'fraud',\n",
       " 'awareness',\n",
       " 'mali',\n",
       " 'https',\n",
       " '//www.dhl.com/ml-en/home/footer/fraud-awareness.html',\n",
       " 'description',\n",
       " 'available',\n",
       " 'steps',\n",
       " 'prevent',\n",
       " 'detect',\n",
       " 'fraud',\n",
       " 'using',\n",
       " 'data',\n",
       " 'analytics',\n",
       " 'https',\n",
       " '//www.tableau.com/fr-fr/learn/whitepapers/prevent-detect-fraud-data-analytics',\n",
       " 'description',\n",
       " 'available',\n",
       " 'latest',\n",
       " 'fraud',\n",
       " 'risk',\n",
       " 'jobs',\n",
       " 'mali',\n",
       " 'ai-jobs.net',\n",
       " 'https',\n",
       " '//ai-jobs.net/list/fraud-risk-related-jobs-in-mali/',\n",
       " 'description',\n",
       " 'available',\n",
       " 'average',\n",
       " 'fraud',\n",
       " 'detection',\n",
       " 'supervisor',\n",
       " 'salary',\n",
       " 'bamako',\n",
       " '...',\n",
       " 'https',\n",
       " '//worldsalaries.com/average-fraud-detection-supervisor-salary-in-bamako/mali/',\n",
       " 'description',\n",
       " 'available',\n",
       " 'aston',\n",
       " 'network',\n",
       " 'post',\n",
       " 'https',\n",
       " '//ml.linkedin.com/posts/aston-network_bamako-bamako-mali-activity-6938473676245766145-tazo',\n",
       " 'trk=public_profile_like_view',\n",
       " 'description',\n",
       " 'available',\n",
       " 'move',\n",
       " 'fraud',\n",
       " 'detection',\n",
       " 'fraud',\n",
       " 'prevention',\n",
       " 'teradata',\n",
       " 'http',\n",
       " '//www.teradata.fr/solutions/fraud-prevention',\n",
       " 'description',\n",
       " 'available',\n",
       " 'guard',\n",
       " 'rising',\n",
       " 'risk',\n",
       " 'data',\n",
       " 'frauds',\n",
       " 'https',\n",
       " '//www.subex.com/blog/be-on-your-guard-the-rising-risk-of-data-frauds/',\n",
       " 'description',\n",
       " 'available',\n",
       " 'financial',\n",
       " 'fraud',\n",
       " 'prevention',\n",
       " 'graph',\n",
       " 'analytics',\n",
       " 'https',\n",
       " '//graphaware.com/solutions/finance/',\n",
       " 'description',\n",
       " 'available']"
      ]
     },
     "execution_count": 79,
     "metadata": {},
     "output_type": "execute_result"
    }
   ],
   "source": [
    "goog_process = prepare_text(goog)\n",
    "goog_process"
   ]
  },
  {
   "cell_type": "code",
   "execution_count": 80,
   "id": "f43b7900",
   "metadata": {},
   "outputs": [],
   "source": [
    "########Function to count of words\n",
    "unique_words = []\n",
    "counts = []\n",
    "def count_freq(my_list) : \n",
    "    for word in my_list : \n",
    "        if word not in unique_words : \n",
    "            unique_words.append(word) \n",
    "    for i in unique_words : \n",
    "        count = 0\n",
    "        for j in my_list :\n",
    "            if i == j :\n",
    "                count+=1\n",
    "        counts.append(count)\n",
    "    df = pd.DataFrame({\"word\": unique_words, \"count\": counts})\n",
    "    df.sort_values(by=\"count\", inplace = True, ascending = False)\n",
    "    df.reset_index(drop=True, inplace = True)\n",
    "    return df"
   ]
  },
  {
   "cell_type": "code",
   "execution_count": 81,
   "id": "50a5e64f",
   "metadata": {},
   "outputs": [],
   "source": [
    "goog_process = count_freq(goog_process)\n",
    "goog_process_10 = goog_process.iloc[:10]"
   ]
  },
  {
   "cell_type": "code",
   "execution_count": 82,
   "id": "2ca6b1f1",
   "metadata": {},
   "outputs": [],
   "source": [
    "goog_process.to_csv('goog_process.csv')\n",
    "df.to_csv('google_all')"
   ]
  },
  {
   "cell_type": "code",
   "execution_count": 76,
   "id": "98becf24",
   "metadata": {},
   "outputs": [
    {
     "data": {
      "application/vnd.plotly.v1+json": {
       "config": {
        "plotlyServerURL": "https://plot.ly"
       },
       "data": [
        {
         "alignmentgroup": "True",
         "hovertemplate": "word=%{x}<br>count=%{y}<extra></extra>",
         "legendgroup": "",
         "marker": {
          "color": "#636efa",
          "pattern": {
           "shape": ""
          }
         },
         "name": "",
         "offsetgroup": "",
         "orientation": "v",
         "showlegend": false,
         "textposition": "auto",
         "type": "bar",
         "x": [
          "description",
          "available",
          "https",
          "mali",
          "internet",
          "orange",
          "mobile",
          "...",
          "gratuit",
          "pour"
         ],
         "xaxis": "x",
         "y": [
          102,
          101,
          91,
          48,
          30,
          30,
          17,
          16,
          14,
          10
         ],
         "yaxis": "y"
        }
       ],
       "layout": {
        "barmode": "relative",
        "font": {
         "color": "blue",
         "family": "Arial",
         "size": 12
        },
        "height": 800,
        "legend": {
         "tracegroupgap": 0
        },
        "margin": {
         "b": 50,
         "l": 50,
         "r": 50,
         "t": 50
        },
        "paper_bgcolor": "rgb(255,255,255)",
        "plot_bgcolor": "white",
        "template": {
         "data": {
          "bar": [
           {
            "error_x": {
             "color": "#2a3f5f"
            },
            "error_y": {
             "color": "#2a3f5f"
            },
            "marker": {
             "line": {
              "color": "#E5ECF6",
              "width": 0.5
             },
             "pattern": {
              "fillmode": "overlay",
              "size": 10,
              "solidity": 0.2
             }
            },
            "type": "bar"
           }
          ],
          "barpolar": [
           {
            "marker": {
             "line": {
              "color": "#E5ECF6",
              "width": 0.5
             },
             "pattern": {
              "fillmode": "overlay",
              "size": 10,
              "solidity": 0.2
             }
            },
            "type": "barpolar"
           }
          ],
          "carpet": [
           {
            "aaxis": {
             "endlinecolor": "#2a3f5f",
             "gridcolor": "white",
             "linecolor": "white",
             "minorgridcolor": "white",
             "startlinecolor": "#2a3f5f"
            },
            "baxis": {
             "endlinecolor": "#2a3f5f",
             "gridcolor": "white",
             "linecolor": "white",
             "minorgridcolor": "white",
             "startlinecolor": "#2a3f5f"
            },
            "type": "carpet"
           }
          ],
          "choropleth": [
           {
            "colorbar": {
             "outlinewidth": 0,
             "ticks": ""
            },
            "type": "choropleth"
           }
          ],
          "contour": [
           {
            "colorbar": {
             "outlinewidth": 0,
             "ticks": ""
            },
            "colorscale": [
             [
              0,
              "#0d0887"
             ],
             [
              0.1111111111111111,
              "#46039f"
             ],
             [
              0.2222222222222222,
              "#7201a8"
             ],
             [
              0.3333333333333333,
              "#9c179e"
             ],
             [
              0.4444444444444444,
              "#bd3786"
             ],
             [
              0.5555555555555556,
              "#d8576b"
             ],
             [
              0.6666666666666666,
              "#ed7953"
             ],
             [
              0.7777777777777778,
              "#fb9f3a"
             ],
             [
              0.8888888888888888,
              "#fdca26"
             ],
             [
              1,
              "#f0f921"
             ]
            ],
            "type": "contour"
           }
          ],
          "contourcarpet": [
           {
            "colorbar": {
             "outlinewidth": 0,
             "ticks": ""
            },
            "type": "contourcarpet"
           }
          ],
          "heatmap": [
           {
            "colorbar": {
             "outlinewidth": 0,
             "ticks": ""
            },
            "colorscale": [
             [
              0,
              "#0d0887"
             ],
             [
              0.1111111111111111,
              "#46039f"
             ],
             [
              0.2222222222222222,
              "#7201a8"
             ],
             [
              0.3333333333333333,
              "#9c179e"
             ],
             [
              0.4444444444444444,
              "#bd3786"
             ],
             [
              0.5555555555555556,
              "#d8576b"
             ],
             [
              0.6666666666666666,
              "#ed7953"
             ],
             [
              0.7777777777777778,
              "#fb9f3a"
             ],
             [
              0.8888888888888888,
              "#fdca26"
             ],
             [
              1,
              "#f0f921"
             ]
            ],
            "type": "heatmap"
           }
          ],
          "heatmapgl": [
           {
            "colorbar": {
             "outlinewidth": 0,
             "ticks": ""
            },
            "colorscale": [
             [
              0,
              "#0d0887"
             ],
             [
              0.1111111111111111,
              "#46039f"
             ],
             [
              0.2222222222222222,
              "#7201a8"
             ],
             [
              0.3333333333333333,
              "#9c179e"
             ],
             [
              0.4444444444444444,
              "#bd3786"
             ],
             [
              0.5555555555555556,
              "#d8576b"
             ],
             [
              0.6666666666666666,
              "#ed7953"
             ],
             [
              0.7777777777777778,
              "#fb9f3a"
             ],
             [
              0.8888888888888888,
              "#fdca26"
             ],
             [
              1,
              "#f0f921"
             ]
            ],
            "type": "heatmapgl"
           }
          ],
          "histogram": [
           {
            "marker": {
             "pattern": {
              "fillmode": "overlay",
              "size": 10,
              "solidity": 0.2
             }
            },
            "type": "histogram"
           }
          ],
          "histogram2d": [
           {
            "colorbar": {
             "outlinewidth": 0,
             "ticks": ""
            },
            "colorscale": [
             [
              0,
              "#0d0887"
             ],
             [
              0.1111111111111111,
              "#46039f"
             ],
             [
              0.2222222222222222,
              "#7201a8"
             ],
             [
              0.3333333333333333,
              "#9c179e"
             ],
             [
              0.4444444444444444,
              "#bd3786"
             ],
             [
              0.5555555555555556,
              "#d8576b"
             ],
             [
              0.6666666666666666,
              "#ed7953"
             ],
             [
              0.7777777777777778,
              "#fb9f3a"
             ],
             [
              0.8888888888888888,
              "#fdca26"
             ],
             [
              1,
              "#f0f921"
             ]
            ],
            "type": "histogram2d"
           }
          ],
          "histogram2dcontour": [
           {
            "colorbar": {
             "outlinewidth": 0,
             "ticks": ""
            },
            "colorscale": [
             [
              0,
              "#0d0887"
             ],
             [
              0.1111111111111111,
              "#46039f"
             ],
             [
              0.2222222222222222,
              "#7201a8"
             ],
             [
              0.3333333333333333,
              "#9c179e"
             ],
             [
              0.4444444444444444,
              "#bd3786"
             ],
             [
              0.5555555555555556,
              "#d8576b"
             ],
             [
              0.6666666666666666,
              "#ed7953"
             ],
             [
              0.7777777777777778,
              "#fb9f3a"
             ],
             [
              0.8888888888888888,
              "#fdca26"
             ],
             [
              1,
              "#f0f921"
             ]
            ],
            "type": "histogram2dcontour"
           }
          ],
          "mesh3d": [
           {
            "colorbar": {
             "outlinewidth": 0,
             "ticks": ""
            },
            "type": "mesh3d"
           }
          ],
          "parcoords": [
           {
            "line": {
             "colorbar": {
              "outlinewidth": 0,
              "ticks": ""
             }
            },
            "type": "parcoords"
           }
          ],
          "pie": [
           {
            "automargin": true,
            "type": "pie"
           }
          ],
          "scatter": [
           {
            "fillpattern": {
             "fillmode": "overlay",
             "size": 10,
             "solidity": 0.2
            },
            "type": "scatter"
           }
          ],
          "scatter3d": [
           {
            "line": {
             "colorbar": {
              "outlinewidth": 0,
              "ticks": ""
             }
            },
            "marker": {
             "colorbar": {
              "outlinewidth": 0,
              "ticks": ""
             }
            },
            "type": "scatter3d"
           }
          ],
          "scattercarpet": [
           {
            "marker": {
             "colorbar": {
              "outlinewidth": 0,
              "ticks": ""
             }
            },
            "type": "scattercarpet"
           }
          ],
          "scattergeo": [
           {
            "marker": {
             "colorbar": {
              "outlinewidth": 0,
              "ticks": ""
             }
            },
            "type": "scattergeo"
           }
          ],
          "scattergl": [
           {
            "marker": {
             "colorbar": {
              "outlinewidth": 0,
              "ticks": ""
             }
            },
            "type": "scattergl"
           }
          ],
          "scattermapbox": [
           {
            "marker": {
             "colorbar": {
              "outlinewidth": 0,
              "ticks": ""
             }
            },
            "type": "scattermapbox"
           }
          ],
          "scatterpolar": [
           {
            "marker": {
             "colorbar": {
              "outlinewidth": 0,
              "ticks": ""
             }
            },
            "type": "scatterpolar"
           }
          ],
          "scatterpolargl": [
           {
            "marker": {
             "colorbar": {
              "outlinewidth": 0,
              "ticks": ""
             }
            },
            "type": "scatterpolargl"
           }
          ],
          "scatterternary": [
           {
            "marker": {
             "colorbar": {
              "outlinewidth": 0,
              "ticks": ""
             }
            },
            "type": "scatterternary"
           }
          ],
          "surface": [
           {
            "colorbar": {
             "outlinewidth": 0,
             "ticks": ""
            },
            "colorscale": [
             [
              0,
              "#0d0887"
             ],
             [
              0.1111111111111111,
              "#46039f"
             ],
             [
              0.2222222222222222,
              "#7201a8"
             ],
             [
              0.3333333333333333,
              "#9c179e"
             ],
             [
              0.4444444444444444,
              "#bd3786"
             ],
             [
              0.5555555555555556,
              "#d8576b"
             ],
             [
              0.6666666666666666,
              "#ed7953"
             ],
             [
              0.7777777777777778,
              "#fb9f3a"
             ],
             [
              0.8888888888888888,
              "#fdca26"
             ],
             [
              1,
              "#f0f921"
             ]
            ],
            "type": "surface"
           }
          ],
          "table": [
           {
            "cells": {
             "fill": {
              "color": "#EBF0F8"
             },
             "line": {
              "color": "white"
             }
            },
            "header": {
             "fill": {
              "color": "#C8D4E3"
             },
             "line": {
              "color": "white"
             }
            },
            "type": "table"
           }
          ]
         },
         "layout": {
          "annotationdefaults": {
           "arrowcolor": "#2a3f5f",
           "arrowhead": 0,
           "arrowwidth": 1
          },
          "autotypenumbers": "strict",
          "coloraxis": {
           "colorbar": {
            "outlinewidth": 0,
            "ticks": ""
           }
          },
          "colorscale": {
           "diverging": [
            [
             0,
             "#8e0152"
            ],
            [
             0.1,
             "#c51b7d"
            ],
            [
             0.2,
             "#de77ae"
            ],
            [
             0.3,
             "#f1b6da"
            ],
            [
             0.4,
             "#fde0ef"
            ],
            [
             0.5,
             "#f7f7f7"
            ],
            [
             0.6,
             "#e6f5d0"
            ],
            [
             0.7,
             "#b8e186"
            ],
            [
             0.8,
             "#7fbc41"
            ],
            [
             0.9,
             "#4d9221"
            ],
            [
             1,
             "#276419"
            ]
           ],
           "sequential": [
            [
             0,
             "#0d0887"
            ],
            [
             0.1111111111111111,
             "#46039f"
            ],
            [
             0.2222222222222222,
             "#7201a8"
            ],
            [
             0.3333333333333333,
             "#9c179e"
            ],
            [
             0.4444444444444444,
             "#bd3786"
            ],
            [
             0.5555555555555556,
             "#d8576b"
            ],
            [
             0.6666666666666666,
             "#ed7953"
            ],
            [
             0.7777777777777778,
             "#fb9f3a"
            ],
            [
             0.8888888888888888,
             "#fdca26"
            ],
            [
             1,
             "#f0f921"
            ]
           ],
           "sequentialminus": [
            [
             0,
             "#0d0887"
            ],
            [
             0.1111111111111111,
             "#46039f"
            ],
            [
             0.2222222222222222,
             "#7201a8"
            ],
            [
             0.3333333333333333,
             "#9c179e"
            ],
            [
             0.4444444444444444,
             "#bd3786"
            ],
            [
             0.5555555555555556,
             "#d8576b"
            ],
            [
             0.6666666666666666,
             "#ed7953"
            ],
            [
             0.7777777777777778,
             "#fb9f3a"
            ],
            [
             0.8888888888888888,
             "#fdca26"
            ],
            [
             1,
             "#f0f921"
            ]
           ]
          },
          "colorway": [
           "#636efa",
           "#EF553B",
           "#00cc96",
           "#ab63fa",
           "#FFA15A",
           "#19d3f3",
           "#FF6692",
           "#B6E880",
           "#FF97FF",
           "#FECB52"
          ],
          "font": {
           "color": "#2a3f5f"
          },
          "geo": {
           "bgcolor": "white",
           "lakecolor": "white",
           "landcolor": "#E5ECF6",
           "showlakes": true,
           "showland": true,
           "subunitcolor": "white"
          },
          "hoverlabel": {
           "align": "left"
          },
          "hovermode": "closest",
          "mapbox": {
           "style": "light"
          },
          "paper_bgcolor": "white",
          "plot_bgcolor": "#E5ECF6",
          "polar": {
           "angularaxis": {
            "gridcolor": "white",
            "linecolor": "white",
            "ticks": ""
           },
           "bgcolor": "#E5ECF6",
           "radialaxis": {
            "gridcolor": "white",
            "linecolor": "white",
            "ticks": ""
           }
          },
          "scene": {
           "xaxis": {
            "backgroundcolor": "#E5ECF6",
            "gridcolor": "white",
            "gridwidth": 2,
            "linecolor": "white",
            "showbackground": true,
            "ticks": "",
            "zerolinecolor": "white"
           },
           "yaxis": {
            "backgroundcolor": "#E5ECF6",
            "gridcolor": "white",
            "gridwidth": 2,
            "linecolor": "white",
            "showbackground": true,
            "ticks": "",
            "zerolinecolor": "white"
           },
           "zaxis": {
            "backgroundcolor": "#E5ECF6",
            "gridcolor": "white",
            "gridwidth": 2,
            "linecolor": "white",
            "showbackground": true,
            "ticks": "",
            "zerolinecolor": "white"
           }
          },
          "shapedefaults": {
           "line": {
            "color": "#2a3f5f"
           }
          },
          "ternary": {
           "aaxis": {
            "gridcolor": "white",
            "linecolor": "white",
            "ticks": ""
           },
           "baxis": {
            "gridcolor": "white",
            "linecolor": "white",
            "ticks": ""
           },
           "bgcolor": "#E5ECF6",
           "caxis": {
            "gridcolor": "white",
            "linecolor": "white",
            "ticks": ""
           }
          },
          "title": {
           "x": 0.05
          },
          "xaxis": {
           "automargin": true,
           "gridcolor": "white",
           "linecolor": "white",
           "ticks": "",
           "title": {
            "standoff": 15
           },
           "zerolinecolor": "white",
           "zerolinewidth": 2
          },
          "yaxis": {
           "automargin": true,
           "gridcolor": "white",
           "linecolor": "white",
           "ticks": "",
           "title": {
            "standoff": 15
           },
           "zerolinecolor": "white",
           "zerolinewidth": 2
          }
         }
        },
        "title": {
         "text": "📊 Graph III : Nb_members : Top 10 group",
         "x": 0.4
        },
        "width": 1400,
        "xaxis": {
         "anchor": "y",
         "domain": [
          0,
          1
         ],
         "tickangle": 45,
         "title": {
          "text": "Name groups"
         }
        },
        "yaxis": {
         "anchor": "x",
         "domain": [
          0,
          1
         ],
         "tickformat": ",d",
         "title": {
          "text": "Number of members"
         }
        }
       }
      },
      "text/html": [
       "<div>                            <div id=\"dd3b439b-e2ce-4aaf-bef1-8bf61a039d2f\" class=\"plotly-graph-div\" style=\"height:800px; width:1400px;\"></div>            <script type=\"text/javascript\">                require([\"plotly\"], function(Plotly) {                    window.PLOTLYENV=window.PLOTLYENV || {};                                    if (document.getElementById(\"dd3b439b-e2ce-4aaf-bef1-8bf61a039d2f\")) {                    Plotly.newPlot(                        \"dd3b439b-e2ce-4aaf-bef1-8bf61a039d2f\",                        [{\"alignmentgroup\":\"True\",\"hovertemplate\":\"word=%{x}<br>count=%{y}<extra></extra>\",\"legendgroup\":\"\",\"marker\":{\"color\":\"#636efa\",\"pattern\":{\"shape\":\"\"}},\"name\":\"\",\"offsetgroup\":\"\",\"orientation\":\"v\",\"showlegend\":false,\"textposition\":\"auto\",\"x\":[\"description\",\"available\",\"https\",\"mali\",\"internet\",\"orange\",\"mobile\",\"...\",\"gratuit\",\"pour\"],\"xaxis\":\"x\",\"y\":[102,101,91,48,30,30,17,16,14,10],\"yaxis\":\"y\",\"type\":\"bar\"}],                        {\"template\":{\"data\":{\"histogram2dcontour\":[{\"type\":\"histogram2dcontour\",\"colorbar\":{\"outlinewidth\":0,\"ticks\":\"\"},\"colorscale\":[[0.0,\"#0d0887\"],[0.1111111111111111,\"#46039f\"],[0.2222222222222222,\"#7201a8\"],[0.3333333333333333,\"#9c179e\"],[0.4444444444444444,\"#bd3786\"],[0.5555555555555556,\"#d8576b\"],[0.6666666666666666,\"#ed7953\"],[0.7777777777777778,\"#fb9f3a\"],[0.8888888888888888,\"#fdca26\"],[1.0,\"#f0f921\"]]}],\"choropleth\":[{\"type\":\"choropleth\",\"colorbar\":{\"outlinewidth\":0,\"ticks\":\"\"}}],\"histogram2d\":[{\"type\":\"histogram2d\",\"colorbar\":{\"outlinewidth\":0,\"ticks\":\"\"},\"colorscale\":[[0.0,\"#0d0887\"],[0.1111111111111111,\"#46039f\"],[0.2222222222222222,\"#7201a8\"],[0.3333333333333333,\"#9c179e\"],[0.4444444444444444,\"#bd3786\"],[0.5555555555555556,\"#d8576b\"],[0.6666666666666666,\"#ed7953\"],[0.7777777777777778,\"#fb9f3a\"],[0.8888888888888888,\"#fdca26\"],[1.0,\"#f0f921\"]]}],\"heatmap\":[{\"type\":\"heatmap\",\"colorbar\":{\"outlinewidth\":0,\"ticks\":\"\"},\"colorscale\":[[0.0,\"#0d0887\"],[0.1111111111111111,\"#46039f\"],[0.2222222222222222,\"#7201a8\"],[0.3333333333333333,\"#9c179e\"],[0.4444444444444444,\"#bd3786\"],[0.5555555555555556,\"#d8576b\"],[0.6666666666666666,\"#ed7953\"],[0.7777777777777778,\"#fb9f3a\"],[0.8888888888888888,\"#fdca26\"],[1.0,\"#f0f921\"]]}],\"heatmapgl\":[{\"type\":\"heatmapgl\",\"colorbar\":{\"outlinewidth\":0,\"ticks\":\"\"},\"colorscale\":[[0.0,\"#0d0887\"],[0.1111111111111111,\"#46039f\"],[0.2222222222222222,\"#7201a8\"],[0.3333333333333333,\"#9c179e\"],[0.4444444444444444,\"#bd3786\"],[0.5555555555555556,\"#d8576b\"],[0.6666666666666666,\"#ed7953\"],[0.7777777777777778,\"#fb9f3a\"],[0.8888888888888888,\"#fdca26\"],[1.0,\"#f0f921\"]]}],\"contourcarpet\":[{\"type\":\"contourcarpet\",\"colorbar\":{\"outlinewidth\":0,\"ticks\":\"\"}}],\"contour\":[{\"type\":\"contour\",\"colorbar\":{\"outlinewidth\":0,\"ticks\":\"\"},\"colorscale\":[[0.0,\"#0d0887\"],[0.1111111111111111,\"#46039f\"],[0.2222222222222222,\"#7201a8\"],[0.3333333333333333,\"#9c179e\"],[0.4444444444444444,\"#bd3786\"],[0.5555555555555556,\"#d8576b\"],[0.6666666666666666,\"#ed7953\"],[0.7777777777777778,\"#fb9f3a\"],[0.8888888888888888,\"#fdca26\"],[1.0,\"#f0f921\"]]}],\"surface\":[{\"type\":\"surface\",\"colorbar\":{\"outlinewidth\":0,\"ticks\":\"\"},\"colorscale\":[[0.0,\"#0d0887\"],[0.1111111111111111,\"#46039f\"],[0.2222222222222222,\"#7201a8\"],[0.3333333333333333,\"#9c179e\"],[0.4444444444444444,\"#bd3786\"],[0.5555555555555556,\"#d8576b\"],[0.6666666666666666,\"#ed7953\"],[0.7777777777777778,\"#fb9f3a\"],[0.8888888888888888,\"#fdca26\"],[1.0,\"#f0f921\"]]}],\"mesh3d\":[{\"type\":\"mesh3d\",\"colorbar\":{\"outlinewidth\":0,\"ticks\":\"\"}}],\"scatter\":[{\"fillpattern\":{\"fillmode\":\"overlay\",\"size\":10,\"solidity\":0.2},\"type\":\"scatter\"}],\"parcoords\":[{\"type\":\"parcoords\",\"line\":{\"colorbar\":{\"outlinewidth\":0,\"ticks\":\"\"}}}],\"scatterpolargl\":[{\"type\":\"scatterpolargl\",\"marker\":{\"colorbar\":{\"outlinewidth\":0,\"ticks\":\"\"}}}],\"bar\":[{\"error_x\":{\"color\":\"#2a3f5f\"},\"error_y\":{\"color\":\"#2a3f5f\"},\"marker\":{\"line\":{\"color\":\"#E5ECF6\",\"width\":0.5},\"pattern\":{\"fillmode\":\"overlay\",\"size\":10,\"solidity\":0.2}},\"type\":\"bar\"}],\"scattergeo\":[{\"type\":\"scattergeo\",\"marker\":{\"colorbar\":{\"outlinewidth\":0,\"ticks\":\"\"}}}],\"scatterpolar\":[{\"type\":\"scatterpolar\",\"marker\":{\"colorbar\":{\"outlinewidth\":0,\"ticks\":\"\"}}}],\"histogram\":[{\"marker\":{\"pattern\":{\"fillmode\":\"overlay\",\"size\":10,\"solidity\":0.2}},\"type\":\"histogram\"}],\"scattergl\":[{\"type\":\"scattergl\",\"marker\":{\"colorbar\":{\"outlinewidth\":0,\"ticks\":\"\"}}}],\"scatter3d\":[{\"type\":\"scatter3d\",\"line\":{\"colorbar\":{\"outlinewidth\":0,\"ticks\":\"\"}},\"marker\":{\"colorbar\":{\"outlinewidth\":0,\"ticks\":\"\"}}}],\"scattermapbox\":[{\"type\":\"scattermapbox\",\"marker\":{\"colorbar\":{\"outlinewidth\":0,\"ticks\":\"\"}}}],\"scatterternary\":[{\"type\":\"scatterternary\",\"marker\":{\"colorbar\":{\"outlinewidth\":0,\"ticks\":\"\"}}}],\"scattercarpet\":[{\"type\":\"scattercarpet\",\"marker\":{\"colorbar\":{\"outlinewidth\":0,\"ticks\":\"\"}}}],\"carpet\":[{\"aaxis\":{\"endlinecolor\":\"#2a3f5f\",\"gridcolor\":\"white\",\"linecolor\":\"white\",\"minorgridcolor\":\"white\",\"startlinecolor\":\"#2a3f5f\"},\"baxis\":{\"endlinecolor\":\"#2a3f5f\",\"gridcolor\":\"white\",\"linecolor\":\"white\",\"minorgridcolor\":\"white\",\"startlinecolor\":\"#2a3f5f\"},\"type\":\"carpet\"}],\"table\":[{\"cells\":{\"fill\":{\"color\":\"#EBF0F8\"},\"line\":{\"color\":\"white\"}},\"header\":{\"fill\":{\"color\":\"#C8D4E3\"},\"line\":{\"color\":\"white\"}},\"type\":\"table\"}],\"barpolar\":[{\"marker\":{\"line\":{\"color\":\"#E5ECF6\",\"width\":0.5},\"pattern\":{\"fillmode\":\"overlay\",\"size\":10,\"solidity\":0.2}},\"type\":\"barpolar\"}],\"pie\":[{\"automargin\":true,\"type\":\"pie\"}]},\"layout\":{\"autotypenumbers\":\"strict\",\"colorway\":[\"#636efa\",\"#EF553B\",\"#00cc96\",\"#ab63fa\",\"#FFA15A\",\"#19d3f3\",\"#FF6692\",\"#B6E880\",\"#FF97FF\",\"#FECB52\"],\"font\":{\"color\":\"#2a3f5f\"},\"hovermode\":\"closest\",\"hoverlabel\":{\"align\":\"left\"},\"paper_bgcolor\":\"white\",\"plot_bgcolor\":\"#E5ECF6\",\"polar\":{\"bgcolor\":\"#E5ECF6\",\"angularaxis\":{\"gridcolor\":\"white\",\"linecolor\":\"white\",\"ticks\":\"\"},\"radialaxis\":{\"gridcolor\":\"white\",\"linecolor\":\"white\",\"ticks\":\"\"}},\"ternary\":{\"bgcolor\":\"#E5ECF6\",\"aaxis\":{\"gridcolor\":\"white\",\"linecolor\":\"white\",\"ticks\":\"\"},\"baxis\":{\"gridcolor\":\"white\",\"linecolor\":\"white\",\"ticks\":\"\"},\"caxis\":{\"gridcolor\":\"white\",\"linecolor\":\"white\",\"ticks\":\"\"}},\"coloraxis\":{\"colorbar\":{\"outlinewidth\":0,\"ticks\":\"\"}},\"colorscale\":{\"sequential\":[[0.0,\"#0d0887\"],[0.1111111111111111,\"#46039f\"],[0.2222222222222222,\"#7201a8\"],[0.3333333333333333,\"#9c179e\"],[0.4444444444444444,\"#bd3786\"],[0.5555555555555556,\"#d8576b\"],[0.6666666666666666,\"#ed7953\"],[0.7777777777777778,\"#fb9f3a\"],[0.8888888888888888,\"#fdca26\"],[1.0,\"#f0f921\"]],\"sequentialminus\":[[0.0,\"#0d0887\"],[0.1111111111111111,\"#46039f\"],[0.2222222222222222,\"#7201a8\"],[0.3333333333333333,\"#9c179e\"],[0.4444444444444444,\"#bd3786\"],[0.5555555555555556,\"#d8576b\"],[0.6666666666666666,\"#ed7953\"],[0.7777777777777778,\"#fb9f3a\"],[0.8888888888888888,\"#fdca26\"],[1.0,\"#f0f921\"]],\"diverging\":[[0,\"#8e0152\"],[0.1,\"#c51b7d\"],[0.2,\"#de77ae\"],[0.3,\"#f1b6da\"],[0.4,\"#fde0ef\"],[0.5,\"#f7f7f7\"],[0.6,\"#e6f5d0\"],[0.7,\"#b8e186\"],[0.8,\"#7fbc41\"],[0.9,\"#4d9221\"],[1,\"#276419\"]]},\"xaxis\":{\"gridcolor\":\"white\",\"linecolor\":\"white\",\"ticks\":\"\",\"title\":{\"standoff\":15},\"zerolinecolor\":\"white\",\"automargin\":true,\"zerolinewidth\":2},\"yaxis\":{\"gridcolor\":\"white\",\"linecolor\":\"white\",\"ticks\":\"\",\"title\":{\"standoff\":15},\"zerolinecolor\":\"white\",\"automargin\":true,\"zerolinewidth\":2},\"scene\":{\"xaxis\":{\"backgroundcolor\":\"#E5ECF6\",\"gridcolor\":\"white\",\"linecolor\":\"white\",\"showbackground\":true,\"ticks\":\"\",\"zerolinecolor\":\"white\",\"gridwidth\":2},\"yaxis\":{\"backgroundcolor\":\"#E5ECF6\",\"gridcolor\":\"white\",\"linecolor\":\"white\",\"showbackground\":true,\"ticks\":\"\",\"zerolinecolor\":\"white\",\"gridwidth\":2},\"zaxis\":{\"backgroundcolor\":\"#E5ECF6\",\"gridcolor\":\"white\",\"linecolor\":\"white\",\"showbackground\":true,\"ticks\":\"\",\"zerolinecolor\":\"white\",\"gridwidth\":2}},\"shapedefaults\":{\"line\":{\"color\":\"#2a3f5f\"}},\"annotationdefaults\":{\"arrowcolor\":\"#2a3f5f\",\"arrowhead\":0,\"arrowwidth\":1},\"geo\":{\"bgcolor\":\"white\",\"landcolor\":\"#E5ECF6\",\"subunitcolor\":\"white\",\"showland\":true,\"showlakes\":true,\"lakecolor\":\"white\"},\"title\":{\"x\":0.05},\"mapbox\":{\"style\":\"light\"}}},\"xaxis\":{\"anchor\":\"y\",\"domain\":[0.0,1.0],\"title\":{\"text\":\"Name groups\"},\"tickangle\":45},\"yaxis\":{\"anchor\":\"x\",\"domain\":[0.0,1.0],\"title\":{\"text\":\"Number of members\"},\"tickformat\":\",d\"},\"legend\":{\"tracegroupgap\":0},\"margin\":{\"t\":50,\"l\":50,\"r\":50,\"b\":50},\"barmode\":\"relative\",\"height\":800,\"width\":1400,\"font\":{\"family\":\"Arial\",\"size\":12,\"color\":\"blue\"},\"title\":{\"text\":\"\\ud83d\\udcca Graph III : Nb_members : Top 10 group\",\"x\":0.4},\"plot_bgcolor\":\"white\",\"paper_bgcolor\":\"rgb(255,255,255)\"},                        {\"responsive\": true}                    ).then(function(){\n",
       "                            \n",
       "var gd = document.getElementById('dd3b439b-e2ce-4aaf-bef1-8bf61a039d2f');\n",
       "var x = new MutationObserver(function (mutations, observer) {{\n",
       "        var display = window.getComputedStyle(gd).display;\n",
       "        if (!display || display === 'none') {{\n",
       "            console.log([gd, 'removed!']);\n",
       "            Plotly.purge(gd);\n",
       "            observer.disconnect();\n",
       "        }}\n",
       "}});\n",
       "\n",
       "// Listen for the removal of the full notebook cells\n",
       "var notebookContainer = gd.closest('#notebook-container');\n",
       "if (notebookContainer) {{\n",
       "    x.observe(notebookContainer, {childList: true});\n",
       "}}\n",
       "\n",
       "// Listen for the clearing of the current output cell\n",
       "var outputEl = gd.closest('.output');\n",
       "if (outputEl) {{\n",
       "    x.observe(outputEl, {childList: true});\n",
       "}}\n",
       "\n",
       "                        })                };                });            </script>        </div>"
      ]
     },
     "metadata": {},
     "output_type": "display_data"
    }
   ],
   "source": [
    "fig = px.bar(goog_process, x = 'word', y = 'count',\n",
    "                width=1400, height=800)\n",
    "fig.update_layout(\n",
    "xaxis_title='Name groups',\n",
    "yaxis_title='Number of members',\n",
    "plot_bgcolor='white',  # Transparent plot background\n",
    "paper_bgcolor='rgb(255,255,255)',  # White background\n",
    "font=dict(family='Arial', size=12, color='blue'),  # Font style\n",
    "margin=dict(l=50, r=50, t=50, b=50),  # Setting margins\n",
    "xaxis=dict(tickangle=45),  # Rotating x-axis labels\n",
    "yaxis=dict(tickformat=',d'),  # Adding comma to y-axis labels for thousands separator, \n",
    "title = '📊 Graph III : Nb_members : Top 10 group',\n",
    "title_x = 0.4\n",
    ")"
   ]
  },
  {
   "cell_type": "code",
   "execution_count": 77,
   "id": "03e50d49",
   "metadata": {},
   "outputs": [
    {
     "data": {
      "application/vnd.plotly.v1+json": {
       "config": {
        "plotlyServerURL": "https://plot.ly"
       },
       "data": [
        {
         "alignmentgroup": "True",
         "hovertemplate": "word=%{x}<br>count=%{y}<extra></extra>",
         "legendgroup": "",
         "marker": {
          "color": "#636efa",
          "pattern": {
           "shape": ""
          }
         },
         "name": "",
         "offsetgroup": "",
         "orientation": "v",
         "showlegend": false,
         "textposition": "auto",
         "type": "bar",
         "x": [
          "description",
          "available",
          "https",
          "mali",
          "internet",
          "orange",
          "mobile",
          "...",
          "gratuit",
          "pour"
         ],
         "xaxis": "x",
         "y": [
          102,
          101,
          91,
          48,
          30,
          30,
          17,
          16,
          14,
          10
         ],
         "yaxis": "y"
        }
       ],
       "layout": {
        "barmode": "relative",
        "font": {
         "color": "black",
         "family": "Arial",
         "size": 12
        },
        "height": 800,
        "legend": {
         "tracegroupgap": 0
        },
        "margin": {
         "b": 50,
         "l": 50,
         "r": 50,
         "t": 50
        },
        "paper_bgcolor": "rgb(100,200,200)",
        "plot_bgcolor": "white",
        "template": {
         "data": {
          "bar": [
           {
            "error_x": {
             "color": "#2a3f5f"
            },
            "error_y": {
             "color": "#2a3f5f"
            },
            "marker": {
             "line": {
              "color": "#E5ECF6",
              "width": 0.5
             },
             "pattern": {
              "fillmode": "overlay",
              "size": 10,
              "solidity": 0.2
             }
            },
            "type": "bar"
           }
          ],
          "barpolar": [
           {
            "marker": {
             "line": {
              "color": "#E5ECF6",
              "width": 0.5
             },
             "pattern": {
              "fillmode": "overlay",
              "size": 10,
              "solidity": 0.2
             }
            },
            "type": "barpolar"
           }
          ],
          "carpet": [
           {
            "aaxis": {
             "endlinecolor": "#2a3f5f",
             "gridcolor": "white",
             "linecolor": "white",
             "minorgridcolor": "white",
             "startlinecolor": "#2a3f5f"
            },
            "baxis": {
             "endlinecolor": "#2a3f5f",
             "gridcolor": "white",
             "linecolor": "white",
             "minorgridcolor": "white",
             "startlinecolor": "#2a3f5f"
            },
            "type": "carpet"
           }
          ],
          "choropleth": [
           {
            "colorbar": {
             "outlinewidth": 0,
             "ticks": ""
            },
            "type": "choropleth"
           }
          ],
          "contour": [
           {
            "colorbar": {
             "outlinewidth": 0,
             "ticks": ""
            },
            "colorscale": [
             [
              0,
              "#0d0887"
             ],
             [
              0.1111111111111111,
              "#46039f"
             ],
             [
              0.2222222222222222,
              "#7201a8"
             ],
             [
              0.3333333333333333,
              "#9c179e"
             ],
             [
              0.4444444444444444,
              "#bd3786"
             ],
             [
              0.5555555555555556,
              "#d8576b"
             ],
             [
              0.6666666666666666,
              "#ed7953"
             ],
             [
              0.7777777777777778,
              "#fb9f3a"
             ],
             [
              0.8888888888888888,
              "#fdca26"
             ],
             [
              1,
              "#f0f921"
             ]
            ],
            "type": "contour"
           }
          ],
          "contourcarpet": [
           {
            "colorbar": {
             "outlinewidth": 0,
             "ticks": ""
            },
            "type": "contourcarpet"
           }
          ],
          "heatmap": [
           {
            "colorbar": {
             "outlinewidth": 0,
             "ticks": ""
            },
            "colorscale": [
             [
              0,
              "#0d0887"
             ],
             [
              0.1111111111111111,
              "#46039f"
             ],
             [
              0.2222222222222222,
              "#7201a8"
             ],
             [
              0.3333333333333333,
              "#9c179e"
             ],
             [
              0.4444444444444444,
              "#bd3786"
             ],
             [
              0.5555555555555556,
              "#d8576b"
             ],
             [
              0.6666666666666666,
              "#ed7953"
             ],
             [
              0.7777777777777778,
              "#fb9f3a"
             ],
             [
              0.8888888888888888,
              "#fdca26"
             ],
             [
              1,
              "#f0f921"
             ]
            ],
            "type": "heatmap"
           }
          ],
          "heatmapgl": [
           {
            "colorbar": {
             "outlinewidth": 0,
             "ticks": ""
            },
            "colorscale": [
             [
              0,
              "#0d0887"
             ],
             [
              0.1111111111111111,
              "#46039f"
             ],
             [
              0.2222222222222222,
              "#7201a8"
             ],
             [
              0.3333333333333333,
              "#9c179e"
             ],
             [
              0.4444444444444444,
              "#bd3786"
             ],
             [
              0.5555555555555556,
              "#d8576b"
             ],
             [
              0.6666666666666666,
              "#ed7953"
             ],
             [
              0.7777777777777778,
              "#fb9f3a"
             ],
             [
              0.8888888888888888,
              "#fdca26"
             ],
             [
              1,
              "#f0f921"
             ]
            ],
            "type": "heatmapgl"
           }
          ],
          "histogram": [
           {
            "marker": {
             "pattern": {
              "fillmode": "overlay",
              "size": 10,
              "solidity": 0.2
             }
            },
            "type": "histogram"
           }
          ],
          "histogram2d": [
           {
            "colorbar": {
             "outlinewidth": 0,
             "ticks": ""
            },
            "colorscale": [
             [
              0,
              "#0d0887"
             ],
             [
              0.1111111111111111,
              "#46039f"
             ],
             [
              0.2222222222222222,
              "#7201a8"
             ],
             [
              0.3333333333333333,
              "#9c179e"
             ],
             [
              0.4444444444444444,
              "#bd3786"
             ],
             [
              0.5555555555555556,
              "#d8576b"
             ],
             [
              0.6666666666666666,
              "#ed7953"
             ],
             [
              0.7777777777777778,
              "#fb9f3a"
             ],
             [
              0.8888888888888888,
              "#fdca26"
             ],
             [
              1,
              "#f0f921"
             ]
            ],
            "type": "histogram2d"
           }
          ],
          "histogram2dcontour": [
           {
            "colorbar": {
             "outlinewidth": 0,
             "ticks": ""
            },
            "colorscale": [
             [
              0,
              "#0d0887"
             ],
             [
              0.1111111111111111,
              "#46039f"
             ],
             [
              0.2222222222222222,
              "#7201a8"
             ],
             [
              0.3333333333333333,
              "#9c179e"
             ],
             [
              0.4444444444444444,
              "#bd3786"
             ],
             [
              0.5555555555555556,
              "#d8576b"
             ],
             [
              0.6666666666666666,
              "#ed7953"
             ],
             [
              0.7777777777777778,
              "#fb9f3a"
             ],
             [
              0.8888888888888888,
              "#fdca26"
             ],
             [
              1,
              "#f0f921"
             ]
            ],
            "type": "histogram2dcontour"
           }
          ],
          "mesh3d": [
           {
            "colorbar": {
             "outlinewidth": 0,
             "ticks": ""
            },
            "type": "mesh3d"
           }
          ],
          "parcoords": [
           {
            "line": {
             "colorbar": {
              "outlinewidth": 0,
              "ticks": ""
             }
            },
            "type": "parcoords"
           }
          ],
          "pie": [
           {
            "automargin": true,
            "type": "pie"
           }
          ],
          "scatter": [
           {
            "fillpattern": {
             "fillmode": "overlay",
             "size": 10,
             "solidity": 0.2
            },
            "type": "scatter"
           }
          ],
          "scatter3d": [
           {
            "line": {
             "colorbar": {
              "outlinewidth": 0,
              "ticks": ""
             }
            },
            "marker": {
             "colorbar": {
              "outlinewidth": 0,
              "ticks": ""
             }
            },
            "type": "scatter3d"
           }
          ],
          "scattercarpet": [
           {
            "marker": {
             "colorbar": {
              "outlinewidth": 0,
              "ticks": ""
             }
            },
            "type": "scattercarpet"
           }
          ],
          "scattergeo": [
           {
            "marker": {
             "colorbar": {
              "outlinewidth": 0,
              "ticks": ""
             }
            },
            "type": "scattergeo"
           }
          ],
          "scattergl": [
           {
            "marker": {
             "colorbar": {
              "outlinewidth": 0,
              "ticks": ""
             }
            },
            "type": "scattergl"
           }
          ],
          "scattermapbox": [
           {
            "marker": {
             "colorbar": {
              "outlinewidth": 0,
              "ticks": ""
             }
            },
            "type": "scattermapbox"
           }
          ],
          "scatterpolar": [
           {
            "marker": {
             "colorbar": {
              "outlinewidth": 0,
              "ticks": ""
             }
            },
            "type": "scatterpolar"
           }
          ],
          "scatterpolargl": [
           {
            "marker": {
             "colorbar": {
              "outlinewidth": 0,
              "ticks": ""
             }
            },
            "type": "scatterpolargl"
           }
          ],
          "scatterternary": [
           {
            "marker": {
             "colorbar": {
              "outlinewidth": 0,
              "ticks": ""
             }
            },
            "type": "scatterternary"
           }
          ],
          "surface": [
           {
            "colorbar": {
             "outlinewidth": 0,
             "ticks": ""
            },
            "colorscale": [
             [
              0,
              "#0d0887"
             ],
             [
              0.1111111111111111,
              "#46039f"
             ],
             [
              0.2222222222222222,
              "#7201a8"
             ],
             [
              0.3333333333333333,
              "#9c179e"
             ],
             [
              0.4444444444444444,
              "#bd3786"
             ],
             [
              0.5555555555555556,
              "#d8576b"
             ],
             [
              0.6666666666666666,
              "#ed7953"
             ],
             [
              0.7777777777777778,
              "#fb9f3a"
             ],
             [
              0.8888888888888888,
              "#fdca26"
             ],
             [
              1,
              "#f0f921"
             ]
            ],
            "type": "surface"
           }
          ],
          "table": [
           {
            "cells": {
             "fill": {
              "color": "#EBF0F8"
             },
             "line": {
              "color": "white"
             }
            },
            "header": {
             "fill": {
              "color": "#C8D4E3"
             },
             "line": {
              "color": "white"
             }
            },
            "type": "table"
           }
          ]
         },
         "layout": {
          "annotationdefaults": {
           "arrowcolor": "#2a3f5f",
           "arrowhead": 0,
           "arrowwidth": 1
          },
          "autotypenumbers": "strict",
          "coloraxis": {
           "colorbar": {
            "outlinewidth": 0,
            "ticks": ""
           }
          },
          "colorscale": {
           "diverging": [
            [
             0,
             "#8e0152"
            ],
            [
             0.1,
             "#c51b7d"
            ],
            [
             0.2,
             "#de77ae"
            ],
            [
             0.3,
             "#f1b6da"
            ],
            [
             0.4,
             "#fde0ef"
            ],
            [
             0.5,
             "#f7f7f7"
            ],
            [
             0.6,
             "#e6f5d0"
            ],
            [
             0.7,
             "#b8e186"
            ],
            [
             0.8,
             "#7fbc41"
            ],
            [
             0.9,
             "#4d9221"
            ],
            [
             1,
             "#276419"
            ]
           ],
           "sequential": [
            [
             0,
             "#0d0887"
            ],
            [
             0.1111111111111111,
             "#46039f"
            ],
            [
             0.2222222222222222,
             "#7201a8"
            ],
            [
             0.3333333333333333,
             "#9c179e"
            ],
            [
             0.4444444444444444,
             "#bd3786"
            ],
            [
             0.5555555555555556,
             "#d8576b"
            ],
            [
             0.6666666666666666,
             "#ed7953"
            ],
            [
             0.7777777777777778,
             "#fb9f3a"
            ],
            [
             0.8888888888888888,
             "#fdca26"
            ],
            [
             1,
             "#f0f921"
            ]
           ],
           "sequentialminus": [
            [
             0,
             "#0d0887"
            ],
            [
             0.1111111111111111,
             "#46039f"
            ],
            [
             0.2222222222222222,
             "#7201a8"
            ],
            [
             0.3333333333333333,
             "#9c179e"
            ],
            [
             0.4444444444444444,
             "#bd3786"
            ],
            [
             0.5555555555555556,
             "#d8576b"
            ],
            [
             0.6666666666666666,
             "#ed7953"
            ],
            [
             0.7777777777777778,
             "#fb9f3a"
            ],
            [
             0.8888888888888888,
             "#fdca26"
            ],
            [
             1,
             "#f0f921"
            ]
           ]
          },
          "colorway": [
           "#636efa",
           "#EF553B",
           "#00cc96",
           "#ab63fa",
           "#FFA15A",
           "#19d3f3",
           "#FF6692",
           "#B6E880",
           "#FF97FF",
           "#FECB52"
          ],
          "font": {
           "color": "#2a3f5f"
          },
          "geo": {
           "bgcolor": "white",
           "lakecolor": "white",
           "landcolor": "#E5ECF6",
           "showlakes": true,
           "showland": true,
           "subunitcolor": "white"
          },
          "hoverlabel": {
           "align": "left"
          },
          "hovermode": "closest",
          "mapbox": {
           "style": "light"
          },
          "paper_bgcolor": "white",
          "plot_bgcolor": "#E5ECF6",
          "polar": {
           "angularaxis": {
            "gridcolor": "white",
            "linecolor": "white",
            "ticks": ""
           },
           "bgcolor": "#E5ECF6",
           "radialaxis": {
            "gridcolor": "white",
            "linecolor": "white",
            "ticks": ""
           }
          },
          "scene": {
           "xaxis": {
            "backgroundcolor": "#E5ECF6",
            "gridcolor": "white",
            "gridwidth": 2,
            "linecolor": "white",
            "showbackground": true,
            "ticks": "",
            "zerolinecolor": "white"
           },
           "yaxis": {
            "backgroundcolor": "#E5ECF6",
            "gridcolor": "white",
            "gridwidth": 2,
            "linecolor": "white",
            "showbackground": true,
            "ticks": "",
            "zerolinecolor": "white"
           },
           "zaxis": {
            "backgroundcolor": "#E5ECF6",
            "gridcolor": "white",
            "gridwidth": 2,
            "linecolor": "white",
            "showbackground": true,
            "ticks": "",
            "zerolinecolor": "white"
           }
          },
          "shapedefaults": {
           "line": {
            "color": "#2a3f5f"
           }
          },
          "ternary": {
           "aaxis": {
            "gridcolor": "white",
            "linecolor": "white",
            "ticks": ""
           },
           "baxis": {
            "gridcolor": "white",
            "linecolor": "white",
            "ticks": ""
           },
           "bgcolor": "#E5ECF6",
           "caxis": {
            "gridcolor": "white",
            "linecolor": "white",
            "ticks": ""
           }
          },
          "title": {
           "x": 0.05
          },
          "xaxis": {
           "automargin": true,
           "gridcolor": "white",
           "linecolor": "white",
           "ticks": "",
           "title": {
            "standoff": 15
           },
           "zerolinecolor": "white",
           "zerolinewidth": 2
          },
          "yaxis": {
           "automargin": true,
           "gridcolor": "white",
           "linecolor": "white",
           "ticks": "",
           "title": {
            "standoff": 15
           },
           "zerolinecolor": "white",
           "zerolinewidth": 2
          }
         }
        },
        "title": {
         "text": "📊 TOP 15 of words",
         "x": 0.4
        },
        "width": 1400,
        "xaxis": {
         "anchor": "y",
         "domain": [
          0,
          1
         ],
         "tickangle": 45,
         "title": {
          "text": "words"
         }
        },
        "yaxis": {
         "anchor": "x",
         "domain": [
          0,
          1
         ],
         "tickformat": ",d",
         "title": {
          "text": "Frequency of word"
         }
        }
       }
      },
      "text/html": [
       "<div>                            <div id=\"c2357074-775b-4be3-a992-ad39fadde903\" class=\"plotly-graph-div\" style=\"height:800px; width:1400px;\"></div>            <script type=\"text/javascript\">                require([\"plotly\"], function(Plotly) {                    window.PLOTLYENV=window.PLOTLYENV || {};                                    if (document.getElementById(\"c2357074-775b-4be3-a992-ad39fadde903\")) {                    Plotly.newPlot(                        \"c2357074-775b-4be3-a992-ad39fadde903\",                        [{\"alignmentgroup\":\"True\",\"hovertemplate\":\"word=%{x}<br>count=%{y}<extra></extra>\",\"legendgroup\":\"\",\"marker\":{\"color\":\"#636efa\",\"pattern\":{\"shape\":\"\"}},\"name\":\"\",\"offsetgroup\":\"\",\"orientation\":\"v\",\"showlegend\":false,\"textposition\":\"auto\",\"x\":[\"description\",\"available\",\"https\",\"mali\",\"internet\",\"orange\",\"mobile\",\"...\",\"gratuit\",\"pour\"],\"xaxis\":\"x\",\"y\":[102,101,91,48,30,30,17,16,14,10],\"yaxis\":\"y\",\"type\":\"bar\"}],                        {\"template\":{\"data\":{\"histogram2dcontour\":[{\"type\":\"histogram2dcontour\",\"colorbar\":{\"outlinewidth\":0,\"ticks\":\"\"},\"colorscale\":[[0.0,\"#0d0887\"],[0.1111111111111111,\"#46039f\"],[0.2222222222222222,\"#7201a8\"],[0.3333333333333333,\"#9c179e\"],[0.4444444444444444,\"#bd3786\"],[0.5555555555555556,\"#d8576b\"],[0.6666666666666666,\"#ed7953\"],[0.7777777777777778,\"#fb9f3a\"],[0.8888888888888888,\"#fdca26\"],[1.0,\"#f0f921\"]]}],\"choropleth\":[{\"type\":\"choropleth\",\"colorbar\":{\"outlinewidth\":0,\"ticks\":\"\"}}],\"histogram2d\":[{\"type\":\"histogram2d\",\"colorbar\":{\"outlinewidth\":0,\"ticks\":\"\"},\"colorscale\":[[0.0,\"#0d0887\"],[0.1111111111111111,\"#46039f\"],[0.2222222222222222,\"#7201a8\"],[0.3333333333333333,\"#9c179e\"],[0.4444444444444444,\"#bd3786\"],[0.5555555555555556,\"#d8576b\"],[0.6666666666666666,\"#ed7953\"],[0.7777777777777778,\"#fb9f3a\"],[0.8888888888888888,\"#fdca26\"],[1.0,\"#f0f921\"]]}],\"heatmap\":[{\"type\":\"heatmap\",\"colorbar\":{\"outlinewidth\":0,\"ticks\":\"\"},\"colorscale\":[[0.0,\"#0d0887\"],[0.1111111111111111,\"#46039f\"],[0.2222222222222222,\"#7201a8\"],[0.3333333333333333,\"#9c179e\"],[0.4444444444444444,\"#bd3786\"],[0.5555555555555556,\"#d8576b\"],[0.6666666666666666,\"#ed7953\"],[0.7777777777777778,\"#fb9f3a\"],[0.8888888888888888,\"#fdca26\"],[1.0,\"#f0f921\"]]}],\"heatmapgl\":[{\"type\":\"heatmapgl\",\"colorbar\":{\"outlinewidth\":0,\"ticks\":\"\"},\"colorscale\":[[0.0,\"#0d0887\"],[0.1111111111111111,\"#46039f\"],[0.2222222222222222,\"#7201a8\"],[0.3333333333333333,\"#9c179e\"],[0.4444444444444444,\"#bd3786\"],[0.5555555555555556,\"#d8576b\"],[0.6666666666666666,\"#ed7953\"],[0.7777777777777778,\"#fb9f3a\"],[0.8888888888888888,\"#fdca26\"],[1.0,\"#f0f921\"]]}],\"contourcarpet\":[{\"type\":\"contourcarpet\",\"colorbar\":{\"outlinewidth\":0,\"ticks\":\"\"}}],\"contour\":[{\"type\":\"contour\",\"colorbar\":{\"outlinewidth\":0,\"ticks\":\"\"},\"colorscale\":[[0.0,\"#0d0887\"],[0.1111111111111111,\"#46039f\"],[0.2222222222222222,\"#7201a8\"],[0.3333333333333333,\"#9c179e\"],[0.4444444444444444,\"#bd3786\"],[0.5555555555555556,\"#d8576b\"],[0.6666666666666666,\"#ed7953\"],[0.7777777777777778,\"#fb9f3a\"],[0.8888888888888888,\"#fdca26\"],[1.0,\"#f0f921\"]]}],\"surface\":[{\"type\":\"surface\",\"colorbar\":{\"outlinewidth\":0,\"ticks\":\"\"},\"colorscale\":[[0.0,\"#0d0887\"],[0.1111111111111111,\"#46039f\"],[0.2222222222222222,\"#7201a8\"],[0.3333333333333333,\"#9c179e\"],[0.4444444444444444,\"#bd3786\"],[0.5555555555555556,\"#d8576b\"],[0.6666666666666666,\"#ed7953\"],[0.7777777777777778,\"#fb9f3a\"],[0.8888888888888888,\"#fdca26\"],[1.0,\"#f0f921\"]]}],\"mesh3d\":[{\"type\":\"mesh3d\",\"colorbar\":{\"outlinewidth\":0,\"ticks\":\"\"}}],\"scatter\":[{\"fillpattern\":{\"fillmode\":\"overlay\",\"size\":10,\"solidity\":0.2},\"type\":\"scatter\"}],\"parcoords\":[{\"type\":\"parcoords\",\"line\":{\"colorbar\":{\"outlinewidth\":0,\"ticks\":\"\"}}}],\"scatterpolargl\":[{\"type\":\"scatterpolargl\",\"marker\":{\"colorbar\":{\"outlinewidth\":0,\"ticks\":\"\"}}}],\"bar\":[{\"error_x\":{\"color\":\"#2a3f5f\"},\"error_y\":{\"color\":\"#2a3f5f\"},\"marker\":{\"line\":{\"color\":\"#E5ECF6\",\"width\":0.5},\"pattern\":{\"fillmode\":\"overlay\",\"size\":10,\"solidity\":0.2}},\"type\":\"bar\"}],\"scattergeo\":[{\"type\":\"scattergeo\",\"marker\":{\"colorbar\":{\"outlinewidth\":0,\"ticks\":\"\"}}}],\"scatterpolar\":[{\"type\":\"scatterpolar\",\"marker\":{\"colorbar\":{\"outlinewidth\":0,\"ticks\":\"\"}}}],\"histogram\":[{\"marker\":{\"pattern\":{\"fillmode\":\"overlay\",\"size\":10,\"solidity\":0.2}},\"type\":\"histogram\"}],\"scattergl\":[{\"type\":\"scattergl\",\"marker\":{\"colorbar\":{\"outlinewidth\":0,\"ticks\":\"\"}}}],\"scatter3d\":[{\"type\":\"scatter3d\",\"line\":{\"colorbar\":{\"outlinewidth\":0,\"ticks\":\"\"}},\"marker\":{\"colorbar\":{\"outlinewidth\":0,\"ticks\":\"\"}}}],\"scattermapbox\":[{\"type\":\"scattermapbox\",\"marker\":{\"colorbar\":{\"outlinewidth\":0,\"ticks\":\"\"}}}],\"scatterternary\":[{\"type\":\"scatterternary\",\"marker\":{\"colorbar\":{\"outlinewidth\":0,\"ticks\":\"\"}}}],\"scattercarpet\":[{\"type\":\"scattercarpet\",\"marker\":{\"colorbar\":{\"outlinewidth\":0,\"ticks\":\"\"}}}],\"carpet\":[{\"aaxis\":{\"endlinecolor\":\"#2a3f5f\",\"gridcolor\":\"white\",\"linecolor\":\"white\",\"minorgridcolor\":\"white\",\"startlinecolor\":\"#2a3f5f\"},\"baxis\":{\"endlinecolor\":\"#2a3f5f\",\"gridcolor\":\"white\",\"linecolor\":\"white\",\"minorgridcolor\":\"white\",\"startlinecolor\":\"#2a3f5f\"},\"type\":\"carpet\"}],\"table\":[{\"cells\":{\"fill\":{\"color\":\"#EBF0F8\"},\"line\":{\"color\":\"white\"}},\"header\":{\"fill\":{\"color\":\"#C8D4E3\"},\"line\":{\"color\":\"white\"}},\"type\":\"table\"}],\"barpolar\":[{\"marker\":{\"line\":{\"color\":\"#E5ECF6\",\"width\":0.5},\"pattern\":{\"fillmode\":\"overlay\",\"size\":10,\"solidity\":0.2}},\"type\":\"barpolar\"}],\"pie\":[{\"automargin\":true,\"type\":\"pie\"}]},\"layout\":{\"autotypenumbers\":\"strict\",\"colorway\":[\"#636efa\",\"#EF553B\",\"#00cc96\",\"#ab63fa\",\"#FFA15A\",\"#19d3f3\",\"#FF6692\",\"#B6E880\",\"#FF97FF\",\"#FECB52\"],\"font\":{\"color\":\"#2a3f5f\"},\"hovermode\":\"closest\",\"hoverlabel\":{\"align\":\"left\"},\"paper_bgcolor\":\"white\",\"plot_bgcolor\":\"#E5ECF6\",\"polar\":{\"bgcolor\":\"#E5ECF6\",\"angularaxis\":{\"gridcolor\":\"white\",\"linecolor\":\"white\",\"ticks\":\"\"},\"radialaxis\":{\"gridcolor\":\"white\",\"linecolor\":\"white\",\"ticks\":\"\"}},\"ternary\":{\"bgcolor\":\"#E5ECF6\",\"aaxis\":{\"gridcolor\":\"white\",\"linecolor\":\"white\",\"ticks\":\"\"},\"baxis\":{\"gridcolor\":\"white\",\"linecolor\":\"white\",\"ticks\":\"\"},\"caxis\":{\"gridcolor\":\"white\",\"linecolor\":\"white\",\"ticks\":\"\"}},\"coloraxis\":{\"colorbar\":{\"outlinewidth\":0,\"ticks\":\"\"}},\"colorscale\":{\"sequential\":[[0.0,\"#0d0887\"],[0.1111111111111111,\"#46039f\"],[0.2222222222222222,\"#7201a8\"],[0.3333333333333333,\"#9c179e\"],[0.4444444444444444,\"#bd3786\"],[0.5555555555555556,\"#d8576b\"],[0.6666666666666666,\"#ed7953\"],[0.7777777777777778,\"#fb9f3a\"],[0.8888888888888888,\"#fdca26\"],[1.0,\"#f0f921\"]],\"sequentialminus\":[[0.0,\"#0d0887\"],[0.1111111111111111,\"#46039f\"],[0.2222222222222222,\"#7201a8\"],[0.3333333333333333,\"#9c179e\"],[0.4444444444444444,\"#bd3786\"],[0.5555555555555556,\"#d8576b\"],[0.6666666666666666,\"#ed7953\"],[0.7777777777777778,\"#fb9f3a\"],[0.8888888888888888,\"#fdca26\"],[1.0,\"#f0f921\"]],\"diverging\":[[0,\"#8e0152\"],[0.1,\"#c51b7d\"],[0.2,\"#de77ae\"],[0.3,\"#f1b6da\"],[0.4,\"#fde0ef\"],[0.5,\"#f7f7f7\"],[0.6,\"#e6f5d0\"],[0.7,\"#b8e186\"],[0.8,\"#7fbc41\"],[0.9,\"#4d9221\"],[1,\"#276419\"]]},\"xaxis\":{\"gridcolor\":\"white\",\"linecolor\":\"white\",\"ticks\":\"\",\"title\":{\"standoff\":15},\"zerolinecolor\":\"white\",\"automargin\":true,\"zerolinewidth\":2},\"yaxis\":{\"gridcolor\":\"white\",\"linecolor\":\"white\",\"ticks\":\"\",\"title\":{\"standoff\":15},\"zerolinecolor\":\"white\",\"automargin\":true,\"zerolinewidth\":2},\"scene\":{\"xaxis\":{\"backgroundcolor\":\"#E5ECF6\",\"gridcolor\":\"white\",\"linecolor\":\"white\",\"showbackground\":true,\"ticks\":\"\",\"zerolinecolor\":\"white\",\"gridwidth\":2},\"yaxis\":{\"backgroundcolor\":\"#E5ECF6\",\"gridcolor\":\"white\",\"linecolor\":\"white\",\"showbackground\":true,\"ticks\":\"\",\"zerolinecolor\":\"white\",\"gridwidth\":2},\"zaxis\":{\"backgroundcolor\":\"#E5ECF6\",\"gridcolor\":\"white\",\"linecolor\":\"white\",\"showbackground\":true,\"ticks\":\"\",\"zerolinecolor\":\"white\",\"gridwidth\":2}},\"shapedefaults\":{\"line\":{\"color\":\"#2a3f5f\"}},\"annotationdefaults\":{\"arrowcolor\":\"#2a3f5f\",\"arrowhead\":0,\"arrowwidth\":1},\"geo\":{\"bgcolor\":\"white\",\"landcolor\":\"#E5ECF6\",\"subunitcolor\":\"white\",\"showland\":true,\"showlakes\":true,\"lakecolor\":\"white\"},\"title\":{\"x\":0.05},\"mapbox\":{\"style\":\"light\"}}},\"xaxis\":{\"anchor\":\"y\",\"domain\":[0.0,1.0],\"title\":{\"text\":\"words\"},\"tickangle\":45},\"yaxis\":{\"anchor\":\"x\",\"domain\":[0.0,1.0],\"title\":{\"text\":\"Frequency of word\"},\"tickformat\":\",d\"},\"legend\":{\"tracegroupgap\":0},\"margin\":{\"t\":50,\"l\":50,\"r\":50,\"b\":50},\"barmode\":\"relative\",\"height\":800,\"width\":1400,\"font\":{\"family\":\"Arial\",\"size\":12,\"color\":\"black\"},\"title\":{\"text\":\"\\ud83d\\udcca TOP 15 of words\",\"x\":0.4},\"plot_bgcolor\":\"white\",\"paper_bgcolor\":\"rgb(100,200,200)\"},                        {\"responsive\": true}                    ).then(function(){\n",
       "                            \n",
       "var gd = document.getElementById('c2357074-775b-4be3-a992-ad39fadde903');\n",
       "var x = new MutationObserver(function (mutations, observer) {{\n",
       "        var display = window.getComputedStyle(gd).display;\n",
       "        if (!display || display === 'none') {{\n",
       "            console.log([gd, 'removed!']);\n",
       "            Plotly.purge(gd);\n",
       "            observer.disconnect();\n",
       "        }}\n",
       "}});\n",
       "\n",
       "// Listen for the removal of the full notebook cells\n",
       "var notebookContainer = gd.closest('#notebook-container');\n",
       "if (notebookContainer) {{\n",
       "    x.observe(notebookContainer, {childList: true});\n",
       "}}\n",
       "\n",
       "// Listen for the clearing of the current output cell\n",
       "var outputEl = gd.closest('.output');\n",
       "if (outputEl) {{\n",
       "    x.observe(outputEl, {childList: true});\n",
       "}}\n",
       "\n",
       "                        })                };                });            </script>        </div>"
      ]
     },
     "metadata": {},
     "output_type": "display_data"
    }
   ],
   "source": [
    "fig = px.bar(goog_process, x = 'word', y = 'count', \n",
    "width=1400, height=800 )\n",
    "fig.update_layout(\n",
    "xaxis_title='words',\n",
    "yaxis_title='Frequency of word',\n",
    "plot_bgcolor='white',  # Transparent plot background\n",
    "paper_bgcolor='rgb(100,200,200)',  # White background\n",
    "font=dict(family='Arial', size=12, color='black'),  # Font style\n",
    "margin=dict(l=50, r=50, t=50, b=50),  # Setting margins\n",
    "xaxis=dict(tickangle=45),  # Rotating x-axis labels\n",
    "yaxis=dict(tickformat=',d'),  # Adding comma to y-axis labels for thousands separator, \n",
    "title = '📊 TOP 15 of words',\n",
    "title_x = 0.4\n",
    ")"
   ]
  },
  {
   "cell_type": "code",
   "execution_count": 42,
   "id": "d13da362",
   "metadata": {},
   "outputs": [
    {
     "data": {
      "text/html": [
       "<div>\n",
       "<style scoped>\n",
       "    .dataframe tbody tr th:only-of-type {\n",
       "        vertical-align: middle;\n",
       "    }\n",
       "\n",
       "    .dataframe tbody tr th {\n",
       "        vertical-align: top;\n",
       "    }\n",
       "\n",
       "    .dataframe thead th {\n",
       "        text-align: right;\n",
       "    }\n",
       "</style>\n",
       "<table border=\"1\" class=\"dataframe\">\n",
       "  <thead>\n",
       "    <tr style=\"text-align: right;\">\n",
       "      <th></th>\n",
       "      <th>Title</th>\n",
       "      <th>Link</th>\n",
       "      <th>Description</th>\n",
       "      <th>Date</th>\n",
       "      <th>Year</th>\n",
       "    </tr>\n",
       "  </thead>\n",
       "  <tbody>\n",
       "    <tr>\n",
       "      <th>0</th>\n",
       "      <td>Connexion internet gratuite Orange Mali</td>\n",
       "      <td>https://www.facebook.com/groups/373261044156562/</td>\n",
       "      <td>No description available</td>\n",
       "      <td>No date available</td>\n",
       "      <td>No year available</td>\n",
       "    </tr>\n",
       "    <tr>\n",
       "      <th>1</th>\n",
       "      <td>Internet gratuit illimité Orange Mali (Astuces...</td>\n",
       "      <td>https://www.gb00tech.com/2020/12/internet-grat...</td>\n",
       "      <td>No description available</td>\n",
       "      <td>No date available</td>\n",
       "      <td>No year available</td>\n",
       "    </tr>\n",
       "    <tr>\n",
       "      <th>2</th>\n",
       "      <td>Vpn gratuit au Mali</td>\n",
       "      <td>https://forums.commentcamarche.net/forum/affic...</td>\n",
       "      <td>No description available</td>\n",
       "      <td>No date available</td>\n",
       "      <td>No year available</td>\n",
       "    </tr>\n",
       "    <tr>\n",
       "      <th>3</th>\n",
       "      <td>la connection internet gratuite au mali</td>\n",
       "      <td>http://laban.centerblog.net/</td>\n",
       "      <td>No description available</td>\n",
       "      <td>No date available</td>\n",
       "      <td>No year available</td>\n",
       "    </tr>\n",
       "    <tr>\n",
       "      <th>4</th>\n",
       "      <td>Comment avoir internet gratuit chez orangemali</td>\n",
       "      <td>https://forums.commentcamarche.net/forum/affic...</td>\n",
       "      <td>No description available</td>\n",
       "      <td>No date available</td>\n",
       "      <td>No year available</td>\n",
       "    </tr>\n",
       "    <tr>\n",
       "      <th>...</th>\n",
       "      <td>...</td>\n",
       "      <td>...</td>\n",
       "      <td>...</td>\n",
       "      <td>...</td>\n",
       "      <td>...</td>\n",
       "    </tr>\n",
       "    <tr>\n",
       "      <th>95</th>\n",
       "      <td>Average Fraud Detection Supervisor Salary in B...</td>\n",
       "      <td>https://worldsalaries.com/average-fraud-detect...</td>\n",
       "      <td>No description available</td>\n",
       "      <td>No date available</td>\n",
       "      <td>No year available</td>\n",
       "    </tr>\n",
       "    <tr>\n",
       "      <th>96</th>\n",
       "      <td>ASToN network's Post</td>\n",
       "      <td>https://ml.linkedin.com/posts/aston-network_ba...</td>\n",
       "      <td>No description available</td>\n",
       "      <td>No date available</td>\n",
       "      <td>No year available</td>\n",
       "    </tr>\n",
       "    <tr>\n",
       "      <th>97</th>\n",
       "      <td>Move from Fraud Detection to Fraud Prevention ...</td>\n",
       "      <td>http://www.teradata.fr/Solutions/Fraud-Prevention</td>\n",
       "      <td>No description available</td>\n",
       "      <td>No date available</td>\n",
       "      <td>No year available</td>\n",
       "    </tr>\n",
       "    <tr>\n",
       "      <th>98</th>\n",
       "      <td>Be on your guard: The rising risk of Data Frauds</td>\n",
       "      <td>https://www.subex.com/blog/be-on-your-guard-th...</td>\n",
       "      <td>No description available</td>\n",
       "      <td>No date available</td>\n",
       "      <td>No year available</td>\n",
       "    </tr>\n",
       "    <tr>\n",
       "      <th>99</th>\n",
       "      <td>attempts of fraud recruitment in Sierra Leone ...</td>\n",
       "      <td>https://www.actioncontrelafaim.org/en/headline...</td>\n",
       "      <td>No description available</td>\n",
       "      <td>No date available</td>\n",
       "      <td>No year available</td>\n",
       "    </tr>\n",
       "  </tbody>\n",
       "</table>\n",
       "<p>100 rows × 5 columns</p>\n",
       "</div>"
      ],
      "text/plain": [
       "                                                Title   \n",
       "0             Connexion internet gratuite Orange Mali  \\\n",
       "1   Internet gratuit illimité Orange Mali (Astuces...   \n",
       "2                                 Vpn gratuit au Mali   \n",
       "3             la connection internet gratuite au mali   \n",
       "4      Comment avoir internet gratuit chez orangemali   \n",
       "..                                                ...   \n",
       "95  Average Fraud Detection Supervisor Salary in B...   \n",
       "96                               ASToN network's Post   \n",
       "97  Move from Fraud Detection to Fraud Prevention ...   \n",
       "98   Be on your guard: The rising risk of Data Frauds   \n",
       "99  attempts of fraud recruitment in Sierra Leone ...   \n",
       "\n",
       "                                                 Link   \n",
       "0    https://www.facebook.com/groups/373261044156562/  \\\n",
       "1   https://www.gb00tech.com/2020/12/internet-grat...   \n",
       "2   https://forums.commentcamarche.net/forum/affic...   \n",
       "3                        http://laban.centerblog.net/   \n",
       "4   https://forums.commentcamarche.net/forum/affic...   \n",
       "..                                                ...   \n",
       "95  https://worldsalaries.com/average-fraud-detect...   \n",
       "96  https://ml.linkedin.com/posts/aston-network_ba...   \n",
       "97  http://www.teradata.fr/Solutions/Fraud-Prevention   \n",
       "98  https://www.subex.com/blog/be-on-your-guard-th...   \n",
       "99  https://www.actioncontrelafaim.org/en/headline...   \n",
       "\n",
       "                 Description               Date               Year  \n",
       "0   No description available  No date available  No year available  \n",
       "1   No description available  No date available  No year available  \n",
       "2   No description available  No date available  No year available  \n",
       "3   No description available  No date available  No year available  \n",
       "4   No description available  No date available  No year available  \n",
       "..                       ...                ...                ...  \n",
       "95  No description available  No date available  No year available  \n",
       "96  No description available  No date available  No year available  \n",
       "97  No description available  No date available  No year available  \n",
       "98  No description available  No date available  No year available  \n",
       "99  No description available  No date available  No year available  \n",
       "\n",
       "[100 rows x 5 columns]"
      ]
     },
     "execution_count": 42,
     "metadata": {},
     "output_type": "execute_result"
    }
   ],
   "source": [
    "df"
   ]
  }
 ],
 "metadata": {
  "kernelspec": {
   "display_name": "Python 3 (ipykernel)",
   "language": "python",
   "name": "python3"
  },
  "language_info": {
   "codemirror_mode": {
    "name": "ipython",
    "version": 3
   },
   "file_extension": ".py",
   "mimetype": "text/x-python",
   "name": "python",
   "nbconvert_exporter": "python",
   "pygments_lexer": "ipython3",
   "version": "3.10.11"
  }
 },
 "nbformat": 4,
 "nbformat_minor": 5
}
