{
 "cells": [
  {
   "cell_type": "code",
   "execution_count": 3,
   "id": "9becfedb",
   "metadata": {},
   "outputs": [],
   "source": [
    "import streamlit as st\n",
    "\n",
    "st.set_page_config(\n",
    "        page_title=\"DFRA Fraude Data Detection\",\n",
    "        page_icon=\"\",initial_sidebar_state=\"expanded\"\n",
    "    )\n",
    "\n",
    "st.write(\"# DFRA-OML : <br> Welcome to our web scraping app !\", unsafe_allow_html=True)\n",
    "\n",
    "def show() : \n",
    "    \n",
    "    st.sidebar.success(\"Select a demo above.\")\n",
    "\n",
    "    st.markdown(\n",
    "        \"\"\"\n",
    "        <p style='color: Black and Neon Blue; font-size:20px;font-family: Arial; font-weight: bold'><strong> 👉 Web/Social media scraping relatif à la fraude Data.</strong></p>\n",
    "\n",
    "       <p style='color: Black and Neon Blue; font-size:18px'> Ces résultats nous permettent d'avoir une idée d'une par sur le niveau d'attraction des internautes sur la fraude data et d'autre part, de comprendre, les techniques & outils utilisés pour baypasser nos système de facturation. Cela pourrait aider à prendre des décision afin de réduire le volume trafic data frauduleux.</p>\n",
    "        <p style='color: darq green; font-size:20px;font-family: Arial; font-weight: bold'><strong> 👉 Source des données :</strong> </p> \n",
    "        <h2 style='color: Black and Neon Blue; font-size:15px;font-weight: bold' '>Google, Facebook, Instagram, Twitter, Telegram.</h2> </p>\n",
    "        <p style='color: Black and Neon Blue; font-size:18px'> Pour chacune des sources, il existe des packages Python ou APIs dédiés pour le scraping.\n",
    "        Les données extraites sont compilées, nétoyées et analysées à des fin de visualisation.</p>\n",
    "        <p style='color: darq green; font-size:20px;font-family: Arial; font-weight: bold'><strong>👈 Select a page from the sidebar ! </strong> </p>\n",
    "    )"
   ]
  }
 ],
 "metadata": {
  "kernelspec": {
   "display_name": "Python 3 (ipykernel)",
   "language": "python",
   "name": "python3"
  },
  "language_info": {
   "codemirror_mode": {
    "name": "ipython",
    "version": 3
   },
   "file_extension": ".py",
   "mimetype": "text/x-python",
   "name": "python",
   "nbconvert_exporter": "python",
   "pygments_lexer": "ipython3",
   "version": "3.10.11"
  }
 },
 "nbformat": 4,
 "nbformat_minor": 5
}
