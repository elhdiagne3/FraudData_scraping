{
 "cells": [
  {
   "cell_type": "code",
   "execution_count": 1,
   "id": "1dc16f1d",
   "metadata": {},
   "outputs": [
    {
     "name": "stderr",
     "output_type": "stream",
     "text": [
      "2023-11-07 14:06:05.806 \n",
      "  \u001b[33m\u001b[1mWarning:\u001b[0m to view this Streamlit app on a browser, run it with the following\n",
      "  command:\n",
      "\n",
      "    streamlit run C:\\Users\\diagne080894\\Documents\\Min\\envs\\pyenv1\\lib\\site-packages\\ipykernel_launcher.py [ARGUMENTS]\n",
      "2023-11-07 14:06:05.941 No runtime found, using MemoryCacheStorageManager\n",
      "2023-11-07 14:06:05.943 No runtime found, using MemoryCacheStorageManager\n"
     ]
    }
   ],
   "source": [
    "# Contents of ~/my_app/streamlit_app.py\n",
    "\n",
    "import time  # to simulate a real time data, time loop\n",
    "from PIL import Image\n",
    "import numpy as np  # np mean, np random\n",
    "import pandas as pd  # read csv, df manipulation\n",
    "import plotly.express as px  # interactive charts\n",
    "import streamlit as st  # 🎈 data web app development\n",
    "import plotly.express as px\n",
    "import matplotlib.pyplot as plt\n",
    "from typing import List, Tuple\n",
    "\n",
    "st.set_page_config(\n",
    "        page_title=\"DFRA Fraude Data Detection\",\n",
    "        page_icon=\"\"\n",
    "    )\n",
    "\n",
    "st.write(\"# DFRA-OML : <br> Welcome to our web scraping app !\", unsafe_allow_html=True)\n",
    "\n",
    "def main_page():\n",
    "    st.sidebar.success(\"Home\")\n",
    "\n",
    "    st.markdown(\n",
    "        \"\"\"\n",
    "        <p style='color: Black and Neon Blue; font-size:20px;font-family: Arial; font-weight: bold'><strong> 👉 Web/Social media scraping relatif à la fraude Data.</strong></p>\n",
    "\n",
    "       <p style='color: Black and Neon Blue; font-size:18px'> Ces résultats nous permettent d'avoir une idée d'une par sur le niveau d'attraction des internautes sur la fraude data et d'autre part, de comprendre, les techniques & outils utilisés pour baypasser nos système de facturation. Cela pourrait aider à prendre des décision afin de réduire le volume trafic data frauduleux.</p>\n",
    "        <p style='color: darq green; font-size:20px;font-family: Arial; font-weight: bold'><strong> 👉 Source des données :</strong> </p> \n",
    "        <h2 style='color: Black and Neon Blue; font-size:15px;font-weight: bold' '>Google, Facebook, Instagram, Twitter, Telegram.</h2> </p>\n",
    "        <p style='color: Black and Neon Blue; font-size:18px'> Pour chacune des sources, il existe des packages Python ou APIs dédiés pour le scraping.\n",
    "        Les données extraites sont compilées, nétoyées et analysées à des fin de visualisation.</p>\n",
    "        <p style='color: darq green; font-size:20px;font-family: Arial; font-weight: bold'><strong>👈 Select a page from the sidebar ! </strong> </p>\n",
    "\n",
    "        ### Want to learn more?\n",
    "        - Check out [streamlit.io](https://streamlit.io)\n",
    "        - Jump into our [documentation](https://docs.streamlit.io)\n",
    "        - Ask a question in our [community\n",
    "            forums](https://discuss.streamlit.io)\n",
    "        ### See more complex demos\n",
    "        - Use a neural net to [analyze the Udacity Self-driving Car Image\n",
    "            Dataset](https://github.com/streamlit/demo-self-driving)\n",
    "        - Explore a [New York City rideshare dataset](https://github.com/streamlit/demo-uber-nyc-pickups)\n",
    "    \"\"\", unsafe_allow_html=True\n",
    "    )\n",
    "\n",
    "\n",
    "def page2():\n",
    "st.markdown(\"# Page 2 ❄️\")\n",
    "st.sidebar.markdown(\"# Page 2 ❄️\")\n",
    "\n",
    "def page3():\n",
    "st.markdown(\"# Page 3 🎉\")\n",
    "st.sidebar.markdown(\"# Page 3 🎉\")\n",
    "\n",
    "page_names_to_funcs = {\n",
    "\"Main Page\": main_page,\n",
    "\"Page 2\": page2,\n",
    "\"Page 3\": page3,\n",
    "}\n",
    "\n",
    "selected_page = st.sidebar.selectbox(\"Select a page\", page_names_to_funcs.keys())\n",
    "page_names_to_funcs[selected_page]()"
   ]
  }
 ],
 "metadata": {
  "kernelspec": {
   "display_name": "Python 3 (ipykernel)",
   "language": "python",
   "name": "python3"
  },
  "language_info": {
   "codemirror_mode": {
    "name": "ipython",
    "version": 3
   },
   "file_extension": ".py",
   "mimetype": "text/x-python",
   "name": "python",
   "nbconvert_exporter": "python",
   "pygments_lexer": "ipython3",
   "version": "3.10.11"
  }
 },
 "nbformat": 4,
 "nbformat_minor": 5
}
